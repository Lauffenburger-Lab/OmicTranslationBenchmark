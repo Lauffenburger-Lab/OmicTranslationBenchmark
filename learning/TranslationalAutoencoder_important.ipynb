{
 "cells": [
  {
   "cell_type": "code",
   "execution_count": 1,
   "id": "c7be1897",
   "metadata": {},
   "outputs": [],
   "source": [
    "from __future__ import absolute_import, division\n",
    "from tqdm.auto import tqdm\n",
    "import torch\n",
    "import torch.nn.functional as F\n",
    "from trainingUtils import MultipleOptimizer, MultipleScheduler, compute_kernel, compute_mmd\n",
    "from models import Encoder,Decoder,VAE,CellStateEncoder,CellStateDecoder, CellStateVAE,SimpleEncoder,PriorDiscriminator,LocalDiscriminator\n",
    "# import argparse\n",
    "import numpy as np\n",
    "import pandas as pd\n",
    "import sys\n",
    "import random\n",
    "import os\n",
    "from IPython.display import clear_output\n",
    "from matplotlib import pyplot as plt\n",
    "import math\n",
    "\n",
    "#from scipy.stats import pearsonr\n",
    "from scipy.stats import spearmanr\n",
    "from sklearn.metrics import confusion_matrix\n",
    "from evaluationUtils import r_square,get_cindex,pearson_r,pseudoAccuracy\n",
    "\n",
    "from captum.attr import IntegratedGradients\n",
    "from captum.attr import LayerConductance\n",
    "from captum.attr import NeuronConductance\n",
    "\n",
    "#os.environ['CUDA_LAUNCH_BLOCKING'] = \"0\"\n",
    "#os.environ['CUDA_VISIBLE_DEVICES'] = \"0\""
   ]
  },
  {
   "cell_type": "code",
   "execution_count": 2,
   "id": "24e1d6d2",
   "metadata": {},
   "outputs": [],
   "source": [
    "device = torch.device('cuda')"
   ]
  },
  {
   "cell_type": "code",
   "execution_count": 3,
   "id": "8635831b",
   "metadata": {},
   "outputs": [],
   "source": [
    "# Initialize environment and seeds for reproducability\n",
    "torch.backends.cudnn.benchmark = True\n",
    "\n",
    "\n",
    "def seed_everything(seed=42):\n",
    "    random.seed(seed)\n",
    "    torch.manual_seed(seed)\n",
    "    torch.cuda.manual_seed_all(seed)\n",
    "    np.random.seed(seed)\n",
    "    os.environ['PYTHONHASHSEED'] = str(seed)\n",
    "    torch.backends.cudnn.benchmark = False\n",
    "    \n",
    "# Read data\n",
    "# cmap = pd.read_csv('../preprocessing/preprocessed_data/cmap_landmarks_HT29_A375.csv',index_col = 0)\n",
    "cmap = pd.read_csv('../preprocessing/preprocessed_data/cmap_HA1E_PC3.csv',index_col = 0)\n",
    "\n",
    "gene_size = len(cmap.columns)\n",
    "samples = cmap.index.values\n",
    "# gene_size = len(cmap_tf.columns)\n",
    "# samples = cmap_tf.index.values\n",
    "\n",
    "# sampleInfo = pd.read_csv('../preprocessing/preprocessed_data/conditions_HT29_A375.csv',index_col = 0)\n",
    "sampleInfo_a375 = pd.read_csv('../preprocessing/preprocessed_data/10fold_validation_spit/alldata/pc3_unpaired.csv',index_col=0)\n",
    "sampleInfo_ht29 = pd.read_csv('../preprocessing/preprocessed_data/10fold_validation_spit/alldata/ha1e_unpaired.csv',index_col=0)\n",
    "sampleInfo_paired = pd.read_csv('../preprocessing/preprocessed_data/10fold_validation_spit/alldata/paired_pc3_ha1e.csv',index_col=0)"
   ]
  },
  {
   "cell_type": "code",
   "execution_count": 4,
   "id": "ec28127b",
   "metadata": {},
   "outputs": [],
   "source": [
    "# # Network\n",
    "# # encoder_a375 = Encoder(gene_size,[640,384],292,dropRate=0.1, activation=torch.nn.ELU())\n",
    "# # decoder_a375 = Decoder(292,[384,640],gene_size,dropRate=0.2, activation=torch.nn.ELU())\n",
    "# encoder_a375 = Encoder(gene_size,[4096,2048],1024,dropRate=0.1, activation=torch.nn.ELU())\n",
    "# decoder_a375 = Decoder(1024,[2048,4096],gene_size,dropRate=0.2, activation=torch.nn.ELU())\n",
    "# autoencoder_a375 = VAE(encoder_a375,decoder_a375,device).to(device)"
   ]
  },
  {
   "cell_type": "code",
   "execution_count": 5,
   "id": "617ddd7e",
   "metadata": {},
   "outputs": [],
   "source": [
    "# # Network\n",
    "# # encoder_ht29 = Encoder(gene_size,[640,384],292,dropRate=0.1, activation=torch.nn.ELU())\n",
    "# # decoder_ht29 = Decoder(292,[384,640],gene_size,dropRate=0.2, activation=torch.nn.ELU())\n",
    "# encoder_ht29 = Encoder(gene_size,[4096,2048],1024,dropRate=0.1, activation=torch.nn.ELU())\n",
    "# decoder_ht29 = Decoder(1024,[2048,4096],gene_size,dropRate=0.2, activation=torch.nn.ELU())\n",
    "# autoencoder_ht29 = VAE(encoder_ht29,decoder_ht29,device).to(device)"
   ]
  },
  {
   "cell_type": "code",
   "execution_count": 6,
   "id": "5aaf7394",
   "metadata": {},
   "outputs": [],
   "source": [
    "class CellBinaryClassifier(torch.nn.Module):\n",
    "    def __init__(self,in_channel,hidden_layers,drop_in=0.5,drop=0.2,bn=0.6,bias=True):\n",
    "        super(CellBinaryClassifier, self).__init__()\n",
    "        self.drop_in = drop_in\n",
    "        self.num_hidden_layers = len(hidden_layers)\n",
    "        self.bias = bias\n",
    "        self.bn = torch.nn.ModuleList()\n",
    "        self.linear_layers = torch.nn.ModuleList()\n",
    "        self.dropouts = torch.nn.ModuleList()\n",
    "        self.activations = torch.nn.ModuleList()\n",
    "        self.linear_layers.append(torch.nn.Linear(in_channel, hidden_layers[0], bias=bias))\n",
    "        self.bn.append(torch.nn.BatchNorm1d(num_features=hidden_layers[0], momentum=bn))\n",
    "        self.dropouts.append(torch.nn.Dropout(drop))\n",
    "        self.activations.append(torch.nn.ReLU())\n",
    "        for i in range(1, len(hidden_layers)):\n",
    "            self.linear_layers.append(torch.nn.Linear(hidden_layers[i - 1], hidden_layers[i], \n",
    "                                                      bias=bias))\n",
    "            self.bn.append(torch.nn.BatchNorm1d(num_features=hidden_layers[i], momentum=bn))\n",
    "            self.dropouts.append(torch.nn.Dropout(drop))\n",
    "            self.activations.append(torch.nn.ReLU())\n",
    "        self.out_linear = torch.nn.Linear(hidden_layers[i],2,bias=bias)\n",
    "        self.softmax = torch.nn.Softmax(dim=1)\n",
    "        if self.drop_in>0:\n",
    "            self.InputDrop = torch.nn.Dropout(self.drop_in)\n",
    "        \n",
    "        self.init_emb()\n",
    "\n",
    "    def init_emb(self):\n",
    "        for m in self.modules():\n",
    "            if isinstance(m, torch.nn.Linear):\n",
    "                torch.nn.init.xavier_uniform_(m.weight.data)\n",
    "                if m.bias is not None:\n",
    "                    m.bias.data.fill_(0.0)\n",
    "    \n",
    "    def forward(self,x):\n",
    "        if self.drop_in>0:\n",
    "            x = self.InputDrop(x)\n",
    "        for i in range(self.num_hidden_layers):\n",
    "            x = self.linear_layers[i](x)\n",
    "            x = self.bn[i](x)\n",
    "            x = self.activations[i](x)\n",
    "            x = self.dropouts[i](x)\n",
    "            \n",
    "        return self.softmax(self.out_linear(x))\n",
    "    \n",
    "    def L2Regularization(self, L2):\n",
    "\n",
    "        weightLoss = 0.\n",
    "        biasLoss = 0.\n",
    "        for i in range(self.num_hidden_layers):\n",
    "            weightLoss = weightLoss + L2 * torch.sum((self.linear_layers[i].weight)**2)\n",
    "            if self.bias==True:\n",
    "                biasLoss = biasLoss + L2 * torch.sum((self.linear_layers[i].bias)**2)\n",
    "        L2Loss = biasLoss + weightLoss\n",
    "        return(L2Loss)"
   ]
  },
  {
   "cell_type": "code",
   "execution_count": 7,
   "id": "e53df6e9",
   "metadata": {},
   "outputs": [],
   "source": [
    "# Network\n",
    "decoder_a375 = Decoder(1024,[2048,4096],gene_size,dropRate=0.2, activation=torch.nn.ELU()).to(device)\n",
    "decoder_ht29 = Decoder(1024,[2048,4096],gene_size,dropRate=0.2, activation=torch.nn.ELU()).to(device)\n",
    "    \n",
    "# Infomax\n",
    "#master_encoder = SimpleEncoder(gene_size,[640,384],292,dropRate=0.1, activation=torch.nn.ELU())#.to(device)\n",
    "encoder_a375 = SimpleEncoder(gene_size,[4096,2048],1024,dropRate=0.1, activation=torch.nn.ELU()).to(device)\n",
    "encoder_ht29 = SimpleEncoder(gene_size,[4096,2048],1024,dropRate=0.1, activation=torch.nn.ELU()).to(device)\n",
    "prior_d = PriorDiscriminator(1024).to(device)\n",
    "local_d = LocalDiscriminator(1024,1024).to(device)\n",
    "classifier = CellBinaryClassifier(in_channel=1024,hidden_layers=[512,256,128],drop_in=0.5,drop=0.25).to(device)"
   ]
  },
  {
   "cell_type": "code",
   "execution_count": 10,
   "id": "8dbcadf4",
   "metadata": {},
   "outputs": [],
   "source": [
    "# Create a train generators\n",
    "def getSamples(N, batchSize):\n",
    "    order = np.random.permutation(N)\n",
    "    outList = []\n",
    "    while len(order)>0:\n",
    "        outList.append(order[0:batchSize])\n",
    "        order = order[batchSize:]\n",
    "    return outList"
   ]
  },
  {
   "cell_type": "code",
   "execution_count": 11,
   "id": "c1b60f30",
   "metadata": {},
   "outputs": [],
   "source": [
    "NUM_EPOCHS = 1000\n",
    "#bs = 512\n",
    "bs_a375 = 178\n",
    "bs_ht29 = 154\n",
    "bs_paired = 90\n",
    "beta=1.0\n",
    "class_criterion = torch.nn.CrossEntropyLoss()"
   ]
  },
  {
   "cell_type": "code",
   "execution_count": 12,
   "id": "b3baf16e",
   "metadata": {},
   "outputs": [],
   "source": [
    "allParams = list(decoder_a375.parameters()) +list(decoder_ht29.parameters())\n",
    "allParams = allParams + list(encoder_a375.parameters()) +list(encoder_ht29.parameters())\n",
    "allParams = allParams + list(prior_d.parameters()) + list(local_d.parameters())\n",
    "allParams = allParams + list(classifier.parameters())\n",
    "optimizer = torch.optim.Adam(allParams, lr= 0.001, weight_decay=0)\n",
    "scheduler = torch.optim.lr_scheduler.StepLR(optimizer,step_size=300,gamma=0.8)\n",
    "\n",
    "N_paired = len(sampleInfo_paired)\n",
    "N_a375 = len(sampleInfo_a375)\n",
    "N_ht29 = len(sampleInfo_ht29)\n",
    "N = N_a375\n",
    "if N_ht29>N:\n",
    "    N=N_ht29\n",
    "\n",
    "curLoss = []\n",
    "curR2 = []\n",
    "curPearson = []\n",
    "curMSE = []"
   ]
  },
  {
   "cell_type": "code",
   "execution_count": 8,
   "id": "e8444b00",
   "metadata": {},
   "outputs": [],
   "source": [
    "# allParams = list(autoencoder_a375.parameters()) +list(autoencoder_ht29.parameters())\n",
    "# optimizer = torch.optim.Adam(allParams, lr= 0.001, weight_decay=0)\n",
    "# scheduler = torch.optim.lr_scheduler.StepLR(optimizer,step_size=300,gamma=0.8)\n",
    "\n",
    "# N_paired = len(sampleInfo_paired)\n",
    "# N_a375 = len(sampleInfo_a375)\n",
    "# N_ht29 = len(sampleInfo_ht29)\n",
    "# N = N_a375\n",
    "# if N_ht29>N:\n",
    "#     N=N_ht29\n",
    "# curLoss = []\n",
    "# curR2 = []\n",
    "# curPearson = []\n",
    "# curMSE = []"
   ]
  },
  {
   "cell_type": "code",
   "execution_count": 14,
   "id": "878d4ed2",
   "metadata": {},
   "outputs": [],
   "source": [
    "stats = {}\n",
    "stats['loss'] = float('nan')*np.ones(NUM_EPOCHS)\n",
    "stats['lossSTD'] = float('nan')*np.ones(NUM_EPOCHS)\n",
    "stats['R2'] = float('nan')*np.ones(NUM_EPOCHS)\n",
    "stats['R2STD'] = float('nan')*np.ones(NUM_EPOCHS)\n",
    "stats['pearson_r'] = float('nan')*np.ones(NUM_EPOCHS)\n",
    "stats['pearson_rSTD'] = float('nan')*np.ones(NUM_EPOCHS)\n",
    "stats['MSE'] = float('nan')*np.ones(NUM_EPOCHS)\n",
    "stats['MSESTD'] = float('nan')*np.ones(NUM_EPOCHS)"
   ]
  },
  {
   "cell_type": "code",
   "execution_count": 15,
   "id": "4367bcdf",
   "metadata": {},
   "outputs": [],
   "source": [
    "#randomMSE = torch.mean(torch.mean((x.detach() - torch.mean(x.detach()))**2,dim=1))\n",
    "#print(randomMSE)"
   ]
  },
  {
   "cell_type": "code",
   "execution_count": 16,
   "id": "be8340dc",
   "metadata": {},
   "outputs": [],
   "source": [
    "# recon_loss = torch.nn.MSELoss()"
   ]
  },
  {
   "cell_type": "code",
   "execution_count": 17,
   "id": "887c56e7",
   "metadata": {},
   "outputs": [
    {
     "name": "stdout",
     "output_type": "stream",
     "text": [
      "Epoch=1000/1000, r2_a375=0.8937, pearson_a375=0.9517, MSE_a375=0.0952, r2_ht29=0.9021, pearson_ht29=0.9502, MSE_ht29=0.1060, MI Loss=-0.7087, Prior Loss=0.0000, Entropy Loss=0.3749, loss=2518.3042\n"
     ]
    }
   ],
   "source": [
    "for e in range(0, NUM_EPOCHS):\n",
    "    decoder_a375.train()\n",
    "    decoder_ht29.train()\n",
    "    encoder_a375.train()\n",
    "    encoder_ht29.train()\n",
    "    prior_d.train()\n",
    "    local_d.train()\n",
    "    \n",
    "    trainloader_a375 = getSamples(N_a375, bs_a375)\n",
    "    len_a375 = len(trainloader_a375)\n",
    "    trainloader_ht29 = getSamples(N_ht29, bs_ht29)\n",
    "    len_ht29 = len(trainloader_ht29)\n",
    "    trainloader_paired = getSamples(N_paired, bs_paired)\n",
    "    len_paired = len(trainloader_paired)\n",
    "\n",
    "    lens = [len_a375,len_ht29,len_paired]\n",
    "    maxLen = np.max(lens)\n",
    "\n",
    "    if maxLen>lens[0]:\n",
    "        trainloader_suppl = getSamples(N_a375, bs_a375)\n",
    "        for jj in range(maxLen-lens[0]):\n",
    "            trainloader_a375.insert(jj,trainloader_suppl[jj])\n",
    "        \n",
    "    if maxLen>lens[1]:\n",
    "        trainloader_suppl = getSamples(N_ht29, bs_ht29)\n",
    "        for jj in range(maxLen-lens[1]):\n",
    "            trainloader_ht29.insert(jj,trainloader_suppl[jj])\n",
    "        \n",
    "    if maxLen>lens[2]:\n",
    "        trainloader_suppl = getSamples(N_paired, bs_paired)\n",
    "        for jj in range(maxLen-lens[2]):\n",
    "            trainloader_paired.insert(jj,trainloader_suppl[jj])\n",
    "    #for dataIndex in trainloader:\n",
    "    for j in range(maxLen):\n",
    "        dataIndex_a375 = trainloader_a375[j]\n",
    "        dataIndex_ht29 = trainloader_ht29[j]\n",
    "        dataIndex_paired = trainloader_paired[j]\n",
    "            \n",
    "        df_pairs = sampleInfo_paired.iloc[dataIndex_paired,:]\n",
    "        df_a375 = sampleInfo_a375.iloc[dataIndex_a375,:]\n",
    "        df_ht29 = sampleInfo_ht29.iloc[dataIndex_ht29,:]\n",
    "        paired_inds = len(df_pairs)\n",
    "                      \n",
    "        X_a375 = torch.tensor(np.concatenate((cmap.loc[df_pairs['sig_id.x']].values,\n",
    "                                              cmap.loc[df_a375.sig_id].values))).float().to(device)\n",
    "        X_ht29 = torch.tensor(np.concatenate((cmap.loc[df_pairs['sig_id.y']].values,\n",
    "                                              cmap.loc[df_ht29.sig_id].values))).float().to(device)\n",
    "            \n",
    "            \n",
    "        conditions = np.concatenate((df_pairs.conditionId.values,\n",
    "                                     df_a375.conditionId.values,\n",
    "                                     df_pairs.conditionId.values,\n",
    "                                     df_ht29.conditionId.values))\n",
    "        size = conditions.size\n",
    "        conditions = conditions.reshape(size,1)\n",
    "        conditions = conditions == conditions.transpose()\n",
    "        conditions = conditions*1\n",
    "        mask = torch.tensor(conditions).to(device).detach()\n",
    "        pos_mask = mask\n",
    "        neg_mask = 1 - mask\n",
    "        log_2 = math.log(2.)\n",
    "        optimizer.zero_grad()\n",
    "       \n",
    "        z_a375 = encoder_a375(X_a375)\n",
    "        z_ht29 = encoder_ht29(X_ht29)\n",
    "            \n",
    "        z_un = local_d(torch.cat((z_a375, z_ht29), 0))\n",
    "        res_un = torch.matmul(z_un, z_un.t())\n",
    "            \n",
    "        y_pred_a375 = decoder_a375(z_a375)\n",
    "        fitLoss_a375 = torch.mean(torch.sum((y_pred_a375 - X_a375)**2,dim=1))\n",
    "        L2Loss_a375 = decoder_a375.L2Regularization(0.01) + encoder_a375.L2Regularization(0.01)\n",
    "        loss_a375 = fitLoss_a375 + L2Loss_a375\n",
    "            \n",
    "        y_pred_ht29 = decoder_ht29(z_ht29)\n",
    "        fitLoss_ht29 = torch.mean(torch.sum((y_pred_ht29 - X_ht29)**2,dim=1))\n",
    "        L2Loss_ht29 = decoder_ht29.L2Regularization(0.01) + encoder_ht29.L2Regularization(0.01)\n",
    "        loss_ht29 = fitLoss_ht29 + L2Loss_ht29\n",
    "        \n",
    "        silimalityLoss = torch.mean(torch.sum((z_a375[0:paired_inds,:] - z_ht29[0:paired_inds,:])**2,dim=-1))\n",
    "            \n",
    "        p_samples = res_un * pos_mask.float()\n",
    "        q_samples = res_un * neg_mask.float()\n",
    "\n",
    "        Ep = log_2 - F.softplus(- p_samples)\n",
    "        Eq = F.softplus(-q_samples) + q_samples - log_2\n",
    "\n",
    "        Ep = (Ep * pos_mask.float()).sum() / pos_mask.float().sum()\n",
    "        Eq = (Eq * neg_mask.float()).sum() / neg_mask.float().sum()\n",
    "        mi_loss = Eq - Ep\n",
    "\n",
    "        prior = torch.rand_like(torch.cat((z_a375, z_ht29), 0))\n",
    "\n",
    "        term_a = torch.log(prior_d(prior)).mean()\n",
    "        term_b = torch.log(1.0 - prior_d(torch.cat((z_a375, z_ht29), 0))).mean()\n",
    "        prior_loss = -(term_a + term_b) * beta\n",
    "        \n",
    "        labels = classifier(torch.cat((z_a375, z_ht29), 0))\n",
    "        true_labels = torch.cat((torch.ones(z_a375.shape[0]),\n",
    "                                 torch.zeros(z_ht29.shape[0])),0).long().to(device)\n",
    "        entropy = class_criterion(labels,true_labels)\n",
    "            \n",
    "        loss = loss_a375 + loss_ht29 + mi_loss + prior_loss + silimalityLoss + 100*entropy +classifier.L2Regularization(1e-2)\n",
    "        \n",
    "        \n",
    "        loss.backward()\n",
    "\n",
    "        optimizer.step()\n",
    "        \n",
    "        pearson_a375 = pearson_r(y_pred_a375.detach().flatten(), X_a375.detach().flatten())\n",
    "        r2_a375 = r_square(y_pred_a375.detach().flatten(), X_a375.detach().flatten())\n",
    "        mse_a375 = torch.mean(torch.mean((y_pred_a375.detach() - X_a375.detach())**2,dim=1))\n",
    "        \n",
    "        pearson_ht29 = pearson_r(y_pred_ht29.detach().flatten(), X_ht29.detach().flatten())\n",
    "        r2_ht29 = r_square(y_pred_ht29.detach().flatten(), X_ht29.detach().flatten())\n",
    "        mse_ht29 = torch.mean(torch.mean((y_pred_ht29.detach() - X_ht29.detach())**2,dim=1))\n",
    "        \n",
    "        curMSE.append(0.5*(mse_a375.item()+mse_ht29.item()))\n",
    "        curR2.append(0.5*(r2_a375.item()+r2_ht29.item()))\n",
    "        curPearson.append(0.5*(pearson_a375.item()+pearson_ht29.item()))\n",
    "        curLoss.append(loss.item())\n",
    "    scheduler.step()\n",
    "    #if (e==0 or (e+1)%50==0):\n",
    "    outString = 'Epoch={:.0f}/{:.0f}'.format(e+1,NUM_EPOCHS)\n",
    "    outString += ', r2_a375={:.4f}'.format(r2_a375.item())\n",
    "    outString += ', pearson_a375={:.4f}'.format(pearson_a375.item())\n",
    "    outString += ', MSE_a375={:.4f}'.format(mse_a375.item())\n",
    "    outString += ', r2_ht29={:.4f}'.format(r2_ht29.item())\n",
    "    outString += ', pearson_ht29={:.4f}'.format(pearson_ht29.item())\n",
    "    outString += ', MSE_ht29={:.4f}'.format(mse_ht29.item())\n",
    "    outString += ', MI Loss={:.4f}'.format(mi_loss.item())\n",
    "    outString += ', Prior Loss={:.4f}'.format(prior_loss.item())\n",
    "    outString += ', Entropy Loss={:.4f}'.format(entropy.item())\n",
    "    outString += ', loss={:.4f}'.format(loss.item())\n",
    "    print(outString)\n",
    "    stats['loss'][e] = np.mean(np.array(curLoss))\n",
    "    stats['lossSTD'][e] = np.std(np.array(curLoss))\n",
    "    stats['pearson_r'][e]= np.mean(np.array(curPearson))\n",
    "    stats['pearson_rSTD'][e] = np.std(np.array(curPearson))\n",
    "    stats['R2'][e]= np.mean(np.array(curR2))\n",
    "    stats['R2STD'][e] = np.std(np.array(curR2))\n",
    "    stats['MSE'][e]= np.mean(np.array(curMSE))\n",
    "    stats['MSESTD'][e] = np.std(np.array(curMSE))\n",
    "    clear_output(wait=True)"
   ]
  },
  {
   "cell_type": "code",
   "execution_count": 18,
   "id": "4e06cb65",
   "metadata": {},
   "outputs": [
    {
     "name": "stdout",
     "output_type": "stream",
     "text": [
      "Evaluate mode\n"
     ]
    }
   ],
   "source": [
    "decoder_a375.eval()\n",
    "decoder_ht29.eval()\n",
    "encoder_a375.eval()\n",
    "encoder_ht29.eval()\n",
    "prior_d.eval()\n",
    "local_d.eval()\n",
    "classifier.eval()\n",
    "print('Evaluate mode')"
   ]
  },
  {
   "cell_type": "code",
   "execution_count": 19,
   "id": "d0996da8",
   "metadata": {},
   "outputs": [],
   "source": [
    "x_a375 = torch.tensor(np.concatenate((cmap.loc[sampleInfo_paired['sig_id.x']].values,\n",
    "                                      cmap.loc[sampleInfo_a375.sig_id].values))).float().to(device)\n",
    "x_ht29 = torch.tensor(np.concatenate((cmap.loc[sampleInfo_paired['sig_id.y']].values,\n",
    "                                      cmap.loc[sampleInfo_ht29.sig_id].values))).float().to(device)\n",
    "# z_latent_a375 , xhat_a375 = autoencoder_a375(x_a375)\n",
    "# z_latent_ht29 , xhat_ht29 = autoencoder_ht29(x_ht29)\n",
    "z_latent_a375  = encoder_a375(x_a375)\n",
    "xhat_a375 = decoder_a375(z_latent_a375)\n",
    "z_latent_ht29  = encoder_ht29(x_ht29)\n",
    "xhat_ht29 = decoder_ht29(z_latent_ht29)"
   ]
  },
  {
   "cell_type": "code",
   "execution_count": 26,
   "id": "46665c97",
   "metadata": {},
   "outputs": [
    {
     "name": "stdout",
     "output_type": "stream",
     "text": [
      "F1 score:0.9996615905245347\n",
      "Accuracy:0.9996056782334385\n"
     ]
    }
   ],
   "source": [
    "labels = classifier(torch.cat((z_latent_a375, z_latent_ht29), 0))\n",
    "true_labels = torch.cat((torch.ones(z_latent_a375.shape[0]).view(z_latent_a375.shape[0],1),\n",
    "                         torch.zeros(z_latent_ht29.shape[0]).view(z_latent_ht29.shape[0],1)),0).long()\n",
    "_, predicted = torch.max(labels, 1)\n",
    "predicted = predicted.cpu().numpy()\n",
    "cf_matrix = confusion_matrix(true_labels.numpy(),predicted)\n",
    "tn, fp, fn, tp = cf_matrix.ravel()\n",
    "class_acc = (tp+tn)/predicted.size\n",
    "f1 = 2*tp/(2*tp+fp+fn)\n",
    "print('F1 score:%s'%f1)\n",
    "print('Accuracy:%s'%class_acc)"
   ]
  },
  {
   "cell_type": "code",
   "execution_count": 27,
   "id": "4ece773b",
   "metadata": {},
   "outputs": [
    {
     "data": {
      "text/html": [
       "<div>\n",
       "<style scoped>\n",
       "    .dataframe tbody tr th:only-of-type {\n",
       "        vertical-align: middle;\n",
       "    }\n",
       "\n",
       "    .dataframe tbody tr th {\n",
       "        vertical-align: top;\n",
       "    }\n",
       "\n",
       "    .dataframe thead th {\n",
       "        text-align: right;\n",
       "    }\n",
       "</style>\n",
       "<table border=\"1\" class=\"dataframe\">\n",
       "  <thead>\n",
       "    <tr style=\"text-align: right;\">\n",
       "      <th></th>\n",
       "      <th>z0</th>\n",
       "      <th>z1</th>\n",
       "      <th>z2</th>\n",
       "      <th>z3</th>\n",
       "      <th>z4</th>\n",
       "      <th>z5</th>\n",
       "      <th>z6</th>\n",
       "      <th>z7</th>\n",
       "      <th>z8</th>\n",
       "      <th>z9</th>\n",
       "      <th>...</th>\n",
       "      <th>z1014</th>\n",
       "      <th>z1015</th>\n",
       "      <th>z1016</th>\n",
       "      <th>z1017</th>\n",
       "      <th>z1018</th>\n",
       "      <th>z1019</th>\n",
       "      <th>z1020</th>\n",
       "      <th>z1021</th>\n",
       "      <th>z1022</th>\n",
       "      <th>z1023</th>\n",
       "    </tr>\n",
       "  </thead>\n",
       "  <tbody>\n",
       "    <tr>\n",
       "      <th>ASG002_PC3_24H:B07</th>\n",
       "      <td>0.084165</td>\n",
       "      <td>-0.282866</td>\n",
       "      <td>0.194297</td>\n",
       "      <td>-0.173088</td>\n",
       "      <td>0.053098</td>\n",
       "      <td>0.008374</td>\n",
       "      <td>-0.070605</td>\n",
       "      <td>0.199455</td>\n",
       "      <td>0.146483</td>\n",
       "      <td>0.634891</td>\n",
       "      <td>...</td>\n",
       "      <td>-0.464844</td>\n",
       "      <td>-0.496080</td>\n",
       "      <td>1.046736</td>\n",
       "      <td>-0.176101</td>\n",
       "      <td>-0.267111</td>\n",
       "      <td>-0.385607</td>\n",
       "      <td>0.489603</td>\n",
       "      <td>-0.282838</td>\n",
       "      <td>0.255659</td>\n",
       "      <td>0.029781</td>\n",
       "    </tr>\n",
       "    <tr>\n",
       "      <th>PBIOA017_PC3_24H:G07</th>\n",
       "      <td>0.297650</td>\n",
       "      <td>0.723474</td>\n",
       "      <td>-1.715533</td>\n",
       "      <td>-0.477011</td>\n",
       "      <td>-0.010182</td>\n",
       "      <td>-0.273578</td>\n",
       "      <td>-0.141500</td>\n",
       "      <td>0.696504</td>\n",
       "      <td>0.249116</td>\n",
       "      <td>-0.148086</td>\n",
       "      <td>...</td>\n",
       "      <td>-0.991016</td>\n",
       "      <td>0.115972</td>\n",
       "      <td>0.143522</td>\n",
       "      <td>-0.733313</td>\n",
       "      <td>-0.430543</td>\n",
       "      <td>0.399422</td>\n",
       "      <td>-0.387624</td>\n",
       "      <td>-0.529235</td>\n",
       "      <td>0.143531</td>\n",
       "      <td>0.148648</td>\n",
       "    </tr>\n",
       "    <tr>\n",
       "      <th>LJP006_PC3_24H:G19</th>\n",
       "      <td>0.766415</td>\n",
       "      <td>-0.459978</td>\n",
       "      <td>0.352857</td>\n",
       "      <td>-0.051889</td>\n",
       "      <td>-0.033388</td>\n",
       "      <td>-0.774758</td>\n",
       "      <td>0.077399</td>\n",
       "      <td>0.032808</td>\n",
       "      <td>-0.339812</td>\n",
       "      <td>-0.097679</td>\n",
       "      <td>...</td>\n",
       "      <td>-0.698046</td>\n",
       "      <td>0.107864</td>\n",
       "      <td>0.035869</td>\n",
       "      <td>-0.335787</td>\n",
       "      <td>0.400973</td>\n",
       "      <td>0.181944</td>\n",
       "      <td>-0.130701</td>\n",
       "      <td>-0.112291</td>\n",
       "      <td>0.521323</td>\n",
       "      <td>0.221557</td>\n",
       "    </tr>\n",
       "    <tr>\n",
       "      <th>CPC001_PC3_24H:I01</th>\n",
       "      <td>0.044317</td>\n",
       "      <td>1.294891</td>\n",
       "      <td>0.100227</td>\n",
       "      <td>-0.063893</td>\n",
       "      <td>0.445755</td>\n",
       "      <td>0.332100</td>\n",
       "      <td>-0.512944</td>\n",
       "      <td>0.860311</td>\n",
       "      <td>0.249356</td>\n",
       "      <td>-0.383790</td>\n",
       "      <td>...</td>\n",
       "      <td>-0.366743</td>\n",
       "      <td>-0.310489</td>\n",
       "      <td>0.094619</td>\n",
       "      <td>-0.233505</td>\n",
       "      <td>0.438999</td>\n",
       "      <td>-0.223034</td>\n",
       "      <td>0.322599</td>\n",
       "      <td>-0.083007</td>\n",
       "      <td>0.368486</td>\n",
       "      <td>1.111391</td>\n",
       "    </tr>\n",
       "    <tr>\n",
       "      <th>CPC001_PC3_24H:B15</th>\n",
       "      <td>-0.053078</td>\n",
       "      <td>0.338827</td>\n",
       "      <td>0.182279</td>\n",
       "      <td>-0.219549</td>\n",
       "      <td>-0.335992</td>\n",
       "      <td>0.119582</td>\n",
       "      <td>-0.545158</td>\n",
       "      <td>0.229124</td>\n",
       "      <td>0.695732</td>\n",
       "      <td>-0.470803</td>\n",
       "      <td>...</td>\n",
       "      <td>0.333655</td>\n",
       "      <td>-0.102462</td>\n",
       "      <td>0.102899</td>\n",
       "      <td>-0.215013</td>\n",
       "      <td>-0.136826</td>\n",
       "      <td>-0.007686</td>\n",
       "      <td>-0.290543</td>\n",
       "      <td>-0.029088</td>\n",
       "      <td>0.339313</td>\n",
       "      <td>0.344733</td>\n",
       "    </tr>\n",
       "    <tr>\n",
       "      <th>...</th>\n",
       "      <td>...</td>\n",
       "      <td>...</td>\n",
       "      <td>...</td>\n",
       "      <td>...</td>\n",
       "      <td>...</td>\n",
       "      <td>...</td>\n",
       "      <td>...</td>\n",
       "      <td>...</td>\n",
       "      <td>...</td>\n",
       "      <td>...</td>\n",
       "      <td>...</td>\n",
       "      <td>...</td>\n",
       "      <td>...</td>\n",
       "      <td>...</td>\n",
       "      <td>...</td>\n",
       "      <td>...</td>\n",
       "      <td>...</td>\n",
       "      <td>...</td>\n",
       "      <td>...</td>\n",
       "      <td>...</td>\n",
       "      <td>...</td>\n",
       "    </tr>\n",
       "    <tr>\n",
       "      <th>DOSVAL004_PC3_24H:BRD-K42197878:20</th>\n",
       "      <td>-0.517993</td>\n",
       "      <td>-0.466395</td>\n",
       "      <td>-0.115182</td>\n",
       "      <td>-0.348306</td>\n",
       "      <td>0.082973</td>\n",
       "      <td>-0.241834</td>\n",
       "      <td>0.108636</td>\n",
       "      <td>0.354869</td>\n",
       "      <td>0.733307</td>\n",
       "      <td>-0.083069</td>\n",
       "      <td>...</td>\n",
       "      <td>-0.572884</td>\n",
       "      <td>0.325997</td>\n",
       "      <td>-0.593406</td>\n",
       "      <td>0.002679</td>\n",
       "      <td>-0.737554</td>\n",
       "      <td>0.084161</td>\n",
       "      <td>-0.556606</td>\n",
       "      <td>0.099536</td>\n",
       "      <td>0.268207</td>\n",
       "      <td>0.215556</td>\n",
       "    </tr>\n",
       "    <tr>\n",
       "      <th>DOSVAL003_PC3_24H:BRD-K06852269:10</th>\n",
       "      <td>-0.026511</td>\n",
       "      <td>0.148867</td>\n",
       "      <td>-0.592797</td>\n",
       "      <td>0.643348</td>\n",
       "      <td>0.250200</td>\n",
       "      <td>0.194656</td>\n",
       "      <td>-0.036544</td>\n",
       "      <td>0.655330</td>\n",
       "      <td>0.285194</td>\n",
       "      <td>-0.682561</td>\n",
       "      <td>...</td>\n",
       "      <td>-0.157405</td>\n",
       "      <td>-0.937189</td>\n",
       "      <td>0.237101</td>\n",
       "      <td>0.289537</td>\n",
       "      <td>-0.130510</td>\n",
       "      <td>-0.419587</td>\n",
       "      <td>-0.588473</td>\n",
       "      <td>-0.006181</td>\n",
       "      <td>0.107172</td>\n",
       "      <td>-0.412093</td>\n",
       "    </tr>\n",
       "    <tr>\n",
       "      <th>DOSVAL003_PC3_24H:BRD-K31126514:20</th>\n",
       "      <td>0.400377</td>\n",
       "      <td>0.425242</td>\n",
       "      <td>0.391585</td>\n",
       "      <td>0.116545</td>\n",
       "      <td>0.115616</td>\n",
       "      <td>0.457984</td>\n",
       "      <td>-0.171242</td>\n",
       "      <td>-0.009175</td>\n",
       "      <td>0.291209</td>\n",
       "      <td>-0.401940</td>\n",
       "      <td>...</td>\n",
       "      <td>-0.530658</td>\n",
       "      <td>-0.345634</td>\n",
       "      <td>-0.177532</td>\n",
       "      <td>1.028847</td>\n",
       "      <td>-0.159570</td>\n",
       "      <td>-0.104187</td>\n",
       "      <td>-0.704475</td>\n",
       "      <td>0.447146</td>\n",
       "      <td>0.107465</td>\n",
       "      <td>-0.364292</td>\n",
       "    </tr>\n",
       "    <tr>\n",
       "      <th>DOSVAL001_PC3_24H:BRD-K60763357:10.036</th>\n",
       "      <td>0.153902</td>\n",
       "      <td>-0.565084</td>\n",
       "      <td>0.132985</td>\n",
       "      <td>-0.192844</td>\n",
       "      <td>0.089943</td>\n",
       "      <td>0.695755</td>\n",
       "      <td>-0.362662</td>\n",
       "      <td>0.595221</td>\n",
       "      <td>0.489115</td>\n",
       "      <td>0.699094</td>\n",
       "      <td>...</td>\n",
       "      <td>-0.363332</td>\n",
       "      <td>-0.547062</td>\n",
       "      <td>0.687610</td>\n",
       "      <td>-0.382174</td>\n",
       "      <td>-0.762700</td>\n",
       "      <td>0.310617</td>\n",
       "      <td>0.217786</td>\n",
       "      <td>-0.130204</td>\n",
       "      <td>-0.605407</td>\n",
       "      <td>0.122001</td>\n",
       "    </tr>\n",
       "    <tr>\n",
       "      <th>DOSVAL005_PC3_24H:BRD-K86354270:20</th>\n",
       "      <td>-0.125334</td>\n",
       "      <td>0.074237</td>\n",
       "      <td>-0.108284</td>\n",
       "      <td>0.060902</td>\n",
       "      <td>-0.245982</td>\n",
       "      <td>-0.253036</td>\n",
       "      <td>-0.024856</td>\n",
       "      <td>-0.601809</td>\n",
       "      <td>-0.426785</td>\n",
       "      <td>-0.294710</td>\n",
       "      <td>...</td>\n",
       "      <td>-0.230499</td>\n",
       "      <td>0.663936</td>\n",
       "      <td>-0.122608</td>\n",
       "      <td>-0.066459</td>\n",
       "      <td>-0.236478</td>\n",
       "      <td>0.489678</td>\n",
       "      <td>0.404491</td>\n",
       "      <td>0.244087</td>\n",
       "      <td>-0.013956</td>\n",
       "      <td>-0.484489</td>\n",
       "    </tr>\n",
       "  </tbody>\n",
       "</table>\n",
       "<p>1477 rows × 1024 columns</p>\n",
       "</div>"
      ],
      "text/plain": [
       "                                              z0        z1        z2  \\\n",
       "ASG002_PC3_24H:B07                      0.084165 -0.282866  0.194297   \n",
       "PBIOA017_PC3_24H:G07                    0.297650  0.723474 -1.715533   \n",
       "LJP006_PC3_24H:G19                      0.766415 -0.459978  0.352857   \n",
       "CPC001_PC3_24H:I01                      0.044317  1.294891  0.100227   \n",
       "CPC001_PC3_24H:B15                     -0.053078  0.338827  0.182279   \n",
       "...                                          ...       ...       ...   \n",
       "DOSVAL004_PC3_24H:BRD-K42197878:20     -0.517993 -0.466395 -0.115182   \n",
       "DOSVAL003_PC3_24H:BRD-K06852269:10     -0.026511  0.148867 -0.592797   \n",
       "DOSVAL003_PC3_24H:BRD-K31126514:20      0.400377  0.425242  0.391585   \n",
       "DOSVAL001_PC3_24H:BRD-K60763357:10.036  0.153902 -0.565084  0.132985   \n",
       "DOSVAL005_PC3_24H:BRD-K86354270:20     -0.125334  0.074237 -0.108284   \n",
       "\n",
       "                                              z3        z4        z5  \\\n",
       "ASG002_PC3_24H:B07                     -0.173088  0.053098  0.008374   \n",
       "PBIOA017_PC3_24H:G07                   -0.477011 -0.010182 -0.273578   \n",
       "LJP006_PC3_24H:G19                     -0.051889 -0.033388 -0.774758   \n",
       "CPC001_PC3_24H:I01                     -0.063893  0.445755  0.332100   \n",
       "CPC001_PC3_24H:B15                     -0.219549 -0.335992  0.119582   \n",
       "...                                          ...       ...       ...   \n",
       "DOSVAL004_PC3_24H:BRD-K42197878:20     -0.348306  0.082973 -0.241834   \n",
       "DOSVAL003_PC3_24H:BRD-K06852269:10      0.643348  0.250200  0.194656   \n",
       "DOSVAL003_PC3_24H:BRD-K31126514:20      0.116545  0.115616  0.457984   \n",
       "DOSVAL001_PC3_24H:BRD-K60763357:10.036 -0.192844  0.089943  0.695755   \n",
       "DOSVAL005_PC3_24H:BRD-K86354270:20      0.060902 -0.245982 -0.253036   \n",
       "\n",
       "                                              z6        z7        z8  \\\n",
       "ASG002_PC3_24H:B07                     -0.070605  0.199455  0.146483   \n",
       "PBIOA017_PC3_24H:G07                   -0.141500  0.696504  0.249116   \n",
       "LJP006_PC3_24H:G19                      0.077399  0.032808 -0.339812   \n",
       "CPC001_PC3_24H:I01                     -0.512944  0.860311  0.249356   \n",
       "CPC001_PC3_24H:B15                     -0.545158  0.229124  0.695732   \n",
       "...                                          ...       ...       ...   \n",
       "DOSVAL004_PC3_24H:BRD-K42197878:20      0.108636  0.354869  0.733307   \n",
       "DOSVAL003_PC3_24H:BRD-K06852269:10     -0.036544  0.655330  0.285194   \n",
       "DOSVAL003_PC3_24H:BRD-K31126514:20     -0.171242 -0.009175  0.291209   \n",
       "DOSVAL001_PC3_24H:BRD-K60763357:10.036 -0.362662  0.595221  0.489115   \n",
       "DOSVAL005_PC3_24H:BRD-K86354270:20     -0.024856 -0.601809 -0.426785   \n",
       "\n",
       "                                              z9  ...     z1014     z1015  \\\n",
       "ASG002_PC3_24H:B07                      0.634891  ... -0.464844 -0.496080   \n",
       "PBIOA017_PC3_24H:G07                   -0.148086  ... -0.991016  0.115972   \n",
       "LJP006_PC3_24H:G19                     -0.097679  ... -0.698046  0.107864   \n",
       "CPC001_PC3_24H:I01                     -0.383790  ... -0.366743 -0.310489   \n",
       "CPC001_PC3_24H:B15                     -0.470803  ...  0.333655 -0.102462   \n",
       "...                                          ...  ...       ...       ...   \n",
       "DOSVAL004_PC3_24H:BRD-K42197878:20     -0.083069  ... -0.572884  0.325997   \n",
       "DOSVAL003_PC3_24H:BRD-K06852269:10     -0.682561  ... -0.157405 -0.937189   \n",
       "DOSVAL003_PC3_24H:BRD-K31126514:20     -0.401940  ... -0.530658 -0.345634   \n",
       "DOSVAL001_PC3_24H:BRD-K60763357:10.036  0.699094  ... -0.363332 -0.547062   \n",
       "DOSVAL005_PC3_24H:BRD-K86354270:20     -0.294710  ... -0.230499  0.663936   \n",
       "\n",
       "                                           z1016     z1017     z1018  \\\n",
       "ASG002_PC3_24H:B07                      1.046736 -0.176101 -0.267111   \n",
       "PBIOA017_PC3_24H:G07                    0.143522 -0.733313 -0.430543   \n",
       "LJP006_PC3_24H:G19                      0.035869 -0.335787  0.400973   \n",
       "CPC001_PC3_24H:I01                      0.094619 -0.233505  0.438999   \n",
       "CPC001_PC3_24H:B15                      0.102899 -0.215013 -0.136826   \n",
       "...                                          ...       ...       ...   \n",
       "DOSVAL004_PC3_24H:BRD-K42197878:20     -0.593406  0.002679 -0.737554   \n",
       "DOSVAL003_PC3_24H:BRD-K06852269:10      0.237101  0.289537 -0.130510   \n",
       "DOSVAL003_PC3_24H:BRD-K31126514:20     -0.177532  1.028847 -0.159570   \n",
       "DOSVAL001_PC3_24H:BRD-K60763357:10.036  0.687610 -0.382174 -0.762700   \n",
       "DOSVAL005_PC3_24H:BRD-K86354270:20     -0.122608 -0.066459 -0.236478   \n",
       "\n",
       "                                           z1019     z1020     z1021  \\\n",
       "ASG002_PC3_24H:B07                     -0.385607  0.489603 -0.282838   \n",
       "PBIOA017_PC3_24H:G07                    0.399422 -0.387624 -0.529235   \n",
       "LJP006_PC3_24H:G19                      0.181944 -0.130701 -0.112291   \n",
       "CPC001_PC3_24H:I01                     -0.223034  0.322599 -0.083007   \n",
       "CPC001_PC3_24H:B15                     -0.007686 -0.290543 -0.029088   \n",
       "...                                          ...       ...       ...   \n",
       "DOSVAL004_PC3_24H:BRD-K42197878:20      0.084161 -0.556606  0.099536   \n",
       "DOSVAL003_PC3_24H:BRD-K06852269:10     -0.419587 -0.588473 -0.006181   \n",
       "DOSVAL003_PC3_24H:BRD-K31126514:20     -0.104187 -0.704475  0.447146   \n",
       "DOSVAL001_PC3_24H:BRD-K60763357:10.036  0.310617  0.217786 -0.130204   \n",
       "DOSVAL005_PC3_24H:BRD-K86354270:20      0.489678  0.404491  0.244087   \n",
       "\n",
       "                                           z1022     z1023  \n",
       "ASG002_PC3_24H:B07                      0.255659  0.029781  \n",
       "PBIOA017_PC3_24H:G07                    0.143531  0.148648  \n",
       "LJP006_PC3_24H:G19                      0.521323  0.221557  \n",
       "CPC001_PC3_24H:I01                      0.368486  1.111391  \n",
       "CPC001_PC3_24H:B15                      0.339313  0.344733  \n",
       "...                                          ...       ...  \n",
       "DOSVAL004_PC3_24H:BRD-K42197878:20      0.268207  0.215556  \n",
       "DOSVAL003_PC3_24H:BRD-K06852269:10      0.107172 -0.412093  \n",
       "DOSVAL003_PC3_24H:BRD-K31126514:20      0.107465 -0.364292  \n",
       "DOSVAL001_PC3_24H:BRD-K60763357:10.036 -0.605407  0.122001  \n",
       "DOSVAL005_PC3_24H:BRD-K86354270:20     -0.013956 -0.484489  \n",
       "\n",
       "[1477 rows x 1024 columns]"
      ]
     },
     "metadata": {},
     "output_type": "display_data"
    }
   ],
   "source": [
    "### Save embeddings ###\n",
    "Embs_a375 = pd.DataFrame(z_latent_a375.detach().cpu().numpy())\n",
    "Embs_a375.index = np.concatenate((sampleInfo_paired['sig_id.x'].values,sampleInfo_a375.sig_id.values))\n",
    "Embs_a375.columns = ['z'+str(i) for i in range(1024)]\n",
    "Embs_a375.to_csv('../results/trained_embs_all/AllEmbs_MI_pc3_withclass.csv')\n",
    "display(Embs_a375)"
   ]
  },
  {
   "cell_type": "code",
   "execution_count": 28,
   "id": "15e89dea",
   "metadata": {},
   "outputs": [
    {
     "data": {
      "text/html": [
       "<div>\n",
       "<style scoped>\n",
       "    .dataframe tbody tr th:only-of-type {\n",
       "        vertical-align: middle;\n",
       "    }\n",
       "\n",
       "    .dataframe tbody tr th {\n",
       "        vertical-align: top;\n",
       "    }\n",
       "\n",
       "    .dataframe thead th {\n",
       "        text-align: right;\n",
       "    }\n",
       "</style>\n",
       "<table border=\"1\" class=\"dataframe\">\n",
       "  <thead>\n",
       "    <tr style=\"text-align: right;\">\n",
       "      <th></th>\n",
       "      <th>z0</th>\n",
       "      <th>z1</th>\n",
       "      <th>z2</th>\n",
       "      <th>z3</th>\n",
       "      <th>z4</th>\n",
       "      <th>z5</th>\n",
       "      <th>z6</th>\n",
       "      <th>z7</th>\n",
       "      <th>z8</th>\n",
       "      <th>z9</th>\n",
       "      <th>...</th>\n",
       "      <th>z1014</th>\n",
       "      <th>z1015</th>\n",
       "      <th>z1016</th>\n",
       "      <th>z1017</th>\n",
       "      <th>z1018</th>\n",
       "      <th>z1019</th>\n",
       "      <th>z1020</th>\n",
       "      <th>z1021</th>\n",
       "      <th>z1022</th>\n",
       "      <th>z1023</th>\n",
       "    </tr>\n",
       "  </thead>\n",
       "  <tbody>\n",
       "    <tr>\n",
       "      <th>CPC006_HA1E_24H:L05</th>\n",
       "      <td>0.133171</td>\n",
       "      <td>-0.312513</td>\n",
       "      <td>0.680394</td>\n",
       "      <td>-0.197915</td>\n",
       "      <td>0.201950</td>\n",
       "      <td>-0.149673</td>\n",
       "      <td>0.218677</td>\n",
       "      <td>0.362956</td>\n",
       "      <td>0.087929</td>\n",
       "      <td>0.966785</td>\n",
       "      <td>...</td>\n",
       "      <td>-0.535577</td>\n",
       "      <td>-0.516098</td>\n",
       "      <td>1.598489</td>\n",
       "      <td>-0.264383</td>\n",
       "      <td>-0.268744</td>\n",
       "      <td>-0.619801</td>\n",
       "      <td>0.308276</td>\n",
       "      <td>-0.064823</td>\n",
       "      <td>0.342089</td>\n",
       "      <td>0.012770</td>\n",
       "    </tr>\n",
       "    <tr>\n",
       "      <th>PBIOA017_HA1E_24H:G07</th>\n",
       "      <td>0.405738</td>\n",
       "      <td>0.689336</td>\n",
       "      <td>-2.049619</td>\n",
       "      <td>-0.693695</td>\n",
       "      <td>0.243061</td>\n",
       "      <td>-0.298689</td>\n",
       "      <td>-0.266771</td>\n",
       "      <td>0.672703</td>\n",
       "      <td>0.574266</td>\n",
       "      <td>-0.316219</td>\n",
       "      <td>...</td>\n",
       "      <td>-1.275333</td>\n",
       "      <td>-0.074405</td>\n",
       "      <td>0.076981</td>\n",
       "      <td>-0.698315</td>\n",
       "      <td>-0.386762</td>\n",
       "      <td>0.506311</td>\n",
       "      <td>-0.427180</td>\n",
       "      <td>-0.327615</td>\n",
       "      <td>0.103759</td>\n",
       "      <td>0.092917</td>\n",
       "    </tr>\n",
       "    <tr>\n",
       "      <th>LJP006_HA1E_24H:G19</th>\n",
       "      <td>0.963032</td>\n",
       "      <td>-0.454525</td>\n",
       "      <td>0.668738</td>\n",
       "      <td>0.165621</td>\n",
       "      <td>0.280231</td>\n",
       "      <td>-1.016471</td>\n",
       "      <td>0.100046</td>\n",
       "      <td>0.219480</td>\n",
       "      <td>-0.325493</td>\n",
       "      <td>-0.188201</td>\n",
       "      <td>...</td>\n",
       "      <td>-0.967764</td>\n",
       "      <td>0.224135</td>\n",
       "      <td>-0.025924</td>\n",
       "      <td>-0.437457</td>\n",
       "      <td>0.815282</td>\n",
       "      <td>0.070859</td>\n",
       "      <td>0.096575</td>\n",
       "      <td>-0.123365</td>\n",
       "      <td>0.843452</td>\n",
       "      <td>0.215733</td>\n",
       "    </tr>\n",
       "    <tr>\n",
       "      <th>CPC001_HA1E_24H:BRD-K89930444-001-01-9:10</th>\n",
       "      <td>-0.146621</td>\n",
       "      <td>1.560345</td>\n",
       "      <td>0.266607</td>\n",
       "      <td>0.016843</td>\n",
       "      <td>0.569559</td>\n",
       "      <td>0.431991</td>\n",
       "      <td>-0.366799</td>\n",
       "      <td>1.229936</td>\n",
       "      <td>0.232879</td>\n",
       "      <td>-0.605151</td>\n",
       "      <td>...</td>\n",
       "      <td>-0.507938</td>\n",
       "      <td>-0.526773</td>\n",
       "      <td>-0.094124</td>\n",
       "      <td>-0.034060</td>\n",
       "      <td>0.781265</td>\n",
       "      <td>-0.324718</td>\n",
       "      <td>0.163380</td>\n",
       "      <td>-0.070719</td>\n",
       "      <td>0.366008</td>\n",
       "      <td>1.423117</td>\n",
       "    </tr>\n",
       "    <tr>\n",
       "      <th>CPC001_HA1E_24H:BRD-K59469039-001-03-1:10</th>\n",
       "      <td>-0.094240</td>\n",
       "      <td>0.324841</td>\n",
       "      <td>0.388463</td>\n",
       "      <td>-0.230026</td>\n",
       "      <td>-0.515369</td>\n",
       "      <td>0.070340</td>\n",
       "      <td>-0.721209</td>\n",
       "      <td>0.106501</td>\n",
       "      <td>0.896748</td>\n",
       "      <td>-0.582767</td>\n",
       "      <td>...</td>\n",
       "      <td>0.465316</td>\n",
       "      <td>-0.267825</td>\n",
       "      <td>0.043379</td>\n",
       "      <td>-0.239662</td>\n",
       "      <td>-0.239770</td>\n",
       "      <td>-0.110553</td>\n",
       "      <td>-0.078141</td>\n",
       "      <td>-0.084765</td>\n",
       "      <td>0.204877</td>\n",
       "      <td>0.273850</td>\n",
       "    </tr>\n",
       "    <tr>\n",
       "      <th>...</th>\n",
       "      <td>...</td>\n",
       "      <td>...</td>\n",
       "      <td>...</td>\n",
       "      <td>...</td>\n",
       "      <td>...</td>\n",
       "      <td>...</td>\n",
       "      <td>...</td>\n",
       "      <td>...</td>\n",
       "      <td>...</td>\n",
       "      <td>...</td>\n",
       "      <td>...</td>\n",
       "      <td>...</td>\n",
       "      <td>...</td>\n",
       "      <td>...</td>\n",
       "      <td>...</td>\n",
       "      <td>...</td>\n",
       "      <td>...</td>\n",
       "      <td>...</td>\n",
       "      <td>...</td>\n",
       "      <td>...</td>\n",
       "      <td>...</td>\n",
       "    </tr>\n",
       "    <tr>\n",
       "      <th>DOSVAL004_HA1E_24H:BRD-K28934562:20</th>\n",
       "      <td>-0.351744</td>\n",
       "      <td>-0.417904</td>\n",
       "      <td>-0.265423</td>\n",
       "      <td>0.246186</td>\n",
       "      <td>0.525158</td>\n",
       "      <td>-0.220998</td>\n",
       "      <td>-0.208565</td>\n",
       "      <td>-0.004768</td>\n",
       "      <td>-0.243184</td>\n",
       "      <td>0.021024</td>\n",
       "      <td>...</td>\n",
       "      <td>-0.344937</td>\n",
       "      <td>0.071737</td>\n",
       "      <td>0.414051</td>\n",
       "      <td>-0.408596</td>\n",
       "      <td>0.438926</td>\n",
       "      <td>-0.376485</td>\n",
       "      <td>0.378945</td>\n",
       "      <td>0.170069</td>\n",
       "      <td>-0.466953</td>\n",
       "      <td>0.370937</td>\n",
       "    </tr>\n",
       "    <tr>\n",
       "      <th>DOSVAL003_HA1E_24H:BRD-K89824424:20</th>\n",
       "      <td>0.041794</td>\n",
       "      <td>0.219328</td>\n",
       "      <td>0.021924</td>\n",
       "      <td>0.075768</td>\n",
       "      <td>0.475331</td>\n",
       "      <td>0.224328</td>\n",
       "      <td>-0.089837</td>\n",
       "      <td>0.057460</td>\n",
       "      <td>0.621621</td>\n",
       "      <td>0.013386</td>\n",
       "      <td>...</td>\n",
       "      <td>-0.226394</td>\n",
       "      <td>-0.010924</td>\n",
       "      <td>0.297378</td>\n",
       "      <td>-0.808539</td>\n",
       "      <td>-0.505123</td>\n",
       "      <td>-0.078685</td>\n",
       "      <td>0.584478</td>\n",
       "      <td>0.038761</td>\n",
       "      <td>0.043291</td>\n",
       "      <td>-1.102311</td>\n",
       "    </tr>\n",
       "    <tr>\n",
       "      <th>DOSVAL004_HA1E_24H:BRD-K31380618:20</th>\n",
       "      <td>-0.372096</td>\n",
       "      <td>0.268770</td>\n",
       "      <td>-0.155603</td>\n",
       "      <td>-0.355296</td>\n",
       "      <td>0.709693</td>\n",
       "      <td>0.155079</td>\n",
       "      <td>-0.068097</td>\n",
       "      <td>-0.327301</td>\n",
       "      <td>0.081362</td>\n",
       "      <td>-0.679076</td>\n",
       "      <td>...</td>\n",
       "      <td>-0.389287</td>\n",
       "      <td>-0.183569</td>\n",
       "      <td>0.652602</td>\n",
       "      <td>-0.236159</td>\n",
       "      <td>0.317856</td>\n",
       "      <td>-0.223254</td>\n",
       "      <td>0.232502</td>\n",
       "      <td>0.884866</td>\n",
       "      <td>0.431628</td>\n",
       "      <td>0.920212</td>\n",
       "    </tr>\n",
       "    <tr>\n",
       "      <th>DOSVAL001_HA1E_24H:BRD-K28484895:10.4003</th>\n",
       "      <td>0.094992</td>\n",
       "      <td>-0.672635</td>\n",
       "      <td>0.396670</td>\n",
       "      <td>-0.491469</td>\n",
       "      <td>-0.555040</td>\n",
       "      <td>0.018707</td>\n",
       "      <td>-0.218236</td>\n",
       "      <td>0.244259</td>\n",
       "      <td>-0.127325</td>\n",
       "      <td>0.044301</td>\n",
       "      <td>...</td>\n",
       "      <td>-0.188543</td>\n",
       "      <td>-1.080490</td>\n",
       "      <td>-0.485077</td>\n",
       "      <td>0.035554</td>\n",
       "      <td>0.014027</td>\n",
       "      <td>0.181228</td>\n",
       "      <td>-1.229997</td>\n",
       "      <td>-0.413863</td>\n",
       "      <td>0.123383</td>\n",
       "      <td>-0.590541</td>\n",
       "    </tr>\n",
       "    <tr>\n",
       "      <th>DOSVAL001_HA1E_24H:BRD-K25712227:10.0073</th>\n",
       "      <td>0.309342</td>\n",
       "      <td>-0.048014</td>\n",
       "      <td>0.067998</td>\n",
       "      <td>0.227787</td>\n",
       "      <td>0.101650</td>\n",
       "      <td>0.460648</td>\n",
       "      <td>-0.461751</td>\n",
       "      <td>0.260882</td>\n",
       "      <td>0.374171</td>\n",
       "      <td>0.620345</td>\n",
       "      <td>...</td>\n",
       "      <td>-0.561595</td>\n",
       "      <td>-0.901460</td>\n",
       "      <td>0.794671</td>\n",
       "      <td>0.050771</td>\n",
       "      <td>-0.255502</td>\n",
       "      <td>-0.427137</td>\n",
       "      <td>0.172935</td>\n",
       "      <td>-0.116664</td>\n",
       "      <td>0.512085</td>\n",
       "      <td>0.257983</td>\n",
       "    </tr>\n",
       "  </tbody>\n",
       "</table>\n",
       "<p>1059 rows × 1024 columns</p>\n",
       "</div>"
      ],
      "text/plain": [
       "                                                 z0        z1        z2  \\\n",
       "CPC006_HA1E_24H:L05                        0.133171 -0.312513  0.680394   \n",
       "PBIOA017_HA1E_24H:G07                      0.405738  0.689336 -2.049619   \n",
       "LJP006_HA1E_24H:G19                        0.963032 -0.454525  0.668738   \n",
       "CPC001_HA1E_24H:BRD-K89930444-001-01-9:10 -0.146621  1.560345  0.266607   \n",
       "CPC001_HA1E_24H:BRD-K59469039-001-03-1:10 -0.094240  0.324841  0.388463   \n",
       "...                                             ...       ...       ...   \n",
       "DOSVAL004_HA1E_24H:BRD-K28934562:20       -0.351744 -0.417904 -0.265423   \n",
       "DOSVAL003_HA1E_24H:BRD-K89824424:20        0.041794  0.219328  0.021924   \n",
       "DOSVAL004_HA1E_24H:BRD-K31380618:20       -0.372096  0.268770 -0.155603   \n",
       "DOSVAL001_HA1E_24H:BRD-K28484895:10.4003   0.094992 -0.672635  0.396670   \n",
       "DOSVAL001_HA1E_24H:BRD-K25712227:10.0073   0.309342 -0.048014  0.067998   \n",
       "\n",
       "                                                 z3        z4        z5  \\\n",
       "CPC006_HA1E_24H:L05                       -0.197915  0.201950 -0.149673   \n",
       "PBIOA017_HA1E_24H:G07                     -0.693695  0.243061 -0.298689   \n",
       "LJP006_HA1E_24H:G19                        0.165621  0.280231 -1.016471   \n",
       "CPC001_HA1E_24H:BRD-K89930444-001-01-9:10  0.016843  0.569559  0.431991   \n",
       "CPC001_HA1E_24H:BRD-K59469039-001-03-1:10 -0.230026 -0.515369  0.070340   \n",
       "...                                             ...       ...       ...   \n",
       "DOSVAL004_HA1E_24H:BRD-K28934562:20        0.246186  0.525158 -0.220998   \n",
       "DOSVAL003_HA1E_24H:BRD-K89824424:20        0.075768  0.475331  0.224328   \n",
       "DOSVAL004_HA1E_24H:BRD-K31380618:20       -0.355296  0.709693  0.155079   \n",
       "DOSVAL001_HA1E_24H:BRD-K28484895:10.4003  -0.491469 -0.555040  0.018707   \n",
       "DOSVAL001_HA1E_24H:BRD-K25712227:10.0073   0.227787  0.101650  0.460648   \n",
       "\n",
       "                                                 z6        z7        z8  \\\n",
       "CPC006_HA1E_24H:L05                        0.218677  0.362956  0.087929   \n",
       "PBIOA017_HA1E_24H:G07                     -0.266771  0.672703  0.574266   \n",
       "LJP006_HA1E_24H:G19                        0.100046  0.219480 -0.325493   \n",
       "CPC001_HA1E_24H:BRD-K89930444-001-01-9:10 -0.366799  1.229936  0.232879   \n",
       "CPC001_HA1E_24H:BRD-K59469039-001-03-1:10 -0.721209  0.106501  0.896748   \n",
       "...                                             ...       ...       ...   \n",
       "DOSVAL004_HA1E_24H:BRD-K28934562:20       -0.208565 -0.004768 -0.243184   \n",
       "DOSVAL003_HA1E_24H:BRD-K89824424:20       -0.089837  0.057460  0.621621   \n",
       "DOSVAL004_HA1E_24H:BRD-K31380618:20       -0.068097 -0.327301  0.081362   \n",
       "DOSVAL001_HA1E_24H:BRD-K28484895:10.4003  -0.218236  0.244259 -0.127325   \n",
       "DOSVAL001_HA1E_24H:BRD-K25712227:10.0073  -0.461751  0.260882  0.374171   \n",
       "\n",
       "                                                 z9  ...     z1014     z1015  \\\n",
       "CPC006_HA1E_24H:L05                        0.966785  ... -0.535577 -0.516098   \n",
       "PBIOA017_HA1E_24H:G07                     -0.316219  ... -1.275333 -0.074405   \n",
       "LJP006_HA1E_24H:G19                       -0.188201  ... -0.967764  0.224135   \n",
       "CPC001_HA1E_24H:BRD-K89930444-001-01-9:10 -0.605151  ... -0.507938 -0.526773   \n",
       "CPC001_HA1E_24H:BRD-K59469039-001-03-1:10 -0.582767  ...  0.465316 -0.267825   \n",
       "...                                             ...  ...       ...       ...   \n",
       "DOSVAL004_HA1E_24H:BRD-K28934562:20        0.021024  ... -0.344937  0.071737   \n",
       "DOSVAL003_HA1E_24H:BRD-K89824424:20        0.013386  ... -0.226394 -0.010924   \n",
       "DOSVAL004_HA1E_24H:BRD-K31380618:20       -0.679076  ... -0.389287 -0.183569   \n",
       "DOSVAL001_HA1E_24H:BRD-K28484895:10.4003   0.044301  ... -0.188543 -1.080490   \n",
       "DOSVAL001_HA1E_24H:BRD-K25712227:10.0073   0.620345  ... -0.561595 -0.901460   \n",
       "\n",
       "                                              z1016     z1017     z1018  \\\n",
       "CPC006_HA1E_24H:L05                        1.598489 -0.264383 -0.268744   \n",
       "PBIOA017_HA1E_24H:G07                      0.076981 -0.698315 -0.386762   \n",
       "LJP006_HA1E_24H:G19                       -0.025924 -0.437457  0.815282   \n",
       "CPC001_HA1E_24H:BRD-K89930444-001-01-9:10 -0.094124 -0.034060  0.781265   \n",
       "CPC001_HA1E_24H:BRD-K59469039-001-03-1:10  0.043379 -0.239662 -0.239770   \n",
       "...                                             ...       ...       ...   \n",
       "DOSVAL004_HA1E_24H:BRD-K28934562:20        0.414051 -0.408596  0.438926   \n",
       "DOSVAL003_HA1E_24H:BRD-K89824424:20        0.297378 -0.808539 -0.505123   \n",
       "DOSVAL004_HA1E_24H:BRD-K31380618:20        0.652602 -0.236159  0.317856   \n",
       "DOSVAL001_HA1E_24H:BRD-K28484895:10.4003  -0.485077  0.035554  0.014027   \n",
       "DOSVAL001_HA1E_24H:BRD-K25712227:10.0073   0.794671  0.050771 -0.255502   \n",
       "\n",
       "                                              z1019     z1020     z1021  \\\n",
       "CPC006_HA1E_24H:L05                       -0.619801  0.308276 -0.064823   \n",
       "PBIOA017_HA1E_24H:G07                      0.506311 -0.427180 -0.327615   \n",
       "LJP006_HA1E_24H:G19                        0.070859  0.096575 -0.123365   \n",
       "CPC001_HA1E_24H:BRD-K89930444-001-01-9:10 -0.324718  0.163380 -0.070719   \n",
       "CPC001_HA1E_24H:BRD-K59469039-001-03-1:10 -0.110553 -0.078141 -0.084765   \n",
       "...                                             ...       ...       ...   \n",
       "DOSVAL004_HA1E_24H:BRD-K28934562:20       -0.376485  0.378945  0.170069   \n",
       "DOSVAL003_HA1E_24H:BRD-K89824424:20       -0.078685  0.584478  0.038761   \n",
       "DOSVAL004_HA1E_24H:BRD-K31380618:20       -0.223254  0.232502  0.884866   \n",
       "DOSVAL001_HA1E_24H:BRD-K28484895:10.4003   0.181228 -1.229997 -0.413863   \n",
       "DOSVAL001_HA1E_24H:BRD-K25712227:10.0073  -0.427137  0.172935 -0.116664   \n",
       "\n",
       "                                              z1022     z1023  \n",
       "CPC006_HA1E_24H:L05                        0.342089  0.012770  \n",
       "PBIOA017_HA1E_24H:G07                      0.103759  0.092917  \n",
       "LJP006_HA1E_24H:G19                        0.843452  0.215733  \n",
       "CPC001_HA1E_24H:BRD-K89930444-001-01-9:10  0.366008  1.423117  \n",
       "CPC001_HA1E_24H:BRD-K59469039-001-03-1:10  0.204877  0.273850  \n",
       "...                                             ...       ...  \n",
       "DOSVAL004_HA1E_24H:BRD-K28934562:20       -0.466953  0.370937  \n",
       "DOSVAL003_HA1E_24H:BRD-K89824424:20        0.043291 -1.102311  \n",
       "DOSVAL004_HA1E_24H:BRD-K31380618:20        0.431628  0.920212  \n",
       "DOSVAL001_HA1E_24H:BRD-K28484895:10.4003   0.123383 -0.590541  \n",
       "DOSVAL001_HA1E_24H:BRD-K25712227:10.0073   0.512085  0.257983  \n",
       "\n",
       "[1059 rows x 1024 columns]"
      ]
     },
     "metadata": {},
     "output_type": "display_data"
    }
   ],
   "source": [
    "### Save embeddings ###\n",
    "Embs_ht29 = pd.DataFrame(z_latent_ht29.detach().cpu().numpy())\n",
    "Embs_ht29.index = np.concatenate((sampleInfo_paired['sig_id.y'].values,sampleInfo_ht29.sig_id.values))\n",
    "Embs_ht29.columns = ['z'+str(i) for i in range(1024)]\n",
    "Embs_ht29.to_csv('../results/trained_embs_all/AllEmbs_MI_ha1e_withclass.csv')\n",
    "display(Embs_ht29)"
   ]
  },
  {
   "cell_type": "code",
   "execution_count": 29,
   "id": "831315f7",
   "metadata": {},
   "outputs": [
    {
     "name": "stdout",
     "output_type": "stream",
     "text": [
      "R^2 a375: 0.9613711833953857\n",
      "Pearson correlation a375: 0.9823259711265564\n",
      "MSE a375: 0.03597153723239899\n",
      "Spearman correlation ht29: 0.9736521097634024\n",
      "Pseudo-accuracy ht29: 0.9357103050529157\n"
     ]
    }
   ],
   "source": [
    "r2_a375 = r_square(xhat_a375.detach().flatten(), x_a375.detach().flatten())\n",
    "pearson_a375 = pearson_r(xhat_a375.detach().flatten(), x_a375.detach().flatten())\n",
    "mse_a375 = torch.mean(torch.mean((xhat_a375 - x_a375)**2,dim=1))\n",
    "rhos =[]\n",
    "for jj in range(xhat_a375.shape[0]):\n",
    "    rho,p = spearmanr(x_a375[jj,:].detach().cpu().numpy(),xhat_a375[jj,:].detach().cpu().numpy())\n",
    "    rhos.append(rho)\n",
    "Spear_a375=np.mean(rhos)\n",
    "acc = pseudoAccuracy(x_a375.detach().cpu(),xhat_a375.detach().cpu(),eps=1e-6)\n",
    "Accuracy_a375=np.mean(acc)\n",
    "print('R^2 a375: %s'%r2_a375.item())\n",
    "print('Pearson correlation a375: %s'%pearson_a375.item())\n",
    "print('MSE a375: %s'%mse_a375.item())\n",
    "print('Spearman correlation ht29: %s'%Spear_a375)\n",
    "print('Pseudo-accuracy ht29: %s'%Accuracy_a375)"
   ]
  },
  {
   "cell_type": "code",
   "execution_count": 30,
   "id": "7031ec17",
   "metadata": {},
   "outputs": [
    {
     "name": "stdout",
     "output_type": "stream",
     "text": [
      "R^2 ht29: 0.9699994325637817\n",
      "Pearson correlation ht29: 0.9863080382347107\n",
      "MSE ht29: 0.031315773725509644\n",
      "Spearman correlation ht29: 0.9807080982058557\n",
      "Pseudo-accuracy ht29: 0.9431815564614568\n"
     ]
    }
   ],
   "source": [
    "r2_ht29 = r_square(xhat_ht29.detach().flatten(), x_ht29.detach().flatten())\n",
    "pearson_ht29 = pearson_r(xhat_ht29.detach().flatten(), x_ht29.detach().flatten())\n",
    "mse_ht29 = torch.mean(torch.mean((xhat_ht29 - x_ht29)**2,dim=1))\n",
    "rhos =[]\n",
    "for jj in range(xhat_ht29.shape[0]):\n",
    "    rho,p = spearmanr(x_ht29[jj,:].detach().cpu().numpy(),xhat_ht29[jj,:].detach().cpu().numpy())\n",
    "    rhos.append(rho)\n",
    "Spear_ht29=np.mean(rhos)\n",
    "acc = pseudoAccuracy(x_ht29.detach().cpu(),xhat_ht29.detach().cpu(),eps=1e-6)\n",
    "Accuracy_ht29=np.mean(acc)\n",
    "print('R^2 ht29: %s'%r2_ht29.item())\n",
    "print('Pearson correlation ht29: %s'%pearson_ht29.item())\n",
    "print('MSE ht29: %s'%mse_ht29.item())\n",
    "print('Spearman correlation ht29: %s'%Spear_ht29)\n",
    "print('Pseudo-accuracy ht29: %s'%Accuracy_ht29)"
   ]
  },
  {
   "cell_type": "code",
   "execution_count": 31,
   "id": "33036fe1",
   "metadata": {},
   "outputs": [],
   "source": [
    "paired_inds = len(sampleInfo_paired)"
   ]
  },
  {
   "cell_type": "code",
   "execution_count": 32,
   "id": "25edd7ef",
   "metadata": {},
   "outputs": [
    {
     "name": "stdout",
     "output_type": "stream",
     "text": [
      "Pearson of direct translation: 0.3224192261695862\n",
      "Spearman of direct translation: 0.27281385162575944\n",
      "Pdeudo-accuracy of direct translation from a375 to ht29: 0.592263804012763\n",
      "Pdeudo-accuracy of direct translation from ht29 to a375: 0.592263804012763\n"
     ]
    }
   ],
   "source": [
    "x_a375_equivalent = x_a375[0:paired_inds,:]\n",
    "x_ht29_equivalent = x_ht29[0:paired_inds,:]\n",
    "pearDirect = pearson_r(x_a375_equivalent.detach().flatten(), x_ht29_equivalent.detach().flatten())\n",
    "rhos =[]\n",
    "for jj in range(x_a375_equivalent.shape[0]):\n",
    "    rho,p = spearmanr(x_a375_equivalent[jj,:].detach().cpu().numpy(),x_ht29_equivalent[jj,:].detach().cpu().numpy())\n",
    "    rhos.append(rho)\n",
    "Spear_direct=np.mean(rhos)\n",
    "acc_ht29 = np.mean(pseudoAccuracy(x_ht29_equivalent.detach().cpu(),x_a375_equivalent.detach().cpu(),eps=1e-6))\n",
    "acc_a375 = np.mean(pseudoAccuracy(x_a375_equivalent.detach().cpu(),x_ht29_equivalent.detach().cpu(),eps=1e-6))\n",
    "print('Pearson of direct translation: %s'%pearDirect.item())\n",
    "print('Spearman of direct translation: %s'%Spear_direct)\n",
    "print('Pdeudo-accuracy of direct translation from a375 to ht29: %s'%acc_ht29)\n",
    "print('Pdeudo-accuracy of direct translation from ht29 to a375: %s'%acc_a375)"
   ]
  },
  {
   "cell_type": "code",
   "execution_count": 33,
   "id": "1ddcdd02",
   "metadata": {},
   "outputs": [
    {
     "name": "stdout",
     "output_type": "stream",
     "text": [
      "Pearson correlation A375 to HT29: 0.9617589712142944\n",
      "MSE A375 to HT29: 0.12486685067415237\n",
      "Spearman A375 to HT29: 0.9477311761601879\n",
      "Pdeudo-accuracy A375 to HT29: 0.9119139040614354\n"
     ]
    }
   ],
   "source": [
    "z_latent_a375_equivalent  = encoder_a375(x_a375_equivalent)\n",
    "x_hat_ht29_equivalent = decoder_ht29(z_latent_a375_equivalent).detach()\n",
    "r2_ht29 = r_square(x_hat_ht29_equivalent.detach().flatten(), x_ht29_equivalent.detach().flatten())\n",
    "pearson_ht29 = pearson_r(x_hat_ht29_equivalent.detach().flatten(), x_ht29_equivalent.detach().flatten())\n",
    "mse_ht29 = torch.mean(torch.mean((x_hat_ht29_equivalent - x_ht29_equivalent)**2,dim=1))\n",
    "rhos =[]\n",
    "for jj in range(x_ht29_equivalent.shape[0]):\n",
    "    rho,p = spearmanr(x_ht29_equivalent[jj,:].detach().cpu().numpy(),x_hat_ht29_equivalent[jj,:].detach().cpu().numpy())\n",
    "    rhos.append(rho)\n",
    "Spear_ht29=np.mean(rhos)\n",
    "acc_ht29 = np.mean(pseudoAccuracy(x_ht29_equivalent.detach().cpu(),x_hat_ht29_equivalent.detach().cpu(),eps=1e-6))\n",
    "print('Pearson correlation A375 to HT29: %s'%pearson_ht29.item())\n",
    "print('MSE A375 to HT29: %s'%mse_ht29.item())\n",
    "print('Spearman A375 to HT29: %s'%Spear_ht29)\n",
    "print('Pdeudo-accuracy A375 to HT29: %s'%acc_ht29)"
   ]
  },
  {
   "cell_type": "code",
   "execution_count": 34,
   "id": "2ca4beab",
   "metadata": {},
   "outputs": [
    {
     "name": "stdout",
     "output_type": "stream",
     "text": [
      "Pearson correlation HT29 to A375: 0.9636803865432739\n",
      "MSE HT29 to A375: 0.06996044516563416\n",
      "Spearman HT29 to A375: 0.9512967745437491\n",
      "Pdeudo-accuracy HT29 to A375: 0.9190567182833692\n"
     ]
    }
   ],
   "source": [
    "z_latent_ht29_equivalent  = encoder_ht29(x_ht29_equivalent)\n",
    "x_hat_a375_equivalent = decoder_a375(z_latent_ht29_equivalent).detach()\n",
    "r2_a375 = r_square(x_hat_a375_equivalent.detach().flatten(), x_a375_equivalent.detach().flatten())\n",
    "pearson_a375 = pearson_r(x_hat_a375_equivalent.detach().flatten(), x_a375_equivalent.detach().flatten())\n",
    "mse_a375 = torch.mean(torch.mean((x_hat_a375_equivalent - x_a375_equivalent)**2,dim=1))\n",
    "rhos =[]\n",
    "for jj in range(x_a375_equivalent.shape[0]):\n",
    "    rho,p = spearmanr(x_a375_equivalent[jj,:].detach().cpu().numpy(),x_hat_a375_equivalent[jj,:].detach().cpu().numpy())\n",
    "    rhos.append(rho)\n",
    "Spear_a375=np.mean(rhos)\n",
    "acc_a375 = np.mean(pseudoAccuracy(x_a375_equivalent.detach().cpu(),x_hat_a375_equivalent.detach().cpu(),eps=1e-6))\n",
    "print('Pearson correlation HT29 to A375: %s'%pearson_a375.item())\n",
    "print('MSE HT29 to A375: %s'%mse_a375.item())\n",
    "print('Spearman HT29 to A375: %s'%Spear_a375)\n",
    "print('Pdeudo-accuracy HT29 to A375: %s'%acc_a375)"
   ]
  },
  {
   "cell_type": "code",
   "execution_count": null,
   "id": "a0b56c8c",
   "metadata": {},
   "outputs": [],
   "source": [
    "plt.figure()\n",
    "plt.scatter(x_a375_equivalent.detach().flatten().cpu().numpy(), \n",
    "            x_ht29_equivalent.detach().flatten().cpu().numpy(),\n",
    "            alpha=0.1)\n",
    "plt.text(0, 0.9, 'r {:.2f}'.format(pearDirect.item()))\n",
    "plt.savefig('../figures/pc3_to_ha1e_direct_correlation_allgenes.png',dpi=600)"
   ]
  },
  {
   "cell_type": "code",
   "execution_count": 36,
   "id": "cc551008",
   "metadata": {},
   "outputs": [
    {
     "data": {
      "image/png": "[encoded data removed]",
      "text/plain": [
       "<Figure size 432x288 with 1 Axes>"
      ]
     },
     "metadata": {},
     "output_type": "display_data"
    }
   ],
   "source": [
    "plt.figure()\n",
    "plt.scatter(x_hat_a375_equivalent.detach().flatten().cpu().numpy(),\n",
    "            x_a375_equivalent.detach().flatten().cpu().numpy(),\n",
    "           alpha=0.1)\n",
    "plt.text(0, 0.9, 'r {:.2f}'.format(pearson_a375.item()))\n",
    "plt.savefig('../figures/ha1e_to_pc3_translate_correlation_withclass.png',dpi=600)"
   ]
  },
  {
   "cell_type": "code",
   "execution_count": 37,
   "id": "dac7dd4b",
   "metadata": {},
   "outputs": [
    {
     "data": {
      "image/png": "[encoded data removed]",
      "text/plain": [
       "<Figure size 432x288 with 1 Axes>"
      ]
     },
     "metadata": {},
     "output_type": "display_data"
    }
   ],
   "source": [
    "plt.figure()\n",
    "plt.scatter(x_hat_ht29_equivalent.detach().flatten().cpu().numpy(),\n",
    "            x_ht29_equivalent.detach().flatten().cpu().numpy(),\n",
    "           alpha=0.1)\n",
    "plt.text(0, 0.9, 'r {:.2f}'.format(pearson_ht29.item()))\n",
    "plt.savefig('../figures/pc3_to_ha1e_translate_correlation_withclass.png',dpi=600)"
   ]
  },
  {
   "cell_type": "code",
   "execution_count": 39,
   "id": "592795ee",
   "metadata": {},
   "outputs": [
    {
     "name": "stderr",
     "output_type": "stream",
     "text": [
      "/nobackup/users/meimetis/projects/condas/bdvae_rotation/miniconda3/envs/bdvae_rotation/lib/python3.6/site-packages/torch/serialization.py:292: UserWarning: Couldn't retrieve source code for container of type CellBinaryClassifier. It won't be checked for correctness upon loading.\n",
      "  \"type \" + obj.__name__ + \". It won't be checked \"\n",
      "/nobackup/users/meimetis/projects/condas/bdvae_rotation/miniconda3/envs/bdvae_rotation/lib/python3.6/site-packages/torch/serialization.py:292: UserWarning: Couldn't retrieve source code for container of type Softmax. It won't be checked for correctness upon loading.\n",
      "  \"type \" + obj.__name__ + \". It won't be checked \"\n"
     ]
    }
   ],
   "source": [
    "torch.save(encoder_a375, '../results/trained_models/Encoder_PC3_MI_allgenes_withclass.pth')\n",
    "torch.save(encoder_ht29, '../results/trained_models/Encoder_HA1E_MI_allgenes_withclass.pth')\n",
    "torch.save(decoder_a375, '../results/trained_models/Decoder_PC3_MI_allgenes_withclass.pth')\n",
    "torch.save(decoder_ht29, '../results/trained_models/Decoder_HA1E_MI_allgenes_withclass.pth')\n",
    "torch.save(local_d, '../results/trained_models/local_d_MI_pc3_ha1e_allgenes_withclass.pth')\n",
    "torch.save(prior_d, '../results/trained_models/prior_d_MI_pc3_ha1e_allgenes_withclass.pth')\n",
    "torch.save(classifier,'../results/trained_models/classifier_pc3_ha1e.pth')"
   ]
  },
  {
   "cell_type": "code",
   "execution_count": null,
   "id": "96c3df40",
   "metadata": {},
   "outputs": [],
   "source": [
    "# checkpoint = torch.load('checkpoint_dummyAutoenoderA375_mmd.pth.tar')\n",
    "# autoencoder.load_state_dict(checkpoint['state_dict'])"
   ]
  },
  {
   "cell_type": "code",
   "execution_count": 40,
   "id": "6ffd075f",
   "metadata": {},
   "outputs": [],
   "source": [
    "def shadePlot(X, Y, STD):\n",
    "    plt.plot(X, Y)\n",
    "    curColor = plt.gca().lines[-1].get_color()\n",
    "    plt.fill_between(X, Y - STD, Y + STD, color=curColor, alpha=0.2)"
   ]
  },
  {
   "cell_type": "code",
   "execution_count": 41,
   "id": "bb10ddfa",
   "metadata": {},
   "outputs": [],
   "source": [
    "def movingaverage(values, w):\n",
    "    moving_averages = np.zeros(values.shape)\n",
    "    stepsBefore = np.ceil(w/2)\n",
    "    stepsAfter = np.ceil(w/2)\n",
    "    for i in range(values.shape[0]):\n",
    "        start = np.max((i-stepsBefore, 0)).astype(int)\n",
    "        stop = np.min((i+stepsAfter, values.shape[0])).astype(int)\n",
    "        moving_averages[i] = np.mean(values[start:stop])\n",
    "    return moving_averages"
   ]
  },
  {
   "cell_type": "code",
   "execution_count": 42,
   "id": "7fbb83ba",
   "metadata": {},
   "outputs": [
    {
     "data": {
      "image/png": "[encoded data removed]",
      "text/plain": [
       "<Figure size 432x288 with 1 Axes>"
      ]
     },
     "metadata": {},
     "output_type": "display_data"
    }
   ],
   "source": [
    "shadePlot(np.array(range(NUM_EPOCHS)), movingaverage(stats['MSE'], 8), movingaverage(stats['MSESTD'], 8))\n",
    "# plt.plot([0, NUM_EPOCHS], np.array([1, 1])*randomMSE.item(), 'black', linestyle='--')\n",
    "plt.xlim([0, NUM_EPOCHS])\n",
    "plt.ylim(bottom=1e-3)\n",
    "plt.ylabel('MSE')\n",
    "plt.xlabel('Epoch')\n",
    "plt.yscale('log')"
   ]
  },
  {
   "cell_type": "code",
   "execution_count": 44,
   "id": "3971e7cb",
   "metadata": {},
   "outputs": [
    {
     "data": {
      "text/plain": [
       "Text(0.5, 0, 'Epoch')"
      ]
     },
     "execution_count": 44,
     "metadata": {},
     "output_type": "execute_result"
    },
    {
     "data": {
      "image/png": "[encoded data removed]",
      "text/plain": [
       "<Figure size 432x288 with 1 Axes>"
      ]
     },
     "metadata": {},
     "output_type": "display_data"
    }
   ],
   "source": [
    "plt.plot(range(len(curMSE)),curMSE)\n",
    "# plt.plot([0, len(curMSE)], np.array([1, 1])*randomMSE.item(), 'black', linestyle='--')\n",
    "plt.ylabel('MSE')\n",
    "plt.xlabel('Epoch')\n",
    "#plt.yscale('log')"
   ]
  },
  {
   "cell_type": "code",
   "execution_count": 45,
   "id": "7e13cd8a",
   "metadata": {},
   "outputs": [
    {
     "data": {
      "image/png": "[encoded data removed]",
      "text/plain": [
       "<Figure size 432x288 with 1 Axes>"
      ]
     },
     "metadata": {},
     "output_type": "display_data"
    }
   ],
   "source": [
    "plt.plot(range(len(curLoss)),curLoss)\n",
    "plt.ylabel('Loss')\n",
    "plt.xlabel('Epoch')\n",
    "plt.yscale('log')"
   ]
  },
  {
   "cell_type": "code",
   "execution_count": 46,
   "id": "6885024e",
   "metadata": {},
   "outputs": [
    {
     "data": {
      "text/plain": [
       "Text(0.5, 0, 'Epoch')"
      ]
     },
     "execution_count": 46,
     "metadata": {},
     "output_type": "execute_result"
    },
    {
     "data": {
      "image/png": "[encoded data removed]",
      "text/plain": [
       "<Figure size 432x288 with 1 Axes>"
      ]
     },
     "metadata": {},
     "output_type": "display_data"
    }
   ],
   "source": [
    "plt.plot(range(len(curR2)),curR2)\n",
    "plt.ylabel('R^2')\n",
    "plt.xlabel('Epoch')"
   ]
  },
  {
   "cell_type": "code",
   "execution_count": 47,
   "id": "c17d6807",
   "metadata": {},
   "outputs": [
    {
     "data": {
      "text/plain": [
       "Text(0.5, 0, 'Epoch')"
      ]
     },
     "execution_count": 47,
     "metadata": {},
     "output_type": "execute_result"
    },
    {
     "data": {
      "image/png": "[encoded data removed]",
      "text/plain": [
       "<Figure size 432x288 with 1 Axes>"
      ]
     },
     "metadata": {},
     "output_type": "display_data"
    }
   ],
   "source": [
    "plt.plot(range(len(curPearson)),curPearson)\n",
    "plt.ylabel('Pearson Correlation')\n",
    "plt.xlabel('Epoch')"
   ]
  },
  {
   "cell_type": "code",
   "execution_count": 48,
   "id": "8e108f35",
   "metadata": {},
   "outputs": [],
   "source": [
    "import seaborn as sns\n",
    "sns.set()"
   ]
  },
  {
   "cell_type": "code",
   "execution_count": 49,
   "id": "6c182252",
   "metadata": {},
   "outputs": [
    {
     "name": "stderr",
     "output_type": "stream",
     "text": [
      "/nobackup/users/meimetis/projects/condas/bdvae_rotation/miniconda3/envs/bdvae_rotation/lib/python3.6/site-packages/seaborn/distributions.py:2619: FutureWarning: `distplot` is a deprecated function and will be removed in a future version. Please adapt your code to use either `displot` (a figure-level function with similar flexibility) or `histplot` (an axes-level function for histograms).\n",
      "  warnings.warn(msg, FutureWarning)\n"
     ]
    },
    {
     "data": {
      "image/png": "[encoded data removed]",
      "text/plain": [
       "<Figure size 800x400 with 1 Axes>"
      ]
     },
     "metadata": {},
     "output_type": "display_data"
    }
   ],
   "source": [
    "#plt.hist(z_latent_a375.detach().cpu().flatten().numpy())\n",
    "plt.figure(figsize=(10,5), dpi= 80)\n",
    "sns.set(font_scale=2)\n",
    "sns.distplot(z_latent_a375.detach().cpu().flatten().numpy())\n",
    "plt.xlabel('PC3 encoded features values')\n",
    "plt.ylabel('Density')\n",
    "plt.title('Distribution of latent space features')\n",
    "plt.savefig('../figures/good_trained_ae_pc3_latent_space_allgenes_withclass.png', bbox_inches='tight',dpi=600)"
   ]
  },
  {
   "cell_type": "code",
   "execution_count": 50,
   "id": "cb34b95d",
   "metadata": {},
   "outputs": [
    {
     "data": {
      "text/plain": [
       "(array([7.290000e+02, 2.981000e+03, 1.282800e+04, 1.132560e+05,\n",
       "        5.724157e+06, 8.752780e+06, 2.646360e+05, 2.114600e+04,\n",
       "        3.787000e+03, 7.220000e+02]),\n",
       " array([-11.809593 ,  -9.480411 ,  -7.1512284,  -4.8220463,  -2.492864 ,\n",
       "         -0.1636815,   2.1655009,   4.4946833,   6.8238654,   9.153048 ,\n",
       "         11.48223  ], dtype=float32),\n",
       " <BarContainer object of 10 artists>)"
      ]
     },
     "execution_count": 50,
     "metadata": {},
     "output_type": "execute_result"
    },
    {
     "data": {
      "image/png": "[encoded data removed]",
      "text/plain": [
       "<Figure size 432x288 with 1 Axes>"
      ]
     },
     "metadata": {},
     "output_type": "display_data"
    }
   ],
   "source": [
    "plt.hist(xhat_a375.detach().cpu().flatten().numpy())"
   ]
  },
  {
   "cell_type": "code",
   "execution_count": 51,
   "id": "61291be5",
   "metadata": {},
   "outputs": [
    {
     "data": {
      "text/plain": [
       "(array([2.424000e+03, 6.195000e+03, 2.622400e+04, 2.465220e+05,\n",
       "        6.857737e+06, 7.361767e+06, 3.546740e+05, 3.274000e+04,\n",
       "        6.584000e+03, 2.155000e+03]),\n",
       " array([-10.000001 ,  -8.000001 ,  -6.0000005,  -4.0000005,  -2.0000002,\n",
       "          0.       ,   2.0000002,   4.0000005,   6.0000005,   8.000001 ,\n",
       "         10.000001 ], dtype=float32),\n",
       " <BarContainer object of 10 artists>)"
      ]
     },
     "execution_count": 51,
     "metadata": {},
     "output_type": "execute_result"
    },
    {
     "data": {
      "image/png": "[encoded data removed]",
      "text/plain": [
       "<Figure size 432x288 with 1 Axes>"
      ]
     },
     "metadata": {},
     "output_type": "display_data"
    }
   ],
   "source": [
    "plt.hist(x_a375.detach().cpu().flatten().numpy())"
   ]
  },
  {
   "cell_type": "code",
   "execution_count": 56,
   "id": "01d265d8",
   "metadata": {},
   "outputs": [
    {
     "name": "stderr",
     "output_type": "stream",
     "text": [
      "/nobackup/users/meimetis/projects/condas/bdvae_rotation/miniconda3/envs/bdvae_rotation/lib/python3.6/site-packages/seaborn/distributions.py:2619: FutureWarning: `distplot` is a deprecated function and will be removed in a future version. Please adapt your code to use either `displot` (a figure-level function with similar flexibility) or `histplot` (an axes-level function for histograms).\n",
      "  warnings.warn(msg, FutureWarning)\n"
     ]
    },
    {
     "data": {
      "image/png": "[encoded data removed]",
      "text/plain": [
       "<Figure size 800x400 with 1 Axes>"
      ]
     },
     "metadata": {},
     "output_type": "display_data"
    }
   ],
   "source": [
    "#plt.hist(z_latent_ht29.detach().cpu().flatten().numpy())\n",
    "plt.figure(figsize=(10,5), dpi= 80)\n",
    "sns.set(font_scale=2)\n",
    "sns.distplot(z_latent_ht29.detach().cpu().flatten().numpy())\n",
    "plt.xlabel('HA1E encoded features values')\n",
    "plt.ylabel('Density')\n",
    "plt.title('Distribution of latent space features')\n",
    "plt.savefig('../figures/good_trained_ae_ha1e_latent_space_allgenes_withclass.png', bbox_inches='tight',dpi=600)"
   ]
  },
  {
   "cell_type": "code",
   "execution_count": 57,
   "id": "b4727c2d",
   "metadata": {},
   "outputs": [
    {
     "data": {
      "text/plain": [
       "(array([9.750000e+02, 2.984000e+03, 1.251000e+04, 1.232790e+05,\n",
       "        4.885348e+06, 5.459004e+06, 1.785960e+05, 1.510000e+04,\n",
       "        2.637000e+03, 6.410000e+02]),\n",
       " array([-11.460031  ,  -9.164368  ,  -6.868705  ,  -4.573042  ,\n",
       "         -2.277379  ,   0.01828384,   2.3139467 ,   4.6096096 ,\n",
       "          6.9052725 ,   9.200935  ,  11.496598  ], dtype=float32),\n",
       " <BarContainer object of 10 artists>)"
      ]
     },
     "execution_count": 57,
     "metadata": {},
     "output_type": "execute_result"
    },
    {
     "data": {
      "image/png": "[encoded data removed]",
      "text/plain": [
       "<Figure size 432x288 with 1 Axes>"
      ]
     },
     "metadata": {},
     "output_type": "display_data"
    }
   ],
   "source": [
    "plt.hist(xhat_ht29.detach().cpu().flatten().numpy())"
   ]
  },
  {
   "cell_type": "markdown",
   "id": "97d4679d",
   "metadata": {},
   "source": [
    "# Important genes : Integrated gradients"
   ]
  },
  {
   "cell_type": "code",
   "execution_count": 5,
   "id": "44f89dc5",
   "metadata": {},
   "outputs": [],
   "source": [
    "import seaborn as sns\n",
    "sns.set()"
   ]
  },
  {
   "cell_type": "code",
   "execution_count": 6,
   "id": "3c744b7f",
   "metadata": {},
   "outputs": [
    {
     "ename": "NameError",
     "evalue": "name 'classifier' is not defined",
     "output_type": "error",
     "traceback": [
      "\u001b[0;31m---------------------------------------------------------------------------\u001b[0m",
      "\u001b[0;31mNameError\u001b[0m                                 Traceback (most recent call last)",
      "\u001b[0;32m<ipython-input-6-c46415655e56>\u001b[0m in \u001b[0;36m<module>\u001b[0;34m\u001b[0m\n\u001b[1;32m      8\u001b[0m \u001b[0mencoder_a375\u001b[0m\u001b[0;34m.\u001b[0m\u001b[0meval\u001b[0m\u001b[0;34m(\u001b[0m\u001b[0;34m)\u001b[0m\u001b[0;34m\u001b[0m\u001b[0;34m\u001b[0m\u001b[0m\n\u001b[1;32m      9\u001b[0m \u001b[0;31m# encoder_ht29.eval()\u001b[0m\u001b[0;34m\u001b[0m\u001b[0;34m\u001b[0m\u001b[0;34m\u001b[0m\u001b[0m\n\u001b[0;32m---> 10\u001b[0;31m \u001b[0mclassifier\u001b[0m\u001b[0;34m.\u001b[0m\u001b[0meval\u001b[0m\u001b[0;34m(\u001b[0m\u001b[0;34m)\u001b[0m\u001b[0;34m\u001b[0m\u001b[0;34m\u001b[0m\u001b[0m\n\u001b[0m\u001b[1;32m     11\u001b[0m \u001b[0mprint\u001b[0m\u001b[0;34m(\u001b[0m\u001b[0;34m'Evaluation mode'\u001b[0m\u001b[0;34m)\u001b[0m\u001b[0;34m\u001b[0m\u001b[0;34m\u001b[0m\u001b[0m\n",
      "\u001b[0;31mNameError\u001b[0m: name 'classifier' is not defined"
     ]
    }
   ],
   "source": [
    "encoder_a375=torch.load('../results/trained_models/Encoder_PC3_MI_allgenes_withclass.pth')\n",
    "# encoder_ht29=torch.load('../results/trained_models/Encoder_HA1E_MI_allgenes_withclass.pth')\n",
    "# decoder_a375=torch.load('../results/trained_models/Decoder_PC3_MI_allgenes_withclass.pth')\n",
    "decoder_ht29=torch.load('../results/trained_models/Decoder_HA1E_MI_allgenes_withclass.pth')\n",
    "# classifier = torch.load('../results/trained_models/classifier_pc3_ha1e.pth')\n",
    "# decoder_a375.eval()\n",
    "decoder_ht29.eval()\n",
    "encoder_a375.eval()\n",
    "# encoder_ht29.eval()\n",
    "classifier.eval()\n",
    "print('Evaluation mode')"
   ]
  },
  {
   "cell_type": "code",
   "execution_count": null,
   "id": "aecf363b",
   "metadata": {},
   "outputs": [],
   "source": [
    "x_a375 = torch.tensor(np.concatenate((cmap.loc[sampleInfo_paired['sig_id.x']].values,\n",
    "                                      cmap.loc[sampleInfo_a375.sig_id].values))).float().to(device)\n",
    "x_ht29 = torch.tensor(np.concatenate((cmap.loc[sampleInfo_paired['sig_id.y']].values,\n",
    "                                      cmap.loc[sampleInfo_ht29.sig_id].values))).float().to(device)"
   ]
  },
  {
   "cell_type": "code",
   "execution_count": null,
   "id": "8b46a68d",
   "metadata": {},
   "outputs": [],
   "source": [
    "paired_inds = len(sampleInfo_paired)\n",
    "len_samples = x_a375.shape[0]"
   ]
  },
  {
   "cell_type": "code",
   "execution_count": null,
   "id": "87559127",
   "metadata": {},
   "outputs": [],
   "source": [
    "# # Classifier importance\n",
    "# z_1 = torch.tensor(pd.read_csv('../results/trained_embs_all/AllEmbs_MI_pc3_withclass.csv'index_col=0).drop_duplicates().values).to(device)\n",
    "# z_2 = torch.tensor(pd.read_csv('../results/trained_embs_all/AllEmbs_MI_ha1e_withclass.csv',index_col=0).drop_duplicates().values).to(device)\n",
    "# z = torch.cat((z_1,z_2),0).float()\n",
    "# ig = IntegratedGradients(classifier)\n",
    "# z.requires_grad_()\n",
    "# attr1 = ig.attribute(z,target=1,n_steps=100, return_convergence_delta=False)\n",
    "# attr1 = attr1.detach().cpu().numpy()\n",
    "# attr2 = ig.attribute(z,target=0,n_steps=100, return_convergence_delta=False)\n",
    "# attr2 = attr2.detach().cpu().numpy()\n",
    "# df1 = pd.DataFrame(attr1)\n",
    "# df1.index = cmap.index\n",
    "# df1.columns = ['z'+str(i) for i in range(1024)]\n",
    "# df1.to_csv('../results/Importance_results/important_scores_to_classify_as_pc3.csv')\n",
    "# df2 = pd.DataFrame(attr2)\n",
    "# df2.index = cmap.index\n",
    "# df2.columns = ['z'+str(i) for i in range(1024)]\n",
    "# df2.to_csv('../results/Importance_results/important_scores_to_classify_as_ha1e.csv')"
   ]
  },
  {
   "cell_type": "code",
   "execution_count": null,
   "id": "f543ca11",
   "metadata": {},
   "outputs": [],
   "source": [
    "x_a375_equivalent = x_a375[0:paired_inds,:]"
   ]
  },
  {
   "cell_type": "code",
   "execution_count": null,
   "id": "9415a1e0",
   "metadata": {},
   "outputs": [],
   "source": [
    "# x_ht29_equivalent = x_ht29[0:paired_inds,:]"
   ]
  },
  {
   "cell_type": "code",
   "execution_count": null,
   "id": "68e69e15",
   "metadata": {},
   "outputs": [],
   "source": [
    "translator = torch.nn.Sequential(encoder_a375,decoder_ht29)"
   ]
  },
  {
   "cell_type": "code",
   "execution_count": null,
   "id": "71b3e655",
   "metadata": {},
   "outputs": [],
   "source": [
    "translator.eval()\n",
    "ig = IntegratedGradients(translator)\n",
    "# ig = IntegratedGradients(encoder_a375)"
   ]
  },
  {
   "cell_type": "code",
   "execution_count": null,
   "id": "8741dd86",
   "metadata": {},
   "outputs": [],
   "source": [
    "# Per sample captum importance translation\n",
    "hid_dim = 292\n",
    "scores = torch.zeros ((paired_inds,gene_size)).to(device)\n",
    "for z in range(gene_size):\n",
    "    #translator.zero_grad()\n",
    "    attr, delta = ig.attribute(x_a375_equivalent,target=z,n_steps=10,return_convergence_delta=True) # 10 steps cause it takes to much time\n",
    "    scores = scores + attr\n",
    "#grads = grads/gene_size\n",
    "print(scores)"
   ]
  },
  {
   "cell_type": "code",
   "execution_count": null,
   "id": "dc80044d",
   "metadata": {},
   "outputs": [],
   "source": [
    "# Per output gene input importance translation captum\n",
    "# 1st dimesion input\n",
    "# 2nd dimesion output\n",
    "hid_dim = 292\n",
    "scores = torch.zeros ((gene_size,gene_size)).to(device)\n",
    "for z in range(gene_size):\n",
    "    #translator.zero_grad()\n",
    "    attr, delta = ig.attribute(x_a375_equivalent,target=z,n_steps=10,return_convergence_delta=True) # 10 steps cause it takes to much time\n",
    "    scores[:,z] = torch.mean(attr,0) \n",
    "print(scores)"
   ]
  },
  {
   "cell_type": "code",
   "execution_count": null,
   "id": "96243476",
   "metadata": {},
   "outputs": [],
   "source": [
    "# Per sample captum importance encoding\n",
    "hid_dim = 292\n",
    "scores = torch.zeros ((len_samples,gene_size)).to(device)\n",
    "for z in range(hid_dim):\n",
    "    #encoder_a375.zero_grad()\n",
    "    attr, delta = ig.attribute(x_a375,target=z,n_steps=100,return_convergence_delta=True)\n",
    "    scores = scores + attr \n",
    "#grads = grads/hid_dim\n",
    "print(scores)"
   ]
  },
  {
   "cell_type": "code",
   "execution_count": null,
   "id": "dd3c45b5",
   "metadata": {},
   "outputs": [],
   "source": [
    "# Per output latent variable input importance translation captum\n",
    "# 1st dimesion input\n",
    "# 2nd dimesion output\n",
    "hid_dim = 292\n",
    "scores = torch.zeros ((gene_size,hid_dim)).to(device)\n",
    "for z in range(hid_dim):\n",
    "    #encoder_a375.zero_grad()\n",
    "    attr, delta = ig.attribute(x_a375,target=z,n_steps=100,return_convergence_delta=True)\n",
    "    scores[:,z] = torch.mean(attr,0)\n",
    "print(scores)"
   ]
  },
  {
   "cell_type": "code",
   "execution_count": null,
   "id": "33732599",
   "metadata": {},
   "outputs": [],
   "source": [
    "plt.figure(figsize=(10,5), dpi= 80)\n",
    "sns.set(font_scale=2)\n",
    "sns.distplot(scores.flatten().cpu().numpy())\n",
    "plt.xlabel('Importance score')\n",
    "plt.ylabel('Density')\n",
    "plt.title('Distribution of importance scores of the input features')\n",
    "plt.savefig('../figures/pc3_to_ha1e_importance_distribution_lands.png', bbox_inches='tight')"
   ]
  },
  {
   "cell_type": "code",
   "execution_count": null,
   "id": "ba7a8fe6",
   "metadata": {},
   "outputs": [],
   "source": [
    "# # Helper method to print importances and visualize distribution\n",
    "# # Taken from https://captum.ai/tutorials/Titanic_Basic_Interpret\n",
    "# def visualize_importances(feature_names, importances, title=\"Average Feature Importances\", plot=True, axis_title=\"Features\"):\n",
    "#     print(title)\n",
    "#     #for i in range(len(feature_names)):\n",
    "#     #    print(feature_names[i], \": \", '%.3f'%(importances[i]))\n",
    "#     x_pos = (np.arange(len(feature_names)))\n",
    "#     if plot:\n",
    "#         plt.figure(figsize=(12,6))\n",
    "#         plt.bar(x_pos, importances, align='center')\n",
    "#         plt.xticks(x_pos, feature_names, wrap=True)\n",
    "#         plt.xlabel(axis_title)\n",
    "#         plt.title(title)\n",
    "\n",
    "# ### Visualize JUST 10 input genes for example\n",
    "# visualize_importances(list(cmap.columns.values[950:1000]), np.mean(scores.detach().cpu().numpy()[:,950:1000], axis=0))"
   ]
  },
  {
   "cell_type": "code",
   "execution_count": null,
   "id": "e08c1ed9",
   "metadata": {},
   "outputs": [],
   "source": [
    "scores.shape"
   ]
  },
  {
   "cell_type": "code",
   "execution_count": null,
   "id": "4cf389b4",
   "metadata": {},
   "outputs": [],
   "source": [
    "df = pd.DataFrame(scores.cpu().numpy())\n",
    "#df.columns = (sampleInfo_paired['sig_id.x'] + '_to_' + sampleInfo_paired['sig_id.y']).values\n",
    "#df.columns = list(sampleInfo_paired['sig_id.x']) + list(sampleInfo_a375['sig_id']) \n",
    "df.columns = cmap.columns\n",
    "# df.index = list(sampleInfo_paired['sig_id.x']) + list(sampleInfo_a375['sig_id']) \n",
    "#df.columns = ['z'+str(i) for i in range(292)]\n",
    "df.index = cmap.columns\n",
    "# df.index = list(sampleInfo_paired['sig_id.x'])\n",
    "df.to_csv('../results/Importance_results/important_scores_pc3_to_ha1e_lands.csv')"
   ]
  },
  {
   "cell_type": "markdown",
   "id": "9455220c",
   "metadata": {},
   "source": [
    "# Cross-fold validation of classifier"
   ]
  },
  {
   "cell_type": "code",
   "execution_count": 7,
   "id": "e6ee671d",
   "metadata": {},
   "outputs": [
    {
     "name": "stdout",
     "output_type": "stream",
     "text": [
      "Split 0 finished!\n",
      "Split 1 finished!\n",
      "Split 2 finished!\n",
      "Split 3 finished!\n",
      "Split 4 finished!\n",
      "Split 5 finished!\n",
      "Split 6 finished!\n",
      "Split 7 finished!\n",
      "Split 8 finished!\n",
      "Split 9 finished!\n"
     ]
    }
   ],
   "source": [
    "for i in range(10):\n",
    "    #embs_1 = pd.read_csv('../results/MI_results/embs/TwoEncoders_TwoDecoders_PC3_HA1E_withclass/validation/valEmbs_%s_pc3.csv'%i,\n",
    "    #                     index_col=0).drop_duplicates()\n",
    "    #embs_2 = pd.read_csv('../results/MI_results/embs/TwoEncoders_TwoDecoders_PC3_HA1E_withclass/validation/valEmbs_%s_ha1e.csv'%i,\n",
    "    #                     index_col=0).drop_duplicates()\n",
    "    \n",
    "    #encoder_1 = torch.load('../results/MI_results/models/TwoEncoders_TwoDecoders_PC3_HA1E_withclass/encoder_pc3_%s.pt'%i)\n",
    "    encoder_2 = torch.load('../results/MI_results/models/TwoEncoders_TwoDecoders_PC3_HA1E_withclass/encoder_ha1e_%s.pt'%i)\n",
    "    #decoder_1 = torch.load('../results/MI_results/models/TwoEncoders_TwoDecoders_PC3_HA1E_withclass/decoder_pc3_%s.pt'%i)\n",
    "    #decoder_2 = torch.load('../results/MI_results/models/TwoEncoders_TwoDecoders_PC3_HA1E_withclass/decoder_ha1e_%s.pt'%i)\n",
    "    #classifier = torch.load('../results/MI_results/models/TwoEncoders_TwoDecoders_PC3_HA1E_withclass/classifier_%s.pt'%i)\n",
    "    \n",
    "    #encoder_1.eval()\n",
    "    encoder_2.eval()\n",
    "    #decoder_1.eval()\n",
    "    #decoder_2.eval()\n",
    "    #classifier.eval()\n",
    "    # Classifier importance\n",
    "    #z_1 = torch.tensor(embs_1.values).to(device)\n",
    "    #z_2 = torch.tensor(embs_2.values).to(device)\n",
    "    #z = torch.cat((z_1,z_2),0).float()\n",
    "    #ig = IntegratedGradients(classifier)\n",
    "    #z.requires_grad_()\n",
    "    #attr1 = ig.attribute(z,target=1,n_steps=100, return_convergence_delta=False)\n",
    "    #attr1 = attr1.detach().cpu().numpy()\n",
    "    #attr2 = ig.attribute(z,target=0,n_steps=100, return_convergence_delta=False)\n",
    "    #attr2 = attr2.detach().cpu().numpy()\n",
    "    #df1 = pd.DataFrame(attr1)\n",
    "    #df1.index = list(embs_1.index) + list(embs_2.index)\n",
    "    #df1.columns = ['z'+str(i) for i in range(1024)]\n",
    "    #df1.to_csv('../results/MI_results/embs/TwoEncoders_TwoDecoders_PC3_HA1E_withclass/scores_class_validation/important_scores_to_classify_as_pc3_val_%s.csv'%i)\n",
    "    #df2 = pd.DataFrame(attr2)\n",
    "    #df2.index = list(embs_1.index) + list(embs_2.index)\n",
    "    #df2.columns = ['z'+str(i) for i in range(1024)]\n",
    "    #df2.to_csv('../results/MI_results/embs/TwoEncoders_TwoDecoders_PC3_HA1E_withclass/scores_class_validation/important_scores_to_classify_as_ha1e_val_%s.csv'%i)\n",
    "    \n",
    "    #trainInfo_paired = pd.read_csv('../preprocessing/preprocessed_data/10fold_validation_spit/train_paired_pc3_ha1e_%s.csv'%i,index_col=0)\n",
    "    #trainInfo_1 = pd.read_csv('../preprocessing/preprocessed_data/10fold_validation_spit/train_pc3_%s.csv'%i,index_col=0)\n",
    "    #trainInfo_2 = pd.read_csv('../preprocessing/preprocessed_data/10fold_validation_spit/train_ha1e_%s.csv'%i,index_col=0)\n",
    "    valInfo_paired = pd.read_csv('../preprocessing/preprocessed_data/10fold_validation_spit/val_paired_pc3_ha1e_%s.csv'%i,index_col=0)\n",
    "    valInfo_1 = pd.read_csv('../preprocessing/preprocessed_data/10fold_validation_spit/val_pc3_%s.csv'%i,index_col=0)\n",
    "    valInfo_2 = pd.read_csv('../preprocessing/preprocessed_data/10fold_validation_spit/val_ha1e_%s.csv'%i,index_col=0)\n",
    "    #x_1 = torch.tensor(np.concatenate((cmap.loc[valInfo_paired['sig_id.x']].values,\n",
    "    #                                      cmap.loc[valInfo_1.sig_id].values))).float().to(device)\n",
    "    x_2 = torch.tensor(np.concatenate((cmap.loc[valInfo_paired['sig_id.y']].values,\n",
    "                                          cmap.loc[valInfo_2.sig_id].values))).float().to(device)\n",
    "    ig = IntegratedGradients(encoder_2)\n",
    "    hid_dim = 1024\n",
    "    scores = torch.zeros ((gene_size,hid_dim)).to(device)\n",
    "    for z in range(hid_dim):\n",
    "        attr, delta = ig.attribute(x_2,target=z,n_steps=100,return_convergence_delta=True)\n",
    "        scores[:,z] = torch.mean(attr,0)\n",
    "        \n",
    "    df = pd.DataFrame(scores.cpu().numpy())\n",
    "    df.columns = ['z'+str(i) for i in range(hid_dim)]\n",
    "    df.index = cmap.columns\n",
    "    df.to_csv('../results/MI_results/embs/TwoEncoders_TwoDecoders_PC3_HA1E_withclass/scores_class_validation/important_scores_ha1e_encode_val_%s.csv'%i)\n",
    "    \n",
    "    print('Split %s finished!'%i)"
   ]
  },
  {
   "cell_type": "markdown",
   "id": "02ca3036",
   "metadata": {},
   "source": [
    "# Compare predictions with baseline untreated cells"
   ]
  },
  {
   "cell_type": "code",
   "execution_count": 12,
   "id": "7119fe49",
   "metadata": {},
   "outputs": [
    {
     "data": {
      "text/plain": [
       "(239, 1024)"
      ]
     },
     "execution_count": 12,
     "metadata": {},
     "output_type": "execute_result"
    }
   ],
   "source": [
    "attr1.shape"
   ]
  },
  {
   "cell_type": "code",
   "execution_count": 4,
   "id": "9242f276",
   "metadata": {},
   "outputs": [
    {
     "name": "stderr",
     "output_type": "stream",
     "text": [
      "/home/software/anaconda3/2019.10_powerai/envs/powerai/lib/python3.7/site-packages/torch/serialization.py:453: SourceChangeWarning: source code of class 'models.VAE' has changed. you can retrieve the original source code by accessing the object's source attribute or set `torch.nn.Module.dump_patches = True` and use the patch tool to revert the changes.\n",
      "  warnings.warn(msg, SourceChangeWarning)\n",
      "/home/software/anaconda3/2019.10_powerai/envs/powerai/lib/python3.7/site-packages/torch/serialization.py:453: SourceChangeWarning: source code of class 'models.Encoder' has changed. you can retrieve the original source code by accessing the object's source attribute or set `torch.nn.Module.dump_patches = True` and use the patch tool to revert the changes.\n",
      "  warnings.warn(msg, SourceChangeWarning)\n"
     ]
    },
    {
     "name": "stdout",
     "output_type": "stream",
     "text": [
      "Finished split 0\n",
      "Finished split 1\n",
      "Finished split 2\n",
      "Finished split 3\n",
      "Finished split 4\n",
      "Finished split 5\n",
      "Finished split 6\n",
      "Finished split 7\n",
      "Finished split 8\n",
      "Finished split 9\n"
     ]
    }
   ],
   "source": [
    "for i in range(10):\n",
    "    # Network\n",
    "    autoencoder_a375 = torch.load('../results/my_results/models/notvae/autoencoder_mmd_a375_%s.pt'%i)\n",
    "    autoencoder_ht29 = torch.load('../results/my_results/models/notvae/autoencoder_mmd_ht29_%s.pt'%i)\n",
    "    autoencoder_ht29.eval()\n",
    "    autoencoder_a375.eval()\n",
    "    \n",
    "    trainInfo_paired = pd.read_csv('../preprocessing/preprocessed_data/10fold_validation_spit/train_paired_%s.csv'%i,index_col=0)\n",
    "    trainInfo_a375 = pd.read_csv('../preprocessing/preprocessed_data/10fold_validation_spit/train_a375_%s.csv'%i,index_col=0)\n",
    "    trainInfo_ht29 = pd.read_csv('../preprocessing/preprocessed_data/10fold_validation_spit/train_ht29_%s.csv'%i,index_col=0)\n",
    "    \n",
    "    valInfo_paired = pd.read_csv('../preprocessing/preprocessed_data/10fold_validation_spit/val_paired_%s.csv'%i,index_col=0)\n",
    "    valInfo_a375 = pd.read_csv('../preprocessing/preprocessed_data/10fold_validation_spit/val_a375_%s.csv'%i,index_col=0)\n",
    "    valInfo_ht29 = pd.read_csv('../preprocessing/preprocessed_data/10fold_validation_spit/val_ht29_%s.csv'%i,index_col=0)\n",
    "    \n",
    "    N_paired = len(trainInfo_paired)\n",
    "    N_a375 = len(trainInfo_a375)\n",
    "    N_ht29 = len(trainInfo_ht29)\n",
    "    N = N_a375\n",
    "    if N_ht29>N:\n",
    "        N=N_ht29\n",
    "    \n",
    "    paired_val_inds = len(valInfo_paired)\n",
    "    x_a375 = torch.tensor(np.concatenate((cmap.loc[valInfo_paired['sig_id.x']].values,\n",
    "                                          cmap.loc[valInfo_a375.sig_id].values))).float().to(device)\n",
    "    x_ht29 = torch.tensor(np.concatenate((cmap.loc[valInfo_paired['sig_id.y']].values,\n",
    "                                          cmap.loc[valInfo_ht29.sig_id].values))).float().to(device)\n",
    "    #x_a375 = torch.tensor(cmap_val.loc[a375_conditions.sig_id].values).float().to(device)\n",
    "    #x_ht29 = torch.tensor(cmap_val.loc[ht29_conditions.sig_id].values).float().to(device)\n",
    "   \n",
    "    x_a375_equivalent = x_a375[0:paired_val_inds,:]\n",
    "    x_ht29_equivalent = x_ht29[0:paired_val_inds,:]\n",
    "    \n",
    "    z_latent_a375_equivalent  = autoencoder_a375.encoder(x_a375_equivalent)\n",
    "    x_hat_ht29_equivalent = autoencoder_ht29.decoder(z_latent_a375_equivalent).detach()\n",
    "    df = pd.DataFrame(x_hat_ht29_equivalent.cpu().numpy())\n",
    "    df.index = valInfo_paired['sig_id.y']\n",
    "    df.columns = cmap.columns\n",
    "    df.to_csv('predictions/paired_ht29_preds_%s.csv'%i)\n",
    "    \n",
    "    z_latent_ht29_equivalent  = autoencoder_ht29.encoder(x_ht29_equivalent)\n",
    "    x_hat_a375_equivalent = autoencoder_a375.decoder(z_latent_ht29_equivalent).detach()\n",
    "    df = pd.DataFrame(x_hat_a375_equivalent.cpu().numpy())\n",
    "    df.index = valInfo_paired['sig_id.x']\n",
    "    df.columns = cmap.columns\n",
    "    df.to_csv('predictions/paired_a375_preds_%s.csv'%i)\n",
    "    print('Finished split %s'%i)"
   ]
  }
 ],
 "metadata": {
  "kernelspec": {
   "display_name": "Python 3",
   "language": "python",
   "name": "python3"
  },
  "language_info": {
   "codemirror_mode": {
    "name": "ipython",
    "version": 3
   },
   "file_extension": ".py",
   "mimetype": "text/x-python",
   "name": "python",
   "nbconvert_exporter": "python",
   "pygments_lexer": "ipython3",
   "version": "3.8.8"
  }
 },
 "nbformat": 4,
 "nbformat_minor": 5
}
