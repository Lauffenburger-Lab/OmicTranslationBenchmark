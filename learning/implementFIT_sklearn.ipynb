{
 "cells": [
  {
   "cell_type": "code",
   "execution_count": 1,
   "id": "bca4ac26",
   "metadata": {},
   "outputs": [],
   "source": [
    "import torch\n",
    "from sklearn.linear_model import LinearRegression,Lasso\n",
    "import numpy as np\n",
    "import pandas as pd\n",
    "import sys\n",
    "import random\n",
    "import os\n",
    "from IPython.display import clear_output\n",
    "from matplotlib import pyplot as plt\n",
    "from scipy.stats import spearmanr\n",
    "from evaluationUtils import r_square,get_cindex,pearson_r,pseudoAccuracy\n",
    "\n",
    "import json\n",
    "import pickle\n",
    "import seaborn as sns\n",
    "sns.set()"
   ]
  },
  {
   "cell_type": "code",
   "execution_count": 2,
   "id": "7b491444",
   "metadata": {},
   "outputs": [],
   "source": [
    "device = torch.device('cuda')"
   ]
  },
  {
   "cell_type": "markdown",
   "id": "41fb7340",
   "metadata": {},
   "source": [
    "# Load data"
   ]
  },
  {
   "cell_type": "code",
   "execution_count": 3,
   "id": "fcaf010e",
   "metadata": {},
   "outputs": [],
   "source": [
    "gene_space = 'allgenes'\n",
    "cmap = pd.read_csv('../preprocessing/preprocessed_data/cmap_all_genes_q1_tas03.csv',index_col = 0)\n",
    "if gene_space=='landmarks':\n",
    "    lands = pd.read_csv('../preprocessing/preprocessed_data/cmap_landmarks_HT29_A375.csv', index_col=0)\n",
    "    lands = lands.columns\n",
    "    cmap = cmap.loc[:, lands]\n",
    "gene_size = len(cmap.columns)\n",
    "samples = cmap.index.values"
   ]
  },
  {
   "cell_type": "code",
   "execution_count": 4,
   "id": "e65d3228",
   "metadata": {},
   "outputs": [],
   "source": [
    "# Create a train generators\n",
    "def getSamples(N, batchSize):\n",
    "    order = np.random.permutation(N)\n",
    "    outList = []\n",
    "    while len(order)>0:\n",
    "        outList.append(order[0:batchSize])\n",
    "        order = order[batchSize:]\n",
    "    return outList"
   ]
  },
  {
   "cell_type": "markdown",
   "id": "762a58c2",
   "metadata": {},
   "source": [
    "# Define fit model"
   ]
  },
  {
   "cell_type": "code",
   "execution_count": 5,
   "id": "bbf2c0ae",
   "metadata": {},
   "outputs": [],
   "source": [
    "class FIT(object):\n",
    "    \n",
    "    def __init__(self, inputSize):\n",
    "        \n",
    "        super(FIT, self).__init__()\n",
    "        \n",
    "        self.num_genes = inputSize\n",
    "        ### Initialize a regression model for each gene\n",
    "        self.models = [LinearRegression() for i in range(inputSize)]\n",
    "        \n",
    "    def fit(self,x,y):\n",
    "        for i in range(self.num_genes):\n",
    "            if len(x[:,i].shape)<2:\n",
    "                x_reshaped = np.expand_dims(x[:,i], 1)\n",
    "            else:\n",
    "                x_reshaped = np.copy(x[:,i])\n",
    "            if len(y[:,i].shape)<2:\n",
    "                y_reshaped = np.expand_dims(y[:,i], 1)\n",
    "            else:\n",
    "                y_reshaped = np.copy(y[:,i])\n",
    "            self.models[i].fit(x_reshaped,y_reshaped)\n",
    "    \n",
    "    def predict(self, x):\n",
    "        y = np.zeros(x.shape)\n",
    "        for i in range(self.num_genes):\n",
    "            if len(x[:,i].shape)<2:\n",
    "                x_reshaped = np.expand_dims(x[:,i], 1)\n",
    "            else:\n",
    "                x_reshaped = np.copy(x[:,i])\n",
    "            y[:,i:i+1] = self.models[i].predict(x_reshaped)\n",
    "        return y\n",
    "    \n",
    "    def per_gene_r2(self,x,y):\n",
    "        r2 =[]\n",
    "        for i in range(self.num_genes):\n",
    "            if len(x[:,i].shape)<2:\n",
    "                x_reshaped = np.expand_dims(x[:,i], 1)\n",
    "            else:\n",
    "                x_reshaped = np.copy(x[:,i])\n",
    "            if len(y[:,i].shape)<2:\n",
    "                y_reshaped = np.expand_dims(y[:,i], 1)\n",
    "            else:\n",
    "                y_reshaped = np.copy(y[:,i])\n",
    "            r2.append(self.models[i].score(x_reshaped, y_reshaped))\n",
    "        return r2"
   ]
  },
  {
   "cell_type": "markdown",
   "id": "1a2e9346",
   "metadata": {},
   "source": [
    "# Start training one direction"
   ]
  },
  {
   "cell_type": "code",
   "execution_count": 6,
   "id": "e2f9e229",
   "metadata": {},
   "outputs": [],
   "source": [
    "results = {'model_pearsonHT29':[],'model_pearsonA375':[],\n",
    "           'model_spearHT29':[],'model_spearA375':[],\n",
    "           'model_accHT29':[],'model_accA375':[]}"
   ]
  },
  {
   "cell_type": "code",
   "execution_count": 7,
   "id": "817515be",
   "metadata": {},
   "outputs": [],
   "source": [
    "train_results = {'model_pearsonHT29':[],'model_pearsonA375':[],\n",
    "           'model_spearHT29':[],'model_spearA375':[],\n",
    "           'model_accHT29':[],'model_accA375':[]}"
   ]
  },
  {
   "cell_type": "code",
   "execution_count": 8,
   "id": "36eff492",
   "metadata": {},
   "outputs": [
    {
     "name": "stdout",
     "output_type": "stream",
     "text": [
      "Training: Split 1, r2=-1.7354, pearson=0.5174, MSE=0.8675\n",
      "Validation: Split 1, r2=-1.2886, pearson=0.5679, MSE=0.7979\n",
      "Training: Split 2, r2=-1.6522, pearson=0.5233, MSE=0.8645\n",
      "Validation: Split 2, r2=-1.4049, pearson=0.5186, MSE=0.8230\n",
      "Training: Split 3, r2=-1.7132, pearson=0.5190, MSE=0.8557\n",
      "Validation: Split 3, r2=-1.7027, pearson=0.5526, MSE=0.9062\n",
      "Training: Split 4, r2=-1.6463, pearson=0.5237, MSE=0.8700\n",
      "Validation: Split 4, r2=-1.3596, pearson=0.5151, MSE=0.7716\n",
      "Training: Split 5, r2=-1.7813, pearson=0.5143, MSE=0.8356\n",
      "Validation: Split 5, r2=-1.9169, pearson=0.5724, MSE=1.1022\n",
      "Training: Split 6, r2=-1.6335, pearson=0.5246, MSE=0.8498\n",
      "Validation: Split 6, r2=-2.0021, pearson=0.5075, MSE=0.9563\n",
      "Training: Split 7, r2=-1.5320, pearson=0.5321, MSE=0.8533\n",
      "Validation: Split 7, r2=-2.3398, pearson=0.4262, MSE=0.9266\n",
      "Training: Split 8, r2=-1.6841, pearson=0.5210, MSE=0.8537\n",
      "Validation: Split 8, r2=-2.3183, pearson=0.5419, MSE=0.9236\n",
      "Training: Split 9, r2=-1.5104, pearson=0.5337, MSE=0.8701\n",
      "Validation: Split 9, r2=-1.6785, pearson=0.3954, MSE=0.7719\n",
      "Training: Split 10, r2=-1.6056, pearson=0.5266, MSE=0.8684\n",
      "Validation: Split 10, r2=-1.4121, pearson=0.4863, MSE=0.7861\n"
     ]
    }
   ],
   "source": [
    "trainPear = []\n",
    "trainSpear = []\n",
    "trainR2 =[]\n",
    "trainMSE = []\n",
    "trainAcc =[]\n",
    "\n",
    "valPear = []\n",
    "valSpear = []\n",
    "valR2 =[]\n",
    "valMSE = []\n",
    "valAcc = []\n",
    "\n",
    "for i in range(10):\n",
    "    # Load data\n",
    "    trainInfo_paired = pd.read_csv('../preprocessing/preprocessed_data/10fold_validation_spit/train_paired_%s.csv'%i,index_col=0)\n",
    "    valInfo_paired = pd.read_csv('../preprocessing/preprocessed_data/10fold_validation_spit/val_paired_%s.csv'%i,index_col=0)\n",
    "    N = len(trainInfo_paired)\n",
    "    \n",
    "    x1 = cmap.loc[trainInfo_paired['sig_id.x'],:].values\n",
    "    x2 = cmap.loc[trainInfo_paired['sig_id.y'],:].values\n",
    "    \n",
    "    xval1 = cmap.loc[valInfo_paired['sig_id.x'],:].values\n",
    "    xval2 = cmap.loc[valInfo_paired['sig_id.y'],:].values\n",
    "    \n",
    "    model = FIT(gene_size)    \n",
    "    model.fit(x1,x2)\n",
    "    y = model.predict(x1)\n",
    "    \n",
    "    gene_r2 = model.per_gene_r2(x1,x2)\n",
    "    \n",
    "    \n",
    "    pearson = pearson_r(torch.tensor(y).to(device).flatten(), torch.tensor(x2).to(device).flatten())\n",
    "    r2 = r_square(torch.tensor(y).to(device).flatten(), torch.tensor(x2).to(device).flatten())\n",
    "    mse = torch.mean(torch.mean((torch.tensor(y).to(device)- torch.tensor(x2).to(device))**2,dim=1))\n",
    "    trainMSE.append(mse.item())\n",
    "    trainPear.append(pearson.item())\n",
    "    trainR2.append(r2.item())\n",
    "    rhos = []\n",
    "    for jj in range(y.shape[0]):\n",
    "        rho, p = spearmanr(x2[jj, :], y[jj, :])\n",
    "        rhos.append(rho)\n",
    "    trainSpear.append(np.mean(rhos))\n",
    "    acc = pseudoAccuracy(torch.tensor(x2), torch.tensor(y), eps=1e-6)\n",
    "    trainAcc.append(np.mean(acc))\n",
    "    \n",
    "    outString = 'Training: Split {:.0f}'.format(i + 1)\n",
    "    outString += ', r2={:.4f}'.format(r2.item())\n",
    "    outString += ', pearson={:.4f}'.format(pearson.item()) \n",
    "    outString += ', MSE={:.4f}'.format(mse.item())\n",
    "    print(outString)\n",
    "    \n",
    "    # Validation\n",
    "    yval = model.predict(xval1)\n",
    "    pearson = pearson_r(torch.tensor(yval).to(device).flatten(), torch.tensor(xval2).to(device).flatten())\n",
    "    r2 = r_square(torch.tensor(yval).to(device).flatten(), torch.tensor(xval2).to(device).flatten())\n",
    "    mse = torch.mean(torch.mean((torch.tensor(yval).to(device)-torch.tensor(xval2).to(device))**2,dim=1))\n",
    "    valMSE.append(mse.item())\n",
    "    valPear.append(pearson.item())\n",
    "    valR2.append(r2.item())\n",
    "    rhos = []\n",
    "    for jj in range(yval.shape[0]):\n",
    "        rho, p = spearmanr(xval2[jj, :], yval[jj, :])\n",
    "        rhos.append(rho)\n",
    "    valSpear.append(np.mean(rhos))\n",
    "    acc = pseudoAccuracy(torch.tensor(xval2), torch.tensor(yval), eps=1e-6)\n",
    "    valAcc.append(np.mean(acc))\n",
    "    \n",
    "    outString = 'Validation: Split {:.0f}'.format(i + 1)\n",
    "    outString += ', r2={:.4f}'.format(r2.item())\n",
    "    outString += ', pearson={:.4f}'.format(pearson.item()) \n",
    "    outString += ', MSE={:.4f}'.format(mse.item())\n",
    "    print(outString)\n",
    "    \n",
    "    with open('../results/FITmodel_results/models_noReg/FITmodel_'+gene_space+'_a375_ht29_%s.pkl'%i, 'wb') as outp:\n",
    "        pickle.dump(model, outp, pickle.HIGHEST_PROTOCOL)"
   ]
  },
  {
   "cell_type": "code",
   "execution_count": 9,
   "id": "ac571561",
   "metadata": {},
   "outputs": [
    {
     "data": {
      "text/plain": [
       "(array([1.815e+03, 3.498e+03, 2.579e+03, 1.264e+03, 5.810e+02, 2.270e+02,\n",
       "        8.400e+01, 3.100e+01, 5.000e+00, 2.000e+00]),\n",
       " array([5.20904098e-10, 6.53263518e-02, 1.30652703e-01, 1.95979054e-01,\n",
       "        2.61305405e-01, 3.26631757e-01, 3.91958108e-01, 4.57284459e-01,\n",
       "        5.22610810e-01, 5.87937162e-01, 6.53263513e-01]),\n",
       " <BarContainer object of 10 artists>)"
      ]
     },
     "execution_count": 9,
     "metadata": {},
     "output_type": "execute_result"
    },
    {
     "data": {
      "image/png": "[encoded data removed]",
      "text/plain": [
       "<Figure size 432x288 with 1 Axes>"
      ]
     },
     "metadata": {},
     "output_type": "display_data"
    }
   ],
   "source": [
    "plt.hist(gene_r2)"
   ]
  },
  {
   "cell_type": "code",
   "execution_count": 10,
   "id": "bbbe2407",
   "metadata": {},
   "outputs": [
    {
     "name": "stdout",
     "output_type": "stream",
     "text": [
      "0.5083917558496507\n",
      "0.5235651206077003\n"
     ]
    }
   ],
   "source": [
    "print(np.mean(valPear))\n",
    "print(np.mean(trainPear))"
   ]
  },
  {
   "cell_type": "code",
   "execution_count": 11,
   "id": "05598300",
   "metadata": {},
   "outputs": [
    {
     "name": "stdout",
     "output_type": "stream",
     "text": [
      "0.41503598408212383\n",
      "0.6416257683918303\n"
     ]
    }
   ],
   "source": [
    "print(np.mean(valSpear))\n",
    "print(np.mean(valAcc))"
   ]
  },
  {
   "cell_type": "code",
   "execution_count": 12,
   "id": "c46bcc17",
   "metadata": {},
   "outputs": [
    {
     "data": {
      "text/plain": [
       "(array([1.700e+01, 2.160e+02, 1.181e+03, 3.289e+03, 3.191e+03, 1.467e+03,\n",
       "        5.880e+02, 1.090e+02, 2.600e+01, 2.000e+00]),\n",
       " array([-0.10201941,  0.00810842,  0.11823624,  0.22836406,  0.33849188,\n",
       "         0.44861971,  0.55874753,  0.66887535,  0.77900317,  0.889131  ,\n",
       "         0.99925882]),\n",
       " <BarContainer object of 10 artists>)"
      ]
     },
     "execution_count": 12,
     "metadata": {},
     "output_type": "execute_result"
    },
    {
     "data": {
      "image/png": "[encoded data removed]",
      "text/plain": [
       "<Figure size 432x288 with 1 Axes>"
      ]
     },
     "metadata": {},
     "output_type": "display_data"
    }
   ],
   "source": [
    "slopes = []\n",
    "intercepts = []\n",
    "for i in range(gene_size):\n",
    "    slopes.append(model.models[i].coef_[0][0])\n",
    "    intercepts.append(model.models[i].intercept_[0])\n",
    "plt.hist(slopes)"
   ]
  },
  {
   "cell_type": "code",
   "execution_count": 13,
   "id": "b5f0860b",
   "metadata": {},
   "outputs": [
    {
     "data": {
      "text/plain": [
       "(array([6.000e+00, 2.300e+01, 4.900e+02, 6.316e+03, 3.181e+03, 5.500e+01,\n",
       "        1.300e+01, 0.000e+00, 1.000e+00, 1.000e+00]),\n",
       " array([-2.18400625, -1.6048168 , -1.02562735, -0.4464379 ,  0.13275155,\n",
       "         0.71194099,  1.29113044,  1.87031989,  2.44950934,  3.02869879,\n",
       "         3.60788824]),\n",
       " <BarContainer object of 10 artists>)"
      ]
     },
     "execution_count": 13,
     "metadata": {},
     "output_type": "execute_result"
    },
    {
     "data": {
      "image/png": "[encoded data removed]",
      "text/plain": [
       "<Figure size 432x288 with 1 Axes>"
      ]
     },
     "metadata": {},
     "output_type": "display_data"
    }
   ],
   "source": [
    "plt.hist(intercepts)"
   ]
  },
  {
   "cell_type": "code",
   "execution_count": 14,
   "id": "df43d76c",
   "metadata": {},
   "outputs": [],
   "source": [
    "results['model_pearsonHT29'] = valPear\n",
    "results['model_spearHT29'] = valAcc\n",
    "results['model_accHT29'] = valSpear"
   ]
  },
  {
   "cell_type": "code",
   "execution_count": 15,
   "id": "7eef5ef8",
   "metadata": {},
   "outputs": [],
   "source": [
    "train_results['model_pearsonHT29'] = trainPear\n",
    "train_results['model_spearHT29'] = trainAcc\n",
    "train_results['model_accHT29'] = trainSpear"
   ]
  },
  {
   "cell_type": "markdown",
   "id": "eea037c7",
   "metadata": {},
   "source": [
    "# Train for translating in the reverse direction"
   ]
  },
  {
   "cell_type": "code",
   "execution_count": 16,
   "id": "b2300474",
   "metadata": {},
   "outputs": [
    {
     "name": "stdout",
     "output_type": "stream",
     "text": [
      "Training: Split 1, r2=-1.8341, pearson=0.5107, MSE=0.8816\n",
      "Validation: Split 1, r2=-2.1069, pearson=0.5354, MSE=0.9550\n",
      "Training: Split 2, r2=-1.8166, pearson=0.5119, MSE=0.8874\n",
      "Validation: Split 2, r2=-1.9864, pearson=0.5283, MSE=0.8973\n",
      "Training: Split 3, r2=-1.8744, pearson=0.5080, MSE=0.8894\n",
      "Validation: Split 3, r2=-1.5761, pearson=0.5558, MSE=0.8834\n",
      "Training: Split 4, r2=-1.7680, pearson=0.5152, MSE=0.8835\n",
      "Validation: Split 4, r2=-2.1667, pearson=0.4980, MSE=0.9332\n",
      "Training: Split 5, r2=-2.0244, pearson=0.4985, MSE=0.8686\n",
      "Validation: Split 5, r2=-1.8313, pearson=0.6054, MSE=1.0852\n",
      "Training: Split 6, r2=-1.7441, pearson=0.5168, MSE=0.8869\n",
      "Validation: Split 6, r2=-1.5636, pearson=0.4849, MSE=0.9023\n",
      "Training: Split 7, r2=-1.6387, pearson=0.5242, MSE=0.8948\n",
      "Validation: Split 7, r2=-1.7031, pearson=0.3978, MSE=0.8318\n",
      "Training: Split 8, r2=-1.7639, pearson=0.5154, MSE=0.9031\n",
      "Validation: Split 8, r2=-1.1431, pearson=0.4990, MSE=0.7551\n",
      "Training: Split 9, r2=-1.6356, pearson=0.5245, MSE=0.8925\n",
      "Validation: Split 9, r2=-2.3459, pearson=0.3835, MSE=0.8523\n",
      "Training: Split 10, r2=-1.7451, pearson=0.5167, MSE=0.8858\n",
      "Validation: Split 10, r2=-2.2040, pearson=0.4824, MSE=0.9115\n"
     ]
    }
   ],
   "source": [
    "trainPear = []\n",
    "trainSpear = []\n",
    "trainR2 =[]\n",
    "trainMSE = []\n",
    "trainAcc =[]\n",
    "\n",
    "valPear = []\n",
    "valSpear = []\n",
    "valR2 =[]\n",
    "valMSE = []\n",
    "valAcc = []\n",
    "\n",
    "for i in range(10):\n",
    "    # Load data\n",
    "    trainInfo_paired = pd.read_csv('../preprocessing/preprocessed_data/10fold_validation_spit/train_paired_%s.csv'%i,index_col=0)\n",
    "    valInfo_paired = pd.read_csv('../preprocessing/preprocessed_data/10fold_validation_spit/val_paired_%s.csv'%i,index_col=0)\n",
    "    N = len(trainInfo_paired)\n",
    "    \n",
    "    x1 = cmap.loc[trainInfo_paired['sig_id.x'],:].values\n",
    "    x2 = cmap.loc[trainInfo_paired['sig_id.y'],:].values\n",
    "    \n",
    "    xval1 = cmap.loc[valInfo_paired['sig_id.x'],:].values\n",
    "    xval2 = cmap.loc[valInfo_paired['sig_id.y'],:].values\n",
    "    \n",
    "    model = FIT(gene_size)    \n",
    "    model.fit(x2,x1)\n",
    "    y = model.predict(x2)\n",
    "    \n",
    "    gene_r2 = model.per_gene_r2(x2,x1)\n",
    "    \n",
    "    \n",
    "    pearson = pearson_r(torch.tensor(y).to(device).flatten(), torch.tensor(x1).to(device).flatten())\n",
    "    r2 = r_square(torch.tensor(y).to(device).flatten(), torch.tensor(x1).to(device).flatten())\n",
    "    mse = torch.mean(torch.mean((torch.tensor(y).to(device)- torch.tensor(x1).to(device))**2,dim=1))\n",
    "    trainMSE.append(mse.item())\n",
    "    trainPear.append(pearson.item())\n",
    "    trainR2.append(r2.item())\n",
    "    rhos = []\n",
    "    for jj in range(y.shape[0]):\n",
    "        rho, p = spearmanr(x1[jj, :], y[jj, :])\n",
    "        rhos.append(rho)\n",
    "    trainSpear.append(np.mean(rhos))\n",
    "    acc = pseudoAccuracy(torch.tensor(x1), torch.tensor(y), eps=1e-6)\n",
    "    trainAcc.append(np.mean(acc))\n",
    "    \n",
    "    outString = 'Training: Split {:.0f}'.format(i + 1)\n",
    "    outString += ', r2={:.4f}'.format(r2.item())\n",
    "    outString += ', pearson={:.4f}'.format(pearson.item()) \n",
    "    outString += ', MSE={:.4f}'.format(mse.item())\n",
    "    print(outString)\n",
    "    \n",
    "    # Validation\n",
    "    yval = model.predict(xval2)\n",
    "    pearson = pearson_r(torch.tensor(yval).to(device).flatten(), torch.tensor(xval1).to(device).flatten())\n",
    "    r2 = r_square(torch.tensor(yval).to(device).flatten(), torch.tensor(xval1).to(device).flatten())\n",
    "    mse = torch.mean(torch.mean((torch.tensor(yval).to(device)-torch.tensor(xval1).to(device))**2,dim=1))\n",
    "    valMSE.append(mse.item())\n",
    "    valPear.append(pearson.item())\n",
    "    valR2.append(r2.item())\n",
    "    rhos = []\n",
    "    for jj in range(yval.shape[0]):\n",
    "        rho, p = spearmanr(xval1[jj, :], yval[jj, :])\n",
    "        rhos.append(rho)\n",
    "    valSpear.append(np.mean(rhos))\n",
    "    acc = pseudoAccuracy(torch.tensor(xval1), torch.tensor(yval), eps=1e-6)\n",
    "    valAcc.append(np.mean(acc))\n",
    "    \n",
    "    outString = 'Validation: Split {:.0f}'.format(i + 1)\n",
    "    outString += ', r2={:.4f}'.format(r2.item())\n",
    "    outString += ', pearson={:.4f}'.format(pearson.item()) \n",
    "    outString += ', MSE={:.4f}'.format(mse.item())\n",
    "    print(outString)\n",
    "    \n",
    "    with open('../results/FITmodel_results/models_noReg/FITmodel_'+gene_space+'_ht29_a375_%s.pkl'%i, 'wb') as outp:\n",
    "        pickle.dump(model, outp, pickle.HIGHEST_PROTOCOL)"
   ]
  },
  {
   "cell_type": "code",
   "execution_count": 17,
   "id": "12ea0b53",
   "metadata": {},
   "outputs": [
    {
     "data": {
      "text/plain": [
       "(array([1.815e+03, 3.498e+03, 2.579e+03, 1.264e+03, 5.810e+02, 2.270e+02,\n",
       "        8.400e+01, 3.100e+01, 5.000e+00, 2.000e+00]),\n",
       " array([5.20903987e-10, 6.53263518e-02, 1.30652703e-01, 1.95979054e-01,\n",
       "        2.61305405e-01, 3.26631757e-01, 3.91958108e-01, 4.57284459e-01,\n",
       "        5.22610810e-01, 5.87937162e-01, 6.53263513e-01]),\n",
       " <BarContainer object of 10 artists>)"
      ]
     },
     "execution_count": 17,
     "metadata": {},
     "output_type": "execute_result"
    },
    {
     "data": {
      "image/png": "[encoded data removed]",
      "text/plain": [
       "<Figure size 432x288 with 1 Axes>"
      ]
     },
     "metadata": {},
     "output_type": "display_data"
    }
   ],
   "source": [
    "plt.hist(gene_r2)"
   ]
  },
  {
   "cell_type": "code",
   "execution_count": 18,
   "id": "b4cebc18",
   "metadata": {},
   "outputs": [
    {
     "name": "stdout",
     "output_type": "stream",
     "text": [
      "0.4970635650299716\n",
      "0.514193422893079\n"
     ]
    }
   ],
   "source": [
    "print(np.mean(valPear))\n",
    "print(np.mean(trainPear))"
   ]
  },
  {
   "cell_type": "code",
   "execution_count": 19,
   "id": "cb9fc24a",
   "metadata": {},
   "outputs": [
    {
     "name": "stdout",
     "output_type": "stream",
     "text": [
      "0.40899470157172013\n",
      "0.6431231409875074\n"
     ]
    }
   ],
   "source": [
    "print(np.mean(valSpear))\n",
    "print(np.mean(valAcc))"
   ]
  },
  {
   "cell_type": "code",
   "execution_count": 20,
   "id": "4d2194f9",
   "metadata": {},
   "outputs": [
    {
     "data": {
      "text/plain": [
       "(array([2.000e+00, 6.100e+01, 7.710e+02, 3.570e+03, 4.084e+03, 1.337e+03,\n",
       "        2.230e+02, 3.000e+01, 6.000e+00, 2.000e+00]),\n",
       " array([-0.20730891, -0.07086965,  0.06556961,  0.20200887,  0.33844813,\n",
       "         0.47488739,  0.61132665,  0.74776591,  0.88420517,  1.02064443,\n",
       "         1.15708369]),\n",
       " <BarContainer object of 10 artists>)"
      ]
     },
     "execution_count": 20,
     "metadata": {},
     "output_type": "execute_result"
    },
    {
     "data": {
      "image/png": "[encoded data removed]",
      "text/plain": [
       "<Figure size 432x288 with 1 Axes>"
      ]
     },
     "metadata": {},
     "output_type": "display_data"
    }
   ],
   "source": [
    "slopes = []\n",
    "intercepts = []\n",
    "for i in range(gene_size):\n",
    "    slopes.append(model.models[i].coef_[0][0])\n",
    "    intercepts.append(model.models[i].intercept_[0])\n",
    "plt.hist(slopes)"
   ]
  },
  {
   "cell_type": "code",
   "execution_count": 21,
   "id": "d39cdae2",
   "metadata": {},
   "outputs": [
    {
     "data": {
      "text/plain": [
       "(array([1.300e+01, 3.500e+01, 1.610e+02, 1.635e+03, 5.426e+03, 2.687e+03,\n",
       "        1.040e+02, 1.300e+01, 9.000e+00, 3.000e+00]),\n",
       " array([-1.65729528, -1.28358178, -0.90986828, -0.53615478, -0.16244128,\n",
       "         0.21127223,  0.58498573,  0.95869923,  1.33241273,  1.70612624,\n",
       "         2.07983974]),\n",
       " <BarContainer object of 10 artists>)"
      ]
     },
     "execution_count": 21,
     "metadata": {},
     "output_type": "execute_result"
    },
    {
     "data": {
      "image/png": "[encoded data removed]",
      "text/plain": [
       "<Figure size 432x288 with 1 Axes>"
      ]
     },
     "metadata": {},
     "output_type": "display_data"
    }
   ],
   "source": [
    "plt.hist(intercepts)"
   ]
  },
  {
   "cell_type": "code",
   "execution_count": 22,
   "id": "a19ef90a",
   "metadata": {},
   "outputs": [],
   "source": [
    "results['model_pearsonA375'] = valPear\n",
    "results['model_spearA375'] = valAcc\n",
    "results['model_accA375'] = valSpear"
   ]
  },
  {
   "cell_type": "code",
   "execution_count": 23,
   "id": "f17beba9",
   "metadata": {},
   "outputs": [],
   "source": [
    "train_results['model_pearsonA375'] = trainPear\n",
    "train_results['model_spearA375'] = trainAcc\n",
    "train_results['model_accA375'] = trainSpear"
   ]
  },
  {
   "cell_type": "code",
   "execution_count": 24,
   "id": "0ad24350",
   "metadata": {},
   "outputs": [
    {
     "data": {
      "text/html": [
       "<div>\n",
       "<style scoped>\n",
       "    .dataframe tbody tr th:only-of-type {\n",
       "        vertical-align: middle;\n",
       "    }\n",
       "\n",
       "    .dataframe tbody tr th {\n",
       "        vertical-align: top;\n",
       "    }\n",
       "\n",
       "    .dataframe thead th {\n",
       "        text-align: right;\n",
       "    }\n",
       "</style>\n",
       "<table border=\"1\" class=\"dataframe\">\n",
       "  <thead>\n",
       "    <tr style=\"text-align: right;\">\n",
       "      <th></th>\n",
       "      <th>model_pearsonHT29</th>\n",
       "      <th>model_pearsonA375</th>\n",
       "      <th>model_spearHT29</th>\n",
       "      <th>model_spearA375</th>\n",
       "      <th>model_accHT29</th>\n",
       "      <th>model_accA375</th>\n",
       "    </tr>\n",
       "  </thead>\n",
       "  <tbody>\n",
       "    <tr>\n",
       "      <th>0</th>\n",
       "      <td>0.567878</td>\n",
       "      <td>0.535362</td>\n",
       "      <td>0.661112</td>\n",
       "      <td>0.659558</td>\n",
       "      <td>0.469136</td>\n",
       "      <td>0.452568</td>\n",
       "    </tr>\n",
       "    <tr>\n",
       "      <th>1</th>\n",
       "      <td>0.518642</td>\n",
       "      <td>0.528295</td>\n",
       "      <td>0.643327</td>\n",
       "      <td>0.651914</td>\n",
       "      <td>0.413772</td>\n",
       "      <td>0.424499</td>\n",
       "    </tr>\n",
       "    <tr>\n",
       "      <th>2</th>\n",
       "      <td>0.552603</td>\n",
       "      <td>0.555843</td>\n",
       "      <td>0.645826</td>\n",
       "      <td>0.663962</td>\n",
       "      <td>0.444486</td>\n",
       "      <td>0.465640</td>\n",
       "    </tr>\n",
       "    <tr>\n",
       "      <th>3</th>\n",
       "      <td>0.515140</td>\n",
       "      <td>0.498043</td>\n",
       "      <td>0.642777</td>\n",
       "      <td>0.645697</td>\n",
       "      <td>0.410375</td>\n",
       "      <td>0.404944</td>\n",
       "    </tr>\n",
       "    <tr>\n",
       "      <th>4</th>\n",
       "      <td>0.572400</td>\n",
       "      <td>0.605429</td>\n",
       "      <td>0.662458</td>\n",
       "      <td>0.686417</td>\n",
       "      <td>0.468119</td>\n",
       "      <td>0.511251</td>\n",
       "    </tr>\n",
       "    <tr>\n",
       "      <th>5</th>\n",
       "      <td>0.507485</td>\n",
       "      <td>0.484918</td>\n",
       "      <td>0.652826</td>\n",
       "      <td>0.640643</td>\n",
       "      <td>0.439214</td>\n",
       "      <td>0.406802</td>\n",
       "    </tr>\n",
       "    <tr>\n",
       "      <th>6</th>\n",
       "      <td>0.426178</td>\n",
       "      <td>0.397843</td>\n",
       "      <td>0.620179</td>\n",
       "      <td>0.612002</td>\n",
       "      <td>0.355160</td>\n",
       "      <td>0.333542</td>\n",
       "    </tr>\n",
       "    <tr>\n",
       "      <th>7</th>\n",
       "      <td>0.541904</td>\n",
       "      <td>0.499022</td>\n",
       "      <td>0.655602</td>\n",
       "      <td>0.631420</td>\n",
       "      <td>0.446650</td>\n",
       "      <td>0.387057</td>\n",
       "    </tr>\n",
       "    <tr>\n",
       "      <th>8</th>\n",
       "      <td>0.395360</td>\n",
       "      <td>0.383503</td>\n",
       "      <td>0.600902</td>\n",
       "      <td>0.603520</td>\n",
       "      <td>0.310104</td>\n",
       "      <td>0.312379</td>\n",
       "    </tr>\n",
       "    <tr>\n",
       "      <th>9</th>\n",
       "      <td>0.486326</td>\n",
       "      <td>0.482378</td>\n",
       "      <td>0.631249</td>\n",
       "      <td>0.636100</td>\n",
       "      <td>0.393344</td>\n",
       "      <td>0.391265</td>\n",
       "    </tr>\n",
       "  </tbody>\n",
       "</table>\n",
       "</div>"
      ],
      "text/plain": [
       "   model_pearsonHT29  model_pearsonA375  model_spearHT29  model_spearA375  \\\n",
       "0           0.567878           0.535362         0.661112         0.659558   \n",
       "1           0.518642           0.528295         0.643327         0.651914   \n",
       "2           0.552603           0.555843         0.645826         0.663962   \n",
       "3           0.515140           0.498043         0.642777         0.645697   \n",
       "4           0.572400           0.605429         0.662458         0.686417   \n",
       "5           0.507485           0.484918         0.652826         0.640643   \n",
       "6           0.426178           0.397843         0.620179         0.612002   \n",
       "7           0.541904           0.499022         0.655602         0.631420   \n",
       "8           0.395360           0.383503         0.600902         0.603520   \n",
       "9           0.486326           0.482378         0.631249         0.636100   \n",
       "\n",
       "   model_accHT29  model_accA375  \n",
       "0       0.469136       0.452568  \n",
       "1       0.413772       0.424499  \n",
       "2       0.444486       0.465640  \n",
       "3       0.410375       0.404944  \n",
       "4       0.468119       0.511251  \n",
       "5       0.439214       0.406802  \n",
       "6       0.355160       0.333542  \n",
       "7       0.446650       0.387057  \n",
       "8       0.310104       0.312379  \n",
       "9       0.393344       0.391265  "
      ]
     },
     "metadata": {},
     "output_type": "display_data"
    }
   ],
   "source": [
    "results = pd.DataFrame(results)\n",
    "display(results)\n",
    "results.to_csv('../results/FITmodel_results/'+gene_space+'_10foldvalidation_FIT_a375_ht29.csv')"
   ]
  },
  {
   "cell_type": "code",
   "execution_count": 25,
   "id": "1d364e21",
   "metadata": {},
   "outputs": [
    {
     "data": {
      "text/html": [
       "<div>\n",
       "<style scoped>\n",
       "    .dataframe tbody tr th:only-of-type {\n",
       "        vertical-align: middle;\n",
       "    }\n",
       "\n",
       "    .dataframe tbody tr th {\n",
       "        vertical-align: top;\n",
       "    }\n",
       "\n",
       "    .dataframe thead th {\n",
       "        text-align: right;\n",
       "    }\n",
       "</style>\n",
       "<table border=\"1\" class=\"dataframe\">\n",
       "  <thead>\n",
       "    <tr style=\"text-align: right;\">\n",
       "      <th></th>\n",
       "      <th>model_pearsonHT29</th>\n",
       "      <th>model_pearsonA375</th>\n",
       "      <th>model_spearHT29</th>\n",
       "      <th>model_spearA375</th>\n",
       "      <th>model_accHT29</th>\n",
       "      <th>model_accA375</th>\n",
       "    </tr>\n",
       "  </thead>\n",
       "  <tbody>\n",
       "    <tr>\n",
       "      <th>0</th>\n",
       "      <td>0.517409</td>\n",
       "      <td>0.510703</td>\n",
       "      <td>0.642900</td>\n",
       "      <td>0.644078</td>\n",
       "      <td>0.418179</td>\n",
       "      <td>0.412086</td>\n",
       "    </tr>\n",
       "    <tr>\n",
       "      <th>1</th>\n",
       "      <td>0.523266</td>\n",
       "      <td>0.511871</td>\n",
       "      <td>0.644749</td>\n",
       "      <td>0.645080</td>\n",
       "      <td>0.424187</td>\n",
       "      <td>0.415480</td>\n",
       "    </tr>\n",
       "    <tr>\n",
       "      <th>2</th>\n",
       "      <td>0.518951</td>\n",
       "      <td>0.508041</td>\n",
       "      <td>0.644583</td>\n",
       "      <td>0.643601</td>\n",
       "      <td>0.421038</td>\n",
       "      <td>0.410976</td>\n",
       "    </tr>\n",
       "    <tr>\n",
       "      <th>3</th>\n",
       "      <td>0.523692</td>\n",
       "      <td>0.515161</td>\n",
       "      <td>0.645028</td>\n",
       "      <td>0.645911</td>\n",
       "      <td>0.424765</td>\n",
       "      <td>0.418073</td>\n",
       "    </tr>\n",
       "    <tr>\n",
       "      <th>4</th>\n",
       "      <td>0.514259</td>\n",
       "      <td>0.498482</td>\n",
       "      <td>0.642916</td>\n",
       "      <td>0.641522</td>\n",
       "      <td>0.418959</td>\n",
       "      <td>0.407224</td>\n",
       "    </tr>\n",
       "    <tr>\n",
       "      <th>5</th>\n",
       "      <td>0.524614</td>\n",
       "      <td>0.516804</td>\n",
       "      <td>0.643980</td>\n",
       "      <td>0.646440</td>\n",
       "      <td>0.422052</td>\n",
       "      <td>0.417930</td>\n",
       "    </tr>\n",
       "    <tr>\n",
       "      <th>6</th>\n",
       "      <td>0.532097</td>\n",
       "      <td>0.524235</td>\n",
       "      <td>0.647439</td>\n",
       "      <td>0.649576</td>\n",
       "      <td>0.430628</td>\n",
       "      <td>0.425441</td>\n",
       "    </tr>\n",
       "    <tr>\n",
       "      <th>7</th>\n",
       "      <td>0.520998</td>\n",
       "      <td>0.515443</td>\n",
       "      <td>0.643614</td>\n",
       "      <td>0.647366</td>\n",
       "      <td>0.420818</td>\n",
       "      <td>0.419519</td>\n",
       "    </tr>\n",
       "    <tr>\n",
       "      <th>8</th>\n",
       "      <td>0.533731</td>\n",
       "      <td>0.524460</td>\n",
       "      <td>0.649765</td>\n",
       "      <td>0.650449</td>\n",
       "      <td>0.435969</td>\n",
       "      <td>0.427539</td>\n",
       "    </tr>\n",
       "    <tr>\n",
       "      <th>9</th>\n",
       "      <td>0.526634</td>\n",
       "      <td>0.516733</td>\n",
       "      <td>0.646322</td>\n",
       "      <td>0.646972</td>\n",
       "      <td>0.426853</td>\n",
       "      <td>0.419521</td>\n",
       "    </tr>\n",
       "  </tbody>\n",
       "</table>\n",
       "</div>"
      ],
      "text/plain": [
       "   model_pearsonHT29  model_pearsonA375  model_spearHT29  model_spearA375  \\\n",
       "0           0.517409           0.510703         0.642900         0.644078   \n",
       "1           0.523266           0.511871         0.644749         0.645080   \n",
       "2           0.518951           0.508041         0.644583         0.643601   \n",
       "3           0.523692           0.515161         0.645028         0.645911   \n",
       "4           0.514259           0.498482         0.642916         0.641522   \n",
       "5           0.524614           0.516804         0.643980         0.646440   \n",
       "6           0.532097           0.524235         0.647439         0.649576   \n",
       "7           0.520998           0.515443         0.643614         0.647366   \n",
       "8           0.533731           0.524460         0.649765         0.650449   \n",
       "9           0.526634           0.516733         0.646322         0.646972   \n",
       "\n",
       "   model_accHT29  model_accA375  \n",
       "0       0.418179       0.412086  \n",
       "1       0.424187       0.415480  \n",
       "2       0.421038       0.410976  \n",
       "3       0.424765       0.418073  \n",
       "4       0.418959       0.407224  \n",
       "5       0.422052       0.417930  \n",
       "6       0.430628       0.425441  \n",
       "7       0.420818       0.419519  \n",
       "8       0.435969       0.427539  \n",
       "9       0.426853       0.419521  "
      ]
     },
     "metadata": {},
     "output_type": "display_data"
    }
   ],
   "source": [
    "train_results = pd.DataFrame(train_results)\n",
    "display(train_results)\n",
    "train_results.to_csv('../results/FITmodel_results/'+gene_space+'_10foldvalidation_TrainingFIT_a375_ht29.csv')"
   ]
  },
  {
   "cell_type": "code",
   "execution_count": null,
   "id": "80bc361c",
   "metadata": {},
   "outputs": [],
   "source": []
  }
 ],
 "metadata": {
  "kernelspec": {
   "display_name": "Python 3",
   "language": "python",
   "name": "python3"
  },
  "language_info": {
   "codemirror_mode": {
    "name": "ipython",
    "version": 3
   },
   "file_extension": ".py",
   "mimetype": "text/x-python",
   "name": "python",
   "nbconvert_exporter": "python",
   "pygments_lexer": "ipython3",
   "version": "3.8.8"
  }
 },
 "nbformat": 4,
 "nbformat_minor": 5
}
