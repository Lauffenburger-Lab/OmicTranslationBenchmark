{
 "cells": [
  {
   "cell_type": "code",
   "execution_count": 1,
   "id": "133f1a8c",
   "metadata": {},
   "outputs": [],
   "source": [
    "from __future__ import absolute_import, division\n",
    "from tqdm.auto import tqdm\n",
    "import torch\n",
    "from trainingUtils import MultipleOptimizer, MultipleScheduler\n",
    "from models import Encoder,Decoder,VAE\n",
    "# import argparse\n",
    "import numpy as np\n",
    "import pandas as pd\n",
    "import sys\n",
    "import random\n",
    "import os\n",
    "from IPython.display import clear_output\n",
    "from matplotlib import pyplot as plt\n",
    "\n",
    "#from scipy.stats import pearsonr\n",
    "from evaluationUtils import r_square,get_cindex,pearson_r"
   ]
  },
  {
   "cell_type": "code",
   "execution_count": 2,
   "id": "05f59dca",
   "metadata": {},
   "outputs": [],
   "source": [
    "device = torch.device('cuda')"
   ]
  },
  {
   "cell_type": "code",
   "execution_count": 3,
   "id": "120c7986",
   "metadata": {},
   "outputs": [],
   "source": [
    "# Initialize environment and seeds for reproducability\n",
    "torch.backends.cudnn.benchmark = True\n",
    "\n",
    "\n",
    "def seed_everything(seed=42):\n",
    "    random.seed(seed)\n",
    "    torch.manual_seed(seed)\n",
    "    torch.cuda.manual_seed_all(seed)\n",
    "    np.random.seed(seed)\n",
    "    os.environ['PYTHONHASHSEED'] = str(seed)\n",
    "    torch.backends.cudnn.benchmark = False\n",
    "    \n",
    "# Read data\n",
    "cmap = pd.read_csv('cmap_HT29_A375.csv',index_col = 0)\n",
    "gene_size = len(cmap.columns)\n",
    "samples = cmap.index.values\n",
    "\n",
    "sampleInfo = pd.read_csv('conditions_HT29_A375.csv',index_col = 0)"
   ]
  },
  {
   "cell_type": "code",
   "execution_count": 4,
   "id": "45d89a20",
   "metadata": {},
   "outputs": [
    {
     "data": {
      "text/html": [
       "<div>\n",
       "<style scoped>\n",
       "    .dataframe tbody tr th:only-of-type {\n",
       "        vertical-align: middle;\n",
       "    }\n",
       "\n",
       "    .dataframe tbody tr th {\n",
       "        vertical-align: top;\n",
       "    }\n",
       "\n",
       "    .dataframe thead th {\n",
       "        text-align: right;\n",
       "    }\n",
       "</style>\n",
       "<table border=\"1\" class=\"dataframe\">\n",
       "  <thead>\n",
       "    <tr style=\"text-align: right;\">\n",
       "      <th></th>\n",
       "      <th>sig_id</th>\n",
       "      <th>cell_iname</th>\n",
       "      <th>conditionId</th>\n",
       "    </tr>\n",
       "  </thead>\n",
       "  <tbody>\n",
       "    <tr>\n",
       "      <th>1</th>\n",
       "      <td>PCL001_HT29_24H:BRD-K42991516:10</td>\n",
       "      <td>HT29</td>\n",
       "      <td>BRD-K42991516_10 uM_24 h</td>\n",
       "    </tr>\n",
       "    <tr>\n",
       "      <th>2</th>\n",
       "      <td>PCL001_HT29_24H:BRD-K50817946:10</td>\n",
       "      <td>HT29</td>\n",
       "      <td>BRD-K50817946_10 uM_24 h</td>\n",
       "    </tr>\n",
       "    <tr>\n",
       "      <th>3</th>\n",
       "      <td>PCL001_HT29_24H:BRD-K58479490:10</td>\n",
       "      <td>HT29</td>\n",
       "      <td>BRD-K58479490_10 uM_24 h</td>\n",
       "    </tr>\n",
       "    <tr>\n",
       "      <th>4</th>\n",
       "      <td>DOSBIO001_A375_24H:BRD-K72343629:10.1316</td>\n",
       "      <td>A375</td>\n",
       "      <td>BRD-K72343629_10 uM_24 h</td>\n",
       "    </tr>\n",
       "    <tr>\n",
       "      <th>5</th>\n",
       "      <td>PCL001_HT29_24H:BRD-A89859721:0.12</td>\n",
       "      <td>HT29</td>\n",
       "      <td>BRD-A89859721_0.12 uM_24 h</td>\n",
       "    </tr>\n",
       "    <tr>\n",
       "      <th>...</th>\n",
       "      <td>...</td>\n",
       "      <td>...</td>\n",
       "      <td>...</td>\n",
       "    </tr>\n",
       "    <tr>\n",
       "      <th>2272</th>\n",
       "      <td>DOSVAL001_HT29_24H:BRD-K74587389:10</td>\n",
       "      <td>HT29</td>\n",
       "      <td>BRD-K74587389_10 uM_24 h</td>\n",
       "    </tr>\n",
       "    <tr>\n",
       "      <th>2273</th>\n",
       "      <td>DOSVAL001_HT29_24H:BRD-K11432829:10.0841</td>\n",
       "      <td>HT29</td>\n",
       "      <td>SA-1919875_10 uM_24 h</td>\n",
       "    </tr>\n",
       "    <tr>\n",
       "      <th>2274</th>\n",
       "      <td>DOSVAL004_HT29_24H:BRD-K50266413:20</td>\n",
       "      <td>HT29</td>\n",
       "      <td>BRD-K50266413_20 uM_24 h</td>\n",
       "    </tr>\n",
       "    <tr>\n",
       "      <th>2275</th>\n",
       "      <td>DOSVAL002_A375_24H:BRD-K10749593:20</td>\n",
       "      <td>A375</td>\n",
       "      <td>BRD-K10749593_20 uM_24 h</td>\n",
       "    </tr>\n",
       "    <tr>\n",
       "      <th>2276</th>\n",
       "      <td>DOSVAL001_HT29_24H:BRD-K11624501:9.99164</td>\n",
       "      <td>HT29</td>\n",
       "      <td>BRD-K11624501_10 uM_24 h</td>\n",
       "    </tr>\n",
       "  </tbody>\n",
       "</table>\n",
       "<p>2276 rows × 3 columns</p>\n",
       "</div>"
      ],
      "text/plain": [
       "                                        sig_id cell_iname  \\\n",
       "1             PCL001_HT29_24H:BRD-K42991516:10       HT29   \n",
       "2             PCL001_HT29_24H:BRD-K50817946:10       HT29   \n",
       "3             PCL001_HT29_24H:BRD-K58479490:10       HT29   \n",
       "4     DOSBIO001_A375_24H:BRD-K72343629:10.1316       A375   \n",
       "5           PCL001_HT29_24H:BRD-A89859721:0.12       HT29   \n",
       "...                                        ...        ...   \n",
       "2272       DOSVAL001_HT29_24H:BRD-K74587389:10       HT29   \n",
       "2273  DOSVAL001_HT29_24H:BRD-K11432829:10.0841       HT29   \n",
       "2274       DOSVAL004_HT29_24H:BRD-K50266413:20       HT29   \n",
       "2275       DOSVAL002_A375_24H:BRD-K10749593:20       A375   \n",
       "2276  DOSVAL001_HT29_24H:BRD-K11624501:9.99164       HT29   \n",
       "\n",
       "                     conditionId  \n",
       "1       BRD-K42991516_10 uM_24 h  \n",
       "2       BRD-K50817946_10 uM_24 h  \n",
       "3       BRD-K58479490_10 uM_24 h  \n",
       "4       BRD-K72343629_10 uM_24 h  \n",
       "5     BRD-A89859721_0.12 uM_24 h  \n",
       "...                          ...  \n",
       "2272    BRD-K74587389_10 uM_24 h  \n",
       "2273       SA-1919875_10 uM_24 h  \n",
       "2274    BRD-K50266413_20 uM_24 h  \n",
       "2275    BRD-K10749593_20 uM_24 h  \n",
       "2276    BRD-K11624501_10 uM_24 h  \n",
       "\n",
       "[2276 rows x 3 columns]"
      ]
     },
     "execution_count": 4,
     "metadata": {},
     "output_type": "execute_result"
    }
   ],
   "source": [
    "sampleInfo"
   ]
  },
  {
   "cell_type": "code",
   "execution_count": 5,
   "id": "ada5f22b",
   "metadata": {},
   "outputs": [],
   "source": [
    "sampleInfo = sampleInfo[sampleInfo['cell_iname']=='A375']\n",
    "cmap = cmap.loc[sampleInfo.sig_id,:]"
   ]
  },
  {
   "cell_type": "code",
   "execution_count": 6,
   "id": "e58db859",
   "metadata": {},
   "outputs": [],
   "source": [
    "# Network\n",
    "encoder = Encoder(in_channel=gene_size, num_hidden_layers=4, latent_dim=256,dropRate=0.1, activation=torch.nn.ELU())\n",
    "decoder = Decoder(latent_dim=256, num_hidden_layers=4, out_dim=gene_size,dropRate=0.1, activation=torch.nn.ELU())\n",
    "autoencoder = VAE(encoder,decoder,device)\n",
    "autoencoder = autoencoder.to(device)"
   ]
  },
  {
   "cell_type": "code",
   "execution_count": 6,
   "id": "282c0251",
   "metadata": {},
   "outputs": [],
   "source": [
    "# Create a train generators\n",
    "\n",
    "def getSamples(N, batchSize):\n",
    "    order = np.random.permutation(N)\n",
    "    outList = []\n",
    "    while len(order)>0:\n",
    "        outList.append(order[0:batchSize])\n",
    "        order = order[batchSize:]\n",
    "    return outList\n",
    "\n",
    "# class train_generator(Dataset):\n",
    "    \n",
    "#     def __init__(self, data,gex,smiles,X_atoms, X_bonds, X_edges):\n",
    "#         self.df=data\n",
    "#         self.gex = cmap\n",
    "    \n",
    "#     def __len__(self):\n",
    "#         return len(self.df)\n",
    "    \n",
    "#     def __getitem__(self, indices):\n",
    "#         ind = []\n",
    "#         sig_ids = []\n",
    "        \n",
    "#         ### Modify to output xa375 , xht29 and some connectivity for the one that are similar\n",
    "#         sig_ids_ctrl = []\n",
    "#         d = []\n",
    "#         for index in indices:\n",
    "#             smi=self.df['smiles'][index]\n",
    "#             ind.append(self.smiles.index(smi))\n",
    "#             sig_ids.append(self.df['sig_id'][index])\n",
    "#             sig_ids_ctrl.append(self.df['sig_id_ctrl'][index])\n",
    "\n",
    "#         atom=torch.tensor(self.X_atoms[ind])\n",
    "#         bond=torch.tensor(self.X_bonds[ind])\n",
    "#         edge=torch.tensor(self.X_edges[ind])\n",
    "#         ycontrol = torch.tensor(self.gex.loc[:,sig_ids_ctrl].values).transpose(1,0).float()\n",
    "#         #string_vec = torch.tensor(gene_vec.values).float()\n",
    "#         y = torch.tensor(self.gex.loc[:,sig_ids].values).transpose(1,0).float()\n",
    "        \n",
    "#         return atom,bond,edge,ycontrol,y"
   ]
  },
  {
   "cell_type": "code",
   "execution_count": 8,
   "id": "ddd3d62e",
   "metadata": {},
   "outputs": [],
   "source": [
    "bs = 256\n",
    "NUM_EPOCHS = 500\n",
    "# df = sampleInfo.sample(frac=1).reset_index(drop=True)\n",
    "# NUM_TRAIN = len(df)\n",
    "# NUM_STEPS=ceil(NUM_TRAIN/bs)\n",
    "# trainGen=train_generator(df,cmap)"
   ]
  },
  {
   "cell_type": "code",
   "execution_count": 9,
   "id": "3501f93b",
   "metadata": {},
   "outputs": [],
   "source": [
    "x = torch.tensor(cmap.values).float().to(device)"
   ]
  },
  {
   "cell_type": "code",
   "execution_count": 10,
   "id": "604a8c59",
   "metadata": {},
   "outputs": [],
   "source": [
    "# sampleInfo"
   ]
  },
  {
   "cell_type": "code",
   "execution_count": 11,
   "id": "5004f709",
   "metadata": {},
   "outputs": [],
   "source": [
    "# torch.sum(x,dim=1).shape"
   ]
  },
  {
   "cell_type": "code",
   "execution_count": 12,
   "id": "c7f397ca",
   "metadata": {},
   "outputs": [],
   "source": [
    "lamdaKL = 0.01\n",
    "lamdaRec = 1\n",
    "\n",
    "optimizer = torch.optim.Adam(autoencoder.parameters(), lr= 0.0001, weight_decay=0)\n",
    "scheduler = torch.optim.lr_scheduler.StepLR(optimizer,step_size=400,gamma=0.8)\n",
    "#scheduler = torch.optim.lr_scheduler.ReduceLROnPlateau(adam, 'min',factor=0.5,patience=3, min_lr=0.00001, eps=1e-5,verbose=True)\n",
    "\n",
    "N = x.shape[0]\n",
    "curLoss = []\n",
    "curR2 = []\n",
    "curPearson = []\n",
    "curMSE = []"
   ]
  },
  {
   "cell_type": "code",
   "execution_count": 13,
   "id": "75bbe37e",
   "metadata": {},
   "outputs": [],
   "source": [
    "stats = {}\n",
    "stats['loss'] = float('nan')*np.ones(NUM_EPOCHS)\n",
    "stats['lossSTD'] = float('nan')*np.ones(NUM_EPOCHS)\n",
    "stats['R2'] = float('nan')*np.ones(NUM_EPOCHS)\n",
    "stats['R2STD'] = float('nan')*np.ones(NUM_EPOCHS)\n",
    "stats['pearson_r'] = float('nan')*np.ones(NUM_EPOCHS)\n",
    "stats['pearson_rSTD'] = float('nan')*np.ones(NUM_EPOCHS)\n",
    "stats['MSE'] = float('nan')*np.ones(NUM_EPOCHS)\n",
    "stats['MSESTD'] = float('nan')*np.ones(NUM_EPOCHS)"
   ]
  },
  {
   "cell_type": "code",
   "execution_count": 14,
   "id": "e09609e2",
   "metadata": {},
   "outputs": [
    {
     "name": "stdout",
     "output_type": "stream",
     "text": [
      "tensor(1.2060, device='cuda:0')\n"
     ]
    }
   ],
   "source": [
    "randomMSE = torch.mean(torch.mean(torch.square(x.detach() - torch.mean(x.detach())),dim=1))\n",
    "print(randomMSE)"
   ]
  },
  {
   "cell_type": "code",
   "execution_count": 15,
   "id": "6834ed77",
   "metadata": {},
   "outputs": [],
   "source": [
    "# recon_loss = torch.nn.MSELoss()"
   ]
  },
  {
   "cell_type": "code",
   "execution_count": 7,
   "id": "157c00e3",
   "metadata": {},
   "outputs": [],
   "source": [
    "def compute_kernel(x, y):\n",
    "    x_size = x.size(0)\n",
    "    y_size = y.size(0)\n",
    "    dim = x.size(1)\n",
    "    x = x.unsqueeze(1)\n",
    "    y = y.unsqueeze(0)\n",
    "\n",
    "    tiled_x = x.expand(x_size, y_size, dim)\n",
    "    tiled_y = y.expand(x_size, y_size, dim)\n",
    "    kernel_input = (tiled_x - tiled_y).pow(2).mean(2)/float(dim)\n",
    "    return torch.exp(-kernel_input)\n",
    "\n",
    "def compute_mmd(x, y):\n",
    "    x_kernel = compute_kernel(x, x)\n",
    "    y_kernel = compute_kernel(y, y)\n",
    "    xy_kernel = compute_kernel(x, y)\n",
    "    mmd = x_kernel.mean() + y_kernel.mean() - 2*xy_kernel.mean()\n",
    "    \n",
    "    return mmd#"
   ]
  },
  {
   "cell_type": "code",
   "execution_count": 17,
   "id": "dc763b85",
   "metadata": {},
   "outputs": [
    {
     "name": "stdout",
     "output_type": "stream",
     "text": [
      "Epoch=5000/5000, r2=-0.4621, pearson=0.5754, MSE=0.6527, loss=677.2994\n"
     ]
    }
   ],
   "source": [
    "for e in range(0, NUM_EPOCHS):\n",
    "    trainloader = getSamples(N, bs)\n",
    "    for dataIndex in trainloader:\n",
    "        autoencoder.train()\n",
    "        optimizer.zero_grad()\n",
    "        dataIn = x[dataIndex, :].view(len(dataIndex), x.shape[1])\n",
    "        \n",
    "        z  = autoencoder.encoder(dataIn)\n",
    "        y_pred = autoencoder.decoder(z)\n",
    "        #true_samples = torch.autograd.Variable(torch.randn(z.shape[0], z.shape[1]), requires_grad=False)\n",
    "        #true_samples = true_samples.to(device)\n",
    "        \n",
    "        #recon_loss = autoencoder.reconstruction_likelihood_loss(y_pred,autoencoder.log_scale,x)\n",
    "        #kl_loss = autoencoder.kl_divergence(z,mu,torch.exp(0.5*log_var))\n",
    "        #fitLoss = kl_loss - recon_loss\n",
    "        #loss = fitLoss.mean()\n",
    "        #fitLoss = lamdaRec * recon_loss(y_pred , x) + lamdaKL * autoencoder.encoder.kl\n",
    "        fitLoss = lamdaRec * torch.mean(torch.sum(torch.square(y_pred - dataIn),dim=1)) + lamdaKL * autoencoder.encoder.kl\n",
    "        #L2Loss = autoencoder.L2Regularization(0.01)\n",
    "\n",
    "        loss = fitLoss #+ L2Loss\n",
    "\n",
    "        loss.backward()\n",
    "\n",
    "        optimizer.step()\n",
    "        \n",
    "        pearson = pearson_r(y_pred.detach().flatten(), dataIn.detach().flatten())\n",
    "        r2 = r_square(y_pred.detach().flatten(), dataIn.detach().flatten())\n",
    "        mse = torch.mean(torch.mean(torch.square(y_pred.detach() - dataIn.detach()),dim=1))\n",
    "        curMSE.append(mse.item())\n",
    "        curR2.append(r2.item())\n",
    "        curPearson.append(pearson.item())\n",
    "        curLoss.append(loss.item())\n",
    "        scheduler.step()\n",
    "    #if (e==0 or (e+1)%50==0):\n",
    "    outString = 'Epoch={:.0f}/{:.0f}'.format(e+1,NUM_EPOCHS)\n",
    "    outString += ', r2={:.4f}'.format(r2)\n",
    "    outString += ', pearson={:.4f}'.format(pearson)\n",
    "    outString += ', MSE={:.4f}'.format(mse)\n",
    "    outString += ', loss={:.4f}'.format(loss.item())\n",
    "    print(outString)\n",
    "    stats['loss'][e] = np.mean(np.array(curLoss))\n",
    "    stats['lossSTD'][e] = np.std(np.array(curLoss))\n",
    "    stats['pearson_r'][e]= np.mean(np.array(curPearson))\n",
    "    stats['pearson_rSTD'][e] = np.std(np.array(curPearson))\n",
    "    stats['R2'][e]= np.mean(np.array(curR2))\n",
    "    stats['R2STD'][e] = np.std(np.array(curR2))\n",
    "    stats['MSE'][e]= np.mean(np.array(curMSE))\n",
    "    stats['MSESTD'][e] = np.std(np.array(curMSE))\n",
    "    clear_output(wait=True)"
   ]
  },
  {
   "cell_type": "code",
   "execution_count": 18,
   "id": "893f0e16",
   "metadata": {},
   "outputs": [],
   "source": [
    "torch.save(autoencoder, 'dummyAutoenoderA375.pt')"
   ]
  },
  {
   "cell_type": "code",
   "execution_count": 19,
   "id": "7bdb3b31",
   "metadata": {},
   "outputs": [
    {
     "name": "stdout",
     "output_type": "stream",
     "text": [
      "R^2: -0.6040515899658203\n",
      "Pearson correlation: 0.6244741678237915\n",
      "MSE: 0.7357468605041504\n"
     ]
    }
   ],
   "source": [
    "autoencoder.eval()\n",
    "z_latent , xhat = autoencoder(x)\n",
    "r2 = r_square(xhat.detach().flatten(), x.detach().flatten())\n",
    "pearson = pearson_r(xhat.detach().flatten(), x.detach().flatten())\n",
    "mse = torch.mean(torch.mean(torch.square(xhat - x),dim=1))\n",
    "print('R^2: %s'%r2.item())\n",
    "print('Pearson correlation: %s'%pearson.item())\n",
    "print('MSE: %s'%mse.item())"
   ]
  },
  {
   "cell_type": "code",
   "execution_count": 8,
   "id": "9fbc568e",
   "metadata": {},
   "outputs": [],
   "source": [
    "def shadePlot(X, Y, STD):\n",
    "    plt.plot(X, Y)\n",
    "    curColor = plt.gca().lines[-1].get_color()\n",
    "    plt.fill_between(X, Y - STD, Y + STD, color=curColor, alpha=0.2)"
   ]
  },
  {
   "cell_type": "code",
   "execution_count": 9,
   "id": "1353aca6",
   "metadata": {},
   "outputs": [],
   "source": [
    "def movingaverage(values, w):\n",
    "    moving_averages = np.zeros(values.shape)\n",
    "    stepsBefore = np.ceil(w/2)\n",
    "    stepsAfter = np.ceil(w/2)\n",
    "    for i in range(values.shape[0]):\n",
    "        start = np.max((i-stepsBefore, 0)).astype(int)\n",
    "        stop = np.min((i+stepsAfter, values.shape[0])).astype(int)\n",
    "        moving_averages[i] = np.mean(values[start:stop])\n",
    "    return moving_averages"
   ]
  },
  {
   "cell_type": "code",
   "execution_count": 22,
   "id": "5ad79227",
   "metadata": {},
   "outputs": [
    {
     "data": {
      "image/png": "[encoded data removed]",
      "text/plain": [
       "<Figure size 432x288 with 1 Axes>"
      ]
     },
     "metadata": {
      "needs_background": "light"
     },
     "output_type": "display_data"
    }
   ],
   "source": [
    "shadePlot(np.array(range(NUM_EPOCHS)), movingaverage(stats['MSE'], 8), movingaverage(stats['MSESTD'], 8))\n",
    "plt.plot([0, NUM_EPOCHS], np.array([1, 1])*randomMSE.item(), 'black', linestyle='--')\n",
    "plt.xlim([0, NUM_EPOCHS])\n",
    "plt.ylim(bottom=1e-6)\n",
    "plt.ylabel('MSE')\n",
    "plt.xlabel('Epoch')\n",
    "plt.yscale('log')"
   ]
  },
  {
   "cell_type": "code",
   "execution_count": 23,
   "id": "5fc79d92",
   "metadata": {},
   "outputs": [
    {
     "data": {
      "text/plain": [
       "Text(0.5, 0, 'Epoch')"
      ]
     },
     "execution_count": 23,
     "metadata": {},
     "output_type": "execute_result"
    },
    {
     "data": {
      "image/png": "[encoded data removed]",
      "text/plain": [
       "<Figure size 432x288 with 1 Axes>"
      ]
     },
     "metadata": {
      "needs_background": "light"
     },
     "output_type": "display_data"
    }
   ],
   "source": [
    "plt.plot(range(len(curMSE)),curMSE)\n",
    "plt.plot([0, len(curMSE)], np.array([1, 1])*randomMSE.item(), 'black', linestyle='--')\n",
    "plt.ylabel('MSE')\n",
    "plt.xlabel('Epoch')\n",
    "#plt.yscale('log')"
   ]
  },
  {
   "cell_type": "code",
   "execution_count": 24,
   "id": "1ddbc84a",
   "metadata": {},
   "outputs": [
    {
     "data": {
      "image/png": "[encoded data removed]",
      "text/plain": [
       "<Figure size 432x288 with 1 Axes>"
      ]
     },
     "metadata": {
      "needs_background": "light"
     },
     "output_type": "display_data"
    }
   ],
   "source": [
    "shadePlot(np.array(range(NUM_EPOCHS)), movingaverage(stats['loss'], 8), movingaverage(stats['lossSTD'], 8))\n",
    "plt.xlim([0, NUM_EPOCHS])\n",
    "plt.ylim(bottom=1e-6)\n",
    "plt.ylabel('Loss')\n",
    "plt.xlabel('Epoch')\n",
    "plt.yscale('log')"
   ]
  },
  {
   "cell_type": "code",
   "execution_count": 25,
   "id": "b5aef717",
   "metadata": {},
   "outputs": [
    {
     "data": {
      "image/png": "[encoded data removed]",
      "text/plain": [
       "<Figure size 432x288 with 1 Axes>"
      ]
     },
     "metadata": {
      "needs_background": "light"
     },
     "output_type": "display_data"
    }
   ],
   "source": [
    "plt.plot(range(len(curLoss)),curLoss)\n",
    "plt.ylabel('Loss')\n",
    "plt.xlabel('Epoch')\n",
    "plt.yscale('log')"
   ]
  },
  {
   "cell_type": "code",
   "execution_count": 26,
   "id": "ac82a139",
   "metadata": {},
   "outputs": [
    {
     "data": {
      "text/plain": [
       "Text(0.5, 0, 'Epoch')"
      ]
     },
     "execution_count": 26,
     "metadata": {},
     "output_type": "execute_result"
    },
    {
     "data": {
      "image/png": "[encoded data removed]",
      "text/plain": [
       "<Figure size 432x288 with 1 Axes>"
      ]
     },
     "metadata": {
      "needs_background": "light"
     },
     "output_type": "display_data"
    }
   ],
   "source": [
    "shadePlot(np.array(range(NUM_EPOCHS)), movingaverage(stats['R2'], 8), movingaverage(stats['R2STD'], 8))\n",
    "plt.xlim([0, NUM_EPOCHS])\n",
    "plt.ylim(top=1,bottom=np.min(stats['R2']))\n",
    "plt.ylabel('R2')\n",
    "plt.xlabel('Epoch')"
   ]
  },
  {
   "cell_type": "code",
   "execution_count": 27,
   "id": "ef909a0f",
   "metadata": {},
   "outputs": [
    {
     "data": {
      "text/plain": [
       "Text(0.5, 0, 'Epoch')"
      ]
     },
     "execution_count": 27,
     "metadata": {},
     "output_type": "execute_result"
    },
    {
     "data": {
      "image/png": "[encoded data removed]",
      "text/plain": [
       "<Figure size 432x288 with 1 Axes>"
      ]
     },
     "metadata": {
      "needs_background": "light"
     },
     "output_type": "display_data"
    }
   ],
   "source": [
    "plt.plot(range(len(curR2)),curR2)\n",
    "plt.ylabel('R^2')\n",
    "plt.xlabel('Epoch')"
   ]
  },
  {
   "cell_type": "code",
   "execution_count": 28,
   "id": "8a90f5a4",
   "metadata": {},
   "outputs": [
    {
     "data": {
      "text/plain": [
       "Text(0.5, 0, 'Epoch')"
      ]
     },
     "execution_count": 28,
     "metadata": {},
     "output_type": "execute_result"
    },
    {
     "data": {
      "image/png": "[encoded data removed]",
      "text/plain": [
       "<Figure size 432x288 with 1 Axes>"
      ]
     },
     "metadata": {
      "needs_background": "light"
     },
     "output_type": "display_data"
    }
   ],
   "source": [
    "shadePlot(np.array(range(NUM_EPOCHS)), movingaverage(stats['pearson_r'], 8), movingaverage(stats['pearson_rSTD'], 8))\n",
    "plt.xlim([0, NUM_EPOCHS])\n",
    "plt.ylim(top=1,bottom=np.min(stats['pearson_r']))\n",
    "plt.ylabel('Pearson correlation')\n",
    "plt.xlabel('Epoch')"
   ]
  },
  {
   "cell_type": "code",
   "execution_count": 29,
   "id": "810f1a47",
   "metadata": {},
   "outputs": [
    {
     "data": {
      "text/plain": [
       "Text(0.5, 0, 'Epoch')"
      ]
     },
     "execution_count": 29,
     "metadata": {},
     "output_type": "execute_result"
    },
    {
     "data": {
      "image/png": "[encoded data removed]",
      "text/plain": [
       "<Figure size 432x288 with 1 Axes>"
      ]
     },
     "metadata": {
      "needs_background": "light"
     },
     "output_type": "display_data"
    }
   ],
   "source": [
    "plt.plot(range(len(curPearson)),curPearson)\n",
    "plt.ylabel('Pearson Correlation')\n",
    "plt.xlabel('Epoch')"
   ]
  },
  {
   "cell_type": "markdown",
   "id": "198ee484",
   "metadata": {},
   "source": [
    "# Cross validation"
   ]
  },
  {
   "cell_type": "code",
   "execution_count": 10,
   "id": "5439d4ad",
   "metadata": {},
   "outputs": [],
   "source": [
    "from hyperopt import fmin, tpe, hp, STATUS_OK, Trials,partial"
   ]
  },
  {
   "cell_type": "code",
   "execution_count": 11,
   "id": "3d1839b4",
   "metadata": {},
   "outputs": [],
   "source": [
    "# defining the space\n",
    "fspace = {\n",
    "    'learning_rate' : hp.uniform('learning_rate', 0.00005, 0.01),\n",
    "    'epoches' : hp.choice('epoches',np.arange(500,5000,250, dtype=int)),\n",
    "    'batch_size': hp.choice('batch_size',np.arange(64,512,32, dtype=int)),\n",
    "    'dim': hp.choice('dim',np.arange(128,512,32, dtype=int)),\n",
    "    'step_size': hp.choice('step_size',np.arange(100,500,50, dtype=int)),\n",
    "    'drop': hp.quniform('drop', 0.1, 0.3, 0.05),\n",
    "    'gammas': hp.quniform('gammas', 0.5, 0.9, 0.05),\n",
    "    'lambdaRec' : hp.quniform('lambdaRec', 0.001, 1, 0.005),\n",
    "    'lambdaKI' : hp.quniform('lambdaKI', 0.001, 1, 0.005),\n",
    "    'lambdaL2' : hp.quniform('lambdaL2', 0.005, 0.5, 0.005)\n",
    "}"
   ]
  },
  {
   "cell_type": "code",
   "execution_count": 12,
   "id": "567c8590",
   "metadata": {},
   "outputs": [],
   "source": [
    "def objective(fspace, sampleInfo, cmap,device):\n",
    "    model_params = {\n",
    "        \"learning_rate\" : fspace['learning_rate'],\n",
    "        \"epoches\" : int(fspace['epoches']),\n",
    "        \"batch_size\" : int(fspace['batch_size']),\n",
    "        \"dim\" : int(fspace['dim']),\n",
    "        \"step_size\" : int(fspace['step_size']),\n",
    "        \"drop\" : fspace['drop'],\n",
    "        \"gammas\" : fspace['gammas'],\n",
    "        \"lambdaRec\" : fspace['lambdaRec'],\n",
    "        \"lambdaKI\" : fspace['lambdaKI'],\n",
    "        \"lambdaL2\" : fspace['lambdaL2']\n",
    "        }\n",
    "    valR2 = []\n",
    "    for i in range(10):\n",
    "        # Network\n",
    "        encoder = Encoder(in_channel=gene_size, num_hidden_layers=4, latent_dim=model_params[\"dim\"],dropRate=model_params[\"drop\"], activation=torch.nn.ELU())\n",
    "        decoder = Decoder(latent_dim=model_params[\"dim\"], num_hidden_layers=4, out_dim=gene_size,dropRate=model_params[\"drop\"], activation=torch.nn.ELU())\n",
    "        autoencoder = VAE(encoder,decoder,device)\n",
    "        autoencoder = autoencoder.to(device)\n",
    "        trainInfo = sampleInfo.sample(frac=0.8)\n",
    "        valInfo = sampleInfo.drop(trainInfo.index)\n",
    "        cmap_train = cmap.loc[trainInfo.sig_id,:]\n",
    "        cmap_val = cmap.loc[valInfo.sig_id,:]\n",
    "        xtrain = torch.tensor(cmap_train.values).float().to(device)\n",
    "        xval = torch.tensor(cmap_val.values).float().to(device)\n",
    "    \n",
    "        optimizer = torch.optim.Adam(autoencoder.parameters(), lr= model_params[\"learning_rate\"], weight_decay=0)\n",
    "        scheduler = torch.optim.lr_scheduler.StepLR(optimizer,step_size=model_params[\"step_size\"],gamma=model_params[\"gammas\"])\n",
    "\n",
    "        N = xtrain.shape[0]\n",
    "    \n",
    "        for e in range(0, model_params[\"epoches\"]):\n",
    "            autoencoder.train()\n",
    "            trainloader = getSamples(N, model_params[\"batch_size\"])\n",
    "            for dataIndex in trainloader:\n",
    "                optimizer.zero_grad()\n",
    "                dataIn = xtrain[dataIndex, :].view(len(dataIndex), xtrain.shape[1])\n",
    "        \n",
    "                z  = autoencoder.encoder(dataIn)\n",
    "                y_pred = autoencoder.decoder(z)\n",
    "                #true_samples = torch.autograd.Variable(torch.randn(z.shape[0], z.shape[1]), requires_grad=False)\n",
    "                #true_samples = true_samples.to(device)\n",
    "            \n",
    "            \n",
    "                #fitLoss = torch.mean(torch.sum((y_pred - dataIn)**2,dim=1)) + compute_mmd(true_samples,z)\n",
    "                fitLoss = model_params['lambdaRec'] * torch.mean(torch.sum(torch.square(y_pred - dataIn),dim=1)) + model_params['lambdaKI'] * autoencoder.encoder.kl\n",
    "\n",
    "                L2Loss = autoencoder.L2Regularization(model_params['lambdaL2'])\n",
    "            \n",
    "                loss = fitLoss + L2Loss\n",
    "\n",
    "                loss.backward()\n",
    "\n",
    "                optimizer.step()\n",
    "        \n",
    "                r2 = r_square(y_pred.detach().flatten(), dataIn.detach().flatten())\n",
    "            scheduler.step()\n",
    "        autoencoder.eval()\n",
    "        z_latent , xhat = autoencoder(xval)\n",
    "        r2 = r_square(xhat.detach().flatten(), xval.detach().flatten())\n",
    "        valR2.append(r2.item())\n",
    "        torch.cuda.empty_cache()\n",
    "    meanR2 = np.mean(valR2)\n",
    "    return {'loss': -meanR2 ,  'status': STATUS_OK}"
   ]
  },
  {
   "cell_type": "code",
   "execution_count": 13,
   "id": "024a9e21",
   "metadata": {},
   "outputs": [],
   "source": [
    "fmin_objective = partial(objective, sampleInfo = sampleInfo, cmap = cmap, device = device)"
   ]
  },
  {
   "cell_type": "code",
   "execution_count": 14,
   "id": "3eb5b64a",
   "metadata": {},
   "outputs": [],
   "source": [
    "import pickle"
   ]
  },
  {
   "cell_type": "code",
   "execution_count": 15,
   "id": "d3191851",
   "metadata": {},
   "outputs": [],
   "source": [
    "def run_trials():\n",
    "    \n",
    "    import pickle\n",
    "\n",
    "    trials_step = 100  # how many additional trials to do after loading saved trials. 1 = save after iteration\n",
    "    max_trials = 3  # initial max_trials. put something small to not have to wait\n",
    "\n",
    "    \n",
    "    try:  # try to load an already saved trials object, and increase the max\n",
    "        trials = pickle.load(open(\"my_model.hyperopt\", \"rb\"))\n",
    "        print(\"Found saved Trials! Loading...\")\n",
    "        max_trials = len(trials.trials) + trials_step\n",
    "        print(\"Rerunning from {} trials to {} (+{}) trials\".format(len(trials.trials), max_trials, trials_step))\n",
    "    except:  # create a new trials object and start searching\n",
    "        trials = Trials()\n",
    "\n",
    "    best = fmin(fn = fmin_objective, space = fspace, algo=tpe.suggest, max_evals=max_trials, trials=trials)\n",
    "\n",
    "    print(\"Best:\", best)\n",
    "    \n",
    "    # save the trials object\n",
    "    with open(\"my_model.hyperopt\", \"wb\") as f:\n",
    "        pickle.dump(trials, f)\n",
    "    return(trials)"
   ]
  },
  {
   "cell_type": "code",
   "execution_count": 16,
   "id": "d89989d8",
   "metadata": {},
   "outputs": [
    {
     "name": "stdout",
     "output_type": "stream",
     "text": [
      "\r",
      "  0%|                                                                            | 0/3 [00:00<?, ?trial/s, best loss=?]"
     ]
    },
    {
     "name": "stderr",
     "output_type": "stream",
     "text": [
      "job exception: CUDA out of memory. Tried to allocate 196.00 MiB (GPU 0; 6.00 GiB total capacity; 3.92 GiB already allocated; 0 bytes free; 4.34 GiB reserved in total by PyTorch)\n",
      "\n"
     ]
    },
    {
     "name": "stdout",
     "output_type": "stream",
     "text": [
      "  0%|                                                                            | 0/3 [56:36<?, ?trial/s, best loss=?]\n"
     ]
    },
    {
     "ename": "RuntimeError",
     "evalue": "CUDA out of memory. Tried to allocate 196.00 MiB (GPU 0; 6.00 GiB total capacity; 3.92 GiB already allocated; 0 bytes free; 4.34 GiB reserved in total by PyTorch)",
     "output_type": "error",
     "traceback": [
      "\u001b[1;31m---------------------------------------------------------------------------\u001b[0m",
      "\u001b[1;31mRuntimeError\u001b[0m                              Traceback (most recent call last)",
      "\u001b[1;32m<ipython-input-16-e0895b529f7d>\u001b[0m in \u001b[0;36m<module>\u001b[1;34m\u001b[0m\n\u001b[1;32m----> 1\u001b[1;33m \u001b[0mtrials\u001b[0m \u001b[1;33m=\u001b[0m \u001b[0mrun_trials\u001b[0m\u001b[1;33m(\u001b[0m\u001b[1;33m)\u001b[0m\u001b[1;33m\u001b[0m\u001b[1;33m\u001b[0m\u001b[0m\n\u001b[0m",
      "\u001b[1;32m<ipython-input-15-efc14cba41f8>\u001b[0m in \u001b[0;36mrun_trials\u001b[1;34m()\u001b[0m\n\u001b[0;32m     15\u001b[0m         \u001b[0mtrials\u001b[0m \u001b[1;33m=\u001b[0m \u001b[0mTrials\u001b[0m\u001b[1;33m(\u001b[0m\u001b[1;33m)\u001b[0m\u001b[1;33m\u001b[0m\u001b[1;33m\u001b[0m\u001b[0m\n\u001b[0;32m     16\u001b[0m \u001b[1;33m\u001b[0m\u001b[0m\n\u001b[1;32m---> 17\u001b[1;33m     \u001b[0mbest\u001b[0m \u001b[1;33m=\u001b[0m \u001b[0mfmin\u001b[0m\u001b[1;33m(\u001b[0m\u001b[0mfn\u001b[0m \u001b[1;33m=\u001b[0m \u001b[0mfmin_objective\u001b[0m\u001b[1;33m,\u001b[0m \u001b[0mspace\u001b[0m \u001b[1;33m=\u001b[0m \u001b[0mfspace\u001b[0m\u001b[1;33m,\u001b[0m \u001b[0malgo\u001b[0m\u001b[1;33m=\u001b[0m\u001b[0mtpe\u001b[0m\u001b[1;33m.\u001b[0m\u001b[0msuggest\u001b[0m\u001b[1;33m,\u001b[0m \u001b[0mmax_evals\u001b[0m\u001b[1;33m=\u001b[0m\u001b[0mmax_trials\u001b[0m\u001b[1;33m,\u001b[0m \u001b[0mtrials\u001b[0m\u001b[1;33m=\u001b[0m\u001b[0mtrials\u001b[0m\u001b[1;33m)\u001b[0m\u001b[1;33m\u001b[0m\u001b[1;33m\u001b[0m\u001b[0m\n\u001b[0m\u001b[0;32m     18\u001b[0m \u001b[1;33m\u001b[0m\u001b[0m\n\u001b[0;32m     19\u001b[0m     \u001b[0mprint\u001b[0m\u001b[1;33m(\u001b[0m\u001b[1;34m\"Best:\"\u001b[0m\u001b[1;33m,\u001b[0m \u001b[0mbest\u001b[0m\u001b[1;33m)\u001b[0m\u001b[1;33m\u001b[0m\u001b[1;33m\u001b[0m\u001b[0m\n",
      "\u001b[1;32m~\\Anaconda3\\lib\\site-packages\\hyperopt\\fmin.py\u001b[0m in \u001b[0;36mfmin\u001b[1;34m(fn, space, algo, max_evals, timeout, loss_threshold, trials, rstate, allow_trials_fmin, pass_expr_memo_ctrl, catch_eval_exceptions, verbose, return_argmin, points_to_evaluate, max_queue_len, show_progressbar, early_stop_fn, trials_save_file)\u001b[0m\n\u001b[0;32m    505\u001b[0m \u001b[1;33m\u001b[0m\u001b[0m\n\u001b[0;32m    506\u001b[0m     \u001b[1;32mif\u001b[0m \u001b[0mallow_trials_fmin\u001b[0m \u001b[1;32mand\u001b[0m \u001b[0mhasattr\u001b[0m\u001b[1;33m(\u001b[0m\u001b[0mtrials\u001b[0m\u001b[1;33m,\u001b[0m \u001b[1;34m\"fmin\"\u001b[0m\u001b[1;33m)\u001b[0m\u001b[1;33m:\u001b[0m\u001b[1;33m\u001b[0m\u001b[1;33m\u001b[0m\u001b[0m\n\u001b[1;32m--> 507\u001b[1;33m         return trials.fmin(\n\u001b[0m\u001b[0;32m    508\u001b[0m             \u001b[0mfn\u001b[0m\u001b[1;33m,\u001b[0m\u001b[1;33m\u001b[0m\u001b[1;33m\u001b[0m\u001b[0m\n\u001b[0;32m    509\u001b[0m             \u001b[0mspace\u001b[0m\u001b[1;33m,\u001b[0m\u001b[1;33m\u001b[0m\u001b[1;33m\u001b[0m\u001b[0m\n",
      "\u001b[1;32m~\\Anaconda3\\lib\\site-packages\\hyperopt\\base.py\u001b[0m in \u001b[0;36mfmin\u001b[1;34m(self, fn, space, algo, max_evals, timeout, loss_threshold, max_queue_len, rstate, verbose, pass_expr_memo_ctrl, catch_eval_exceptions, return_argmin, show_progressbar, early_stop_fn, trials_save_file)\u001b[0m\n\u001b[0;32m    680\u001b[0m         \u001b[1;32mfrom\u001b[0m \u001b[1;33m.\u001b[0m\u001b[0mfmin\u001b[0m \u001b[1;32mimport\u001b[0m \u001b[0mfmin\u001b[0m\u001b[1;33m\u001b[0m\u001b[1;33m\u001b[0m\u001b[0m\n\u001b[0;32m    681\u001b[0m \u001b[1;33m\u001b[0m\u001b[0m\n\u001b[1;32m--> 682\u001b[1;33m         return fmin(\n\u001b[0m\u001b[0;32m    683\u001b[0m             \u001b[0mfn\u001b[0m\u001b[1;33m,\u001b[0m\u001b[1;33m\u001b[0m\u001b[1;33m\u001b[0m\u001b[0m\n\u001b[0;32m    684\u001b[0m             \u001b[0mspace\u001b[0m\u001b[1;33m,\u001b[0m\u001b[1;33m\u001b[0m\u001b[1;33m\u001b[0m\u001b[0m\n",
      "\u001b[1;32m~\\Anaconda3\\lib\\site-packages\\hyperopt\\fmin.py\u001b[0m in \u001b[0;36mfmin\u001b[1;34m(fn, space, algo, max_evals, timeout, loss_threshold, trials, rstate, allow_trials_fmin, pass_expr_memo_ctrl, catch_eval_exceptions, verbose, return_argmin, points_to_evaluate, max_queue_len, show_progressbar, early_stop_fn, trials_save_file)\u001b[0m\n\u001b[0;32m    551\u001b[0m \u001b[1;33m\u001b[0m\u001b[0m\n\u001b[0;32m    552\u001b[0m     \u001b[1;31m# next line is where the fmin is actually executed\u001b[0m\u001b[1;33m\u001b[0m\u001b[1;33m\u001b[0m\u001b[1;33m\u001b[0m\u001b[0m\n\u001b[1;32m--> 553\u001b[1;33m     \u001b[0mrval\u001b[0m\u001b[1;33m.\u001b[0m\u001b[0mexhaust\u001b[0m\u001b[1;33m(\u001b[0m\u001b[1;33m)\u001b[0m\u001b[1;33m\u001b[0m\u001b[1;33m\u001b[0m\u001b[0m\n\u001b[0m\u001b[0;32m    554\u001b[0m \u001b[1;33m\u001b[0m\u001b[0m\n\u001b[0;32m    555\u001b[0m     \u001b[1;32mif\u001b[0m \u001b[0mreturn_argmin\u001b[0m\u001b[1;33m:\u001b[0m\u001b[1;33m\u001b[0m\u001b[1;33m\u001b[0m\u001b[0m\n",
      "\u001b[1;32m~\\Anaconda3\\lib\\site-packages\\hyperopt\\fmin.py\u001b[0m in \u001b[0;36mexhaust\u001b[1;34m(self)\u001b[0m\n\u001b[0;32m    354\u001b[0m     \u001b[1;32mdef\u001b[0m \u001b[0mexhaust\u001b[0m\u001b[1;33m(\u001b[0m\u001b[0mself\u001b[0m\u001b[1;33m)\u001b[0m\u001b[1;33m:\u001b[0m\u001b[1;33m\u001b[0m\u001b[1;33m\u001b[0m\u001b[0m\n\u001b[0;32m    355\u001b[0m         \u001b[0mn_done\u001b[0m \u001b[1;33m=\u001b[0m \u001b[0mlen\u001b[0m\u001b[1;33m(\u001b[0m\u001b[0mself\u001b[0m\u001b[1;33m.\u001b[0m\u001b[0mtrials\u001b[0m\u001b[1;33m)\u001b[0m\u001b[1;33m\u001b[0m\u001b[1;33m\u001b[0m\u001b[0m\n\u001b[1;32m--> 356\u001b[1;33m         \u001b[0mself\u001b[0m\u001b[1;33m.\u001b[0m\u001b[0mrun\u001b[0m\u001b[1;33m(\u001b[0m\u001b[0mself\u001b[0m\u001b[1;33m.\u001b[0m\u001b[0mmax_evals\u001b[0m \u001b[1;33m-\u001b[0m \u001b[0mn_done\u001b[0m\u001b[1;33m,\u001b[0m \u001b[0mblock_until_done\u001b[0m\u001b[1;33m=\u001b[0m\u001b[0mself\u001b[0m\u001b[1;33m.\u001b[0m\u001b[0masynchronous\u001b[0m\u001b[1;33m)\u001b[0m\u001b[1;33m\u001b[0m\u001b[1;33m\u001b[0m\u001b[0m\n\u001b[0m\u001b[0;32m    357\u001b[0m         \u001b[0mself\u001b[0m\u001b[1;33m.\u001b[0m\u001b[0mtrials\u001b[0m\u001b[1;33m.\u001b[0m\u001b[0mrefresh\u001b[0m\u001b[1;33m(\u001b[0m\u001b[1;33m)\u001b[0m\u001b[1;33m\u001b[0m\u001b[1;33m\u001b[0m\u001b[0m\n\u001b[0;32m    358\u001b[0m         \u001b[1;32mreturn\u001b[0m \u001b[0mself\u001b[0m\u001b[1;33m\u001b[0m\u001b[1;33m\u001b[0m\u001b[0m\n",
      "\u001b[1;32m~\\Anaconda3\\lib\\site-packages\\hyperopt\\fmin.py\u001b[0m in \u001b[0;36mrun\u001b[1;34m(self, N, block_until_done)\u001b[0m\n\u001b[0;32m    290\u001b[0m                 \u001b[1;32melse\u001b[0m\u001b[1;33m:\u001b[0m\u001b[1;33m\u001b[0m\u001b[1;33m\u001b[0m\u001b[0m\n\u001b[0;32m    291\u001b[0m                     \u001b[1;31m# -- loop over trials and do the jobs directly\u001b[0m\u001b[1;33m\u001b[0m\u001b[1;33m\u001b[0m\u001b[1;33m\u001b[0m\u001b[0m\n\u001b[1;32m--> 292\u001b[1;33m                     \u001b[0mself\u001b[0m\u001b[1;33m.\u001b[0m\u001b[0mserial_evaluate\u001b[0m\u001b[1;33m(\u001b[0m\u001b[1;33m)\u001b[0m\u001b[1;33m\u001b[0m\u001b[1;33m\u001b[0m\u001b[0m\n\u001b[0m\u001b[0;32m    293\u001b[0m \u001b[1;33m\u001b[0m\u001b[0m\n\u001b[0;32m    294\u001b[0m                 \u001b[0mself\u001b[0m\u001b[1;33m.\u001b[0m\u001b[0mtrials\u001b[0m\u001b[1;33m.\u001b[0m\u001b[0mrefresh\u001b[0m\u001b[1;33m(\u001b[0m\u001b[1;33m)\u001b[0m\u001b[1;33m\u001b[0m\u001b[1;33m\u001b[0m\u001b[0m\n",
      "\u001b[1;32m~\\Anaconda3\\lib\\site-packages\\hyperopt\\fmin.py\u001b[0m in \u001b[0;36mserial_evaluate\u001b[1;34m(self, N)\u001b[0m\n\u001b[0;32m    168\u001b[0m                 \u001b[0mctrl\u001b[0m \u001b[1;33m=\u001b[0m \u001b[0mbase\u001b[0m\u001b[1;33m.\u001b[0m\u001b[0mCtrl\u001b[0m\u001b[1;33m(\u001b[0m\u001b[0mself\u001b[0m\u001b[1;33m.\u001b[0m\u001b[0mtrials\u001b[0m\u001b[1;33m,\u001b[0m \u001b[0mcurrent_trial\u001b[0m\u001b[1;33m=\u001b[0m\u001b[0mtrial\u001b[0m\u001b[1;33m)\u001b[0m\u001b[1;33m\u001b[0m\u001b[1;33m\u001b[0m\u001b[0m\n\u001b[0;32m    169\u001b[0m                 \u001b[1;32mtry\u001b[0m\u001b[1;33m:\u001b[0m\u001b[1;33m\u001b[0m\u001b[1;33m\u001b[0m\u001b[0m\n\u001b[1;32m--> 170\u001b[1;33m                     \u001b[0mresult\u001b[0m \u001b[1;33m=\u001b[0m \u001b[0mself\u001b[0m\u001b[1;33m.\u001b[0m\u001b[0mdomain\u001b[0m\u001b[1;33m.\u001b[0m\u001b[0mevaluate\u001b[0m\u001b[1;33m(\u001b[0m\u001b[0mspec\u001b[0m\u001b[1;33m,\u001b[0m \u001b[0mctrl\u001b[0m\u001b[1;33m)\u001b[0m\u001b[1;33m\u001b[0m\u001b[1;33m\u001b[0m\u001b[0m\n\u001b[0m\u001b[0;32m    171\u001b[0m                 \u001b[1;32mexcept\u001b[0m \u001b[0mException\u001b[0m \u001b[1;32mas\u001b[0m \u001b[0me\u001b[0m\u001b[1;33m:\u001b[0m\u001b[1;33m\u001b[0m\u001b[1;33m\u001b[0m\u001b[0m\n\u001b[0;32m    172\u001b[0m                     \u001b[0mlogger\u001b[0m\u001b[1;33m.\u001b[0m\u001b[0merror\u001b[0m\u001b[1;33m(\u001b[0m\u001b[1;34m\"job exception: %s\"\u001b[0m \u001b[1;33m%\u001b[0m \u001b[0mstr\u001b[0m\u001b[1;33m(\u001b[0m\u001b[0me\u001b[0m\u001b[1;33m)\u001b[0m\u001b[1;33m)\u001b[0m\u001b[1;33m\u001b[0m\u001b[1;33m\u001b[0m\u001b[0m\n",
      "\u001b[1;32m~\\Anaconda3\\lib\\site-packages\\hyperopt\\base.py\u001b[0m in \u001b[0;36mevaluate\u001b[1;34m(self, config, ctrl, attach_attachments)\u001b[0m\n\u001b[0;32m    905\u001b[0m                 \u001b[0mprint_node_on_error\u001b[0m\u001b[1;33m=\u001b[0m\u001b[0mself\u001b[0m\u001b[1;33m.\u001b[0m\u001b[0mrec_eval_print_node_on_error\u001b[0m\u001b[1;33m,\u001b[0m\u001b[1;33m\u001b[0m\u001b[1;33m\u001b[0m\u001b[0m\n\u001b[0;32m    906\u001b[0m             )\n\u001b[1;32m--> 907\u001b[1;33m             \u001b[0mrval\u001b[0m \u001b[1;33m=\u001b[0m \u001b[0mself\u001b[0m\u001b[1;33m.\u001b[0m\u001b[0mfn\u001b[0m\u001b[1;33m(\u001b[0m\u001b[0mpyll_rval\u001b[0m\u001b[1;33m)\u001b[0m\u001b[1;33m\u001b[0m\u001b[1;33m\u001b[0m\u001b[0m\n\u001b[0m\u001b[0;32m    908\u001b[0m \u001b[1;33m\u001b[0m\u001b[0m\n\u001b[0;32m    909\u001b[0m         \u001b[1;32mif\u001b[0m \u001b[0misinstance\u001b[0m\u001b[1;33m(\u001b[0m\u001b[0mrval\u001b[0m\u001b[1;33m,\u001b[0m \u001b[1;33m(\u001b[0m\u001b[0mfloat\u001b[0m\u001b[1;33m,\u001b[0m \u001b[0mint\u001b[0m\u001b[1;33m,\u001b[0m \u001b[0mnp\u001b[0m\u001b[1;33m.\u001b[0m\u001b[0mnumber\u001b[0m\u001b[1;33m)\u001b[0m\u001b[1;33m)\u001b[0m\u001b[1;33m:\u001b[0m\u001b[1;33m\u001b[0m\u001b[1;33m\u001b[0m\u001b[0m\n",
      "\u001b[1;32m<ipython-input-12-6bcfc94225d9>\u001b[0m in \u001b[0;36mobjective\u001b[1;34m(fspace, sampleInfo, cmap, device)\u001b[0m\n\u001b[0;32m     51\u001b[0m                 \u001b[0mloss\u001b[0m \u001b[1;33m=\u001b[0m \u001b[0mfitLoss\u001b[0m \u001b[1;33m+\u001b[0m \u001b[0mL2Loss\u001b[0m\u001b[1;33m\u001b[0m\u001b[1;33m\u001b[0m\u001b[0m\n\u001b[0;32m     52\u001b[0m \u001b[1;33m\u001b[0m\u001b[0m\n\u001b[1;32m---> 53\u001b[1;33m                 \u001b[0mloss\u001b[0m\u001b[1;33m.\u001b[0m\u001b[0mbackward\u001b[0m\u001b[1;33m(\u001b[0m\u001b[1;33m)\u001b[0m\u001b[1;33m\u001b[0m\u001b[1;33m\u001b[0m\u001b[0m\n\u001b[0m\u001b[0;32m     54\u001b[0m \u001b[1;33m\u001b[0m\u001b[0m\n\u001b[0;32m     55\u001b[0m                 \u001b[0moptimizer\u001b[0m\u001b[1;33m.\u001b[0m\u001b[0mstep\u001b[0m\u001b[1;33m(\u001b[0m\u001b[1;33m)\u001b[0m\u001b[1;33m\u001b[0m\u001b[1;33m\u001b[0m\u001b[0m\n",
      "\u001b[1;32m~\\Anaconda3\\lib\\site-packages\\torch\\_tensor.py\u001b[0m in \u001b[0;36mbackward\u001b[1;34m(self, gradient, retain_graph, create_graph, inputs)\u001b[0m\n\u001b[0;32m    253\u001b[0m                 \u001b[0mcreate_graph\u001b[0m\u001b[1;33m=\u001b[0m\u001b[0mcreate_graph\u001b[0m\u001b[1;33m,\u001b[0m\u001b[1;33m\u001b[0m\u001b[1;33m\u001b[0m\u001b[0m\n\u001b[0;32m    254\u001b[0m                 inputs=inputs)\n\u001b[1;32m--> 255\u001b[1;33m         \u001b[0mtorch\u001b[0m\u001b[1;33m.\u001b[0m\u001b[0mautograd\u001b[0m\u001b[1;33m.\u001b[0m\u001b[0mbackward\u001b[0m\u001b[1;33m(\u001b[0m\u001b[0mself\u001b[0m\u001b[1;33m,\u001b[0m \u001b[0mgradient\u001b[0m\u001b[1;33m,\u001b[0m \u001b[0mretain_graph\u001b[0m\u001b[1;33m,\u001b[0m \u001b[0mcreate_graph\u001b[0m\u001b[1;33m,\u001b[0m \u001b[0minputs\u001b[0m\u001b[1;33m=\u001b[0m\u001b[0minputs\u001b[0m\u001b[1;33m)\u001b[0m\u001b[1;33m\u001b[0m\u001b[1;33m\u001b[0m\u001b[0m\n\u001b[0m\u001b[0;32m    256\u001b[0m \u001b[1;33m\u001b[0m\u001b[0m\n\u001b[0;32m    257\u001b[0m     \u001b[1;32mdef\u001b[0m \u001b[0mregister_hook\u001b[0m\u001b[1;33m(\u001b[0m\u001b[0mself\u001b[0m\u001b[1;33m,\u001b[0m \u001b[0mhook\u001b[0m\u001b[1;33m)\u001b[0m\u001b[1;33m:\u001b[0m\u001b[1;33m\u001b[0m\u001b[1;33m\u001b[0m\u001b[0m\n",
      "\u001b[1;32m~\\Anaconda3\\lib\\site-packages\\torch\\autograd\\__init__.py\u001b[0m in \u001b[0;36mbackward\u001b[1;34m(tensors, grad_tensors, retain_graph, create_graph, grad_variables, inputs)\u001b[0m\n\u001b[0;32m    145\u001b[0m         \u001b[0mretain_graph\u001b[0m \u001b[1;33m=\u001b[0m \u001b[0mcreate_graph\u001b[0m\u001b[1;33m\u001b[0m\u001b[1;33m\u001b[0m\u001b[0m\n\u001b[0;32m    146\u001b[0m \u001b[1;33m\u001b[0m\u001b[0m\n\u001b[1;32m--> 147\u001b[1;33m     Variable._execution_engine.run_backward(\n\u001b[0m\u001b[0;32m    148\u001b[0m         \u001b[0mtensors\u001b[0m\u001b[1;33m,\u001b[0m \u001b[0mgrad_tensors_\u001b[0m\u001b[1;33m,\u001b[0m \u001b[0mretain_graph\u001b[0m\u001b[1;33m,\u001b[0m \u001b[0mcreate_graph\u001b[0m\u001b[1;33m,\u001b[0m \u001b[0minputs\u001b[0m\u001b[1;33m,\u001b[0m\u001b[1;33m\u001b[0m\u001b[1;33m\u001b[0m\u001b[0m\n\u001b[0;32m    149\u001b[0m         allow_unreachable=True, accumulate_grad=True)  # allow_unreachable flag\n",
      "\u001b[1;31mRuntimeError\u001b[0m: CUDA out of memory. Tried to allocate 196.00 MiB (GPU 0; 6.00 GiB total capacity; 3.92 GiB already allocated; 0 bytes free; 4.34 GiB reserved in total by PyTorch)"
     ]
    }
   ],
   "source": [
    "trials = run_trials()"
   ]
  },
  {
   "cell_type": "code",
   "execution_count": null,
   "id": "487074ec",
   "metadata": {},
   "outputs": [],
   "source": []
  }
 ],
 "metadata": {
  "kernelspec": {
   "display_name": "Python 3",
   "language": "python",
   "name": "python3"
  },
  "language_info": {
   "codemirror_mode": {
    "name": "ipython",
    "version": 3
   },
   "file_extension": ".py",
   "mimetype": "text/x-python",
   "name": "python",
   "nbconvert_exporter": "python",
   "pygments_lexer": "ipython3",
   "version": "3.8.8"
  }
 },
 "nbformat": 4,
 "nbformat_minor": 5
}
